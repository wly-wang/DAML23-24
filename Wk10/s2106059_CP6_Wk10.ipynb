{
 "cells": [
  {
   "cell_type": "code",
   "execution_count": 1,
   "metadata": {},
   "outputs": [],
   "source": [
    "#==========================#\n",
    "# Import relevant packages #\n",
    "#==========================#\n",
    "\n",
    "\n",
    "import math\n",
    "import numpy as np\n",
    "import matplotlib.pyplot as plt\n",
    "from scipy.integrate import quad\n",
    "from scipy.special import erfinv\n",
    "from iminuit import Minuit\n",
    "from scipy.stats import chi2\n",
    "from scipy.stats import binom\n",
    "%matplotlib inline\n",
    "from scipy.stats import poisson"
   ]
  },
  {
   "cell_type": "markdown",
   "metadata": {},
   "source": [
    "## Functions"
   ]
  },
  {
   "cell_type": "code",
   "execution_count": 2,
   "metadata": {},
   "outputs": [],
   "source": [
    "#——————————————————————————————————————————————————————#\n",
    "# Find maximum value of the distribution within limits #\n",
    "#——————————————————————————————————————————————————————#\n",
    "\n",
    "def find_max(func, low_limit, high_limit, grid=100000):\n",
    "    x = np.linspace(low_limit, high_limit, num=grid, endpoint=True)\n",
    "    y = func(x)\n",
    "    return y.max()"
   ]
  },
  {
   "cell_type": "code",
   "execution_count": 3,
   "metadata": {},
   "outputs": [],
   "source": [
    "#——————————————————————————————————————————————————#\n",
    "# A function used to show result of minuit fitting #\n",
    "#——————————————————————————————————————————————————#\n",
    "def showIminuitResult(m, init_params, params_units):\n",
    "    #averageList = {}\n",
    "    valDict = m.values\n",
    "    errDict = m.errors\n",
    "    paramNames = list(init_params.keys())\n",
    "    print('\\nMinuit fit results are:')\n",
    "    for i, pn in enumerate(paramNames):\n",
    "        print(f'\\t{paramNames[i]}: {valDict[pn]:.3g}\\u00b1{errDict[pn]:.2g} {params_units[i]}')\n",
    "    print('\\n')"
   ]
  },
  {
   "cell_type": "markdown",
   "metadata": {},
   "source": [
    "## Different individual PDF Classes"
   ]
  },
  {
   "cell_type": "code",
   "execution_count": 4,
   "metadata": {},
   "outputs": [],
   "source": [
    "#==================================================================#\n",
    "# Create an Gaussian class (used to model the signal distribution) #\n",
    "#==================================================================#\n",
    "\n",
    "\n",
    "class Gaussian(object):\n",
    "\n",
    "    #————————————————————————————————————————————————————————#\n",
    "    # Class constructor | initialize an attribute mass array #\n",
    "    #————————————————————————————————————————————————————————#\n",
    "\n",
    "    def __init__(self, mean, sigma, loBound, highBound):\n",
    "   \n",
    "        self.loBound = loBound\n",
    "        self.highBound = highBound\n",
    "        self.mean = mean\n",
    "        self.sigma = sigma\n",
    "\n",
    "        #initialize an mass list used to store mass values\n",
    "        self.mass = []\n",
    "    \n",
    "    \n",
    "    #———————————————————————————————#\n",
    "    # Evaluation method (normalize) #\n",
    "    #———————————————————————————————#\n",
    "\n",
    "    def evaluate(self, x):\n",
    "        return (1/(self.sigma*np.sqrt(2.*np.pi))) * np.exp( -(x-self.mean)**2/(2.*self.sigma**2) )\n",
    "    \n",
    "\n",
    "    #————————————————————————————————————————————————#\n",
    "    # Evaluate the integral of the pdf within limits #\n",
    "    #————————————————————————————————————————————————#\n",
    "\n",
    "    def integrate(self, loBound, highBound):\n",
    "        integral_result, integral_err = quad(self.evaluate, loBound, highBound)\n",
    "        return integral_result\n",
    "    \n",
    "    \n",
    "    #————————————————————————————————————————————————————————————————————#\n",
    "    # Function that generate a single random vars using np.random.normal #\n",
    "    # method generated var is returned and appended to the mass list     #\n",
    "    #————————————————————————————————————————————————————————————————————#\n",
    "\n",
    "    def next(self):\n",
    "        x = np.random.normal(self.mean, self.sigma, size=1).item()\n",
    "        self.mass.append(x)\n",
    "        return x\n",
    "    \n",
    "\n",
    "    #——————————————————————————————————————————————————————#\n",
    "    # A function for setting passed vars as pdf parameters #\n",
    "    #——————————————————————————————————————————————————————#\n",
    "\n",
    "    def setParameters(self, mean, sigma):\n",
    "        self.mean = mean\n",
    "        self.sigma = sigma"
   ]
  },
  {
   "cell_type": "code",
   "execution_count": 5,
   "metadata": {},
   "outputs": [],
   "source": [
    "#=========================================================================#\n",
    "# Create an Exponential class (used to model the background distribution) #\n",
    "#=========================================================================#\n",
    "\n",
    "\n",
    "class Exponential(object):\n",
    "    \n",
    "    # Constructor\n",
    "    def __init__(self, loBound, hiBound, decayConst):\n",
    "        self.loBound = loBound\n",
    "        self.hiBound = hiBound\n",
    "        self.decayConst = decayConst\n",
    "        self.max = find_max(self.evaluate, self.loBound, self.hiBound)\n",
    "    \n",
    "    # Set parameters\n",
    "    def setParameters(self, decayConst):\n",
    "        self.decayConst = decayConst\n",
    "    \n",
    "     # Returns max value of function\n",
    "    def maxVal(self) :\n",
    "        return self.max\n",
    "\n",
    "    # Evaluate method (normalized)\n",
    "    def evaluate(self, t):\n",
    "        part1 = np.exp(-t/self.decayConst)\n",
    "        norm1 = self.decayConst*(1-np.exp(-self.hiBound/self.decayConst))\n",
    "        return part1/norm1 "
   ]
  },
  {
   "cell_type": "code",
   "execution_count": 6,
   "metadata": {},
   "outputs": [],
   "source": [
    "#====================================================================================#\n",
    "# Create a second order polynomial class (used to model the background distribution) #\n",
    "#====================================================================================#\n",
    "\n",
    "class SecondOrderPoly(object):\n",
    "    # Constructor\n",
    "    def __init__(self, loBound, hiBound, a, b, c):\n",
    "        self.loBound = loBound\n",
    "        self.hiBound = hiBound\n",
    "        self.a = a\n",
    "        self.b = b\n",
    "        self.c = c\n",
    "\n",
    "    def setParameters(self, a, b, c):\n",
    "        self.a = a\n",
    "        self.b = b\n",
    "        self.c = c\n",
    "\n",
    "    #————————————————————————————————————————————————#\n",
    "    # Evaluate the integral of the pdf within limits #\n",
    "    #————————————————————————————————————————————————#\n",
    "\n",
    "    def integrate(self, loBound, highBound):\n",
    "        integral_result, integral_err = quad(self.evaluate_unnorm, loBound, highBound)\n",
    "        return integral_result\n",
    "\n",
    "    # calculating normalization factor\n",
    "    def norm_factor(self):\n",
    "    # Define normalization of the second order polynomial\n",
    "        return self.integrate(self.loBound, self.hiBound)\n",
    "  \n",
    "\n",
    "    # Evaluate method (un-normalized)\n",
    "    def evaluate_unnorm(self, x):\n",
    "        return (self.a + self.b*x + self.c*(x**2))\n",
    "    \n",
    "\n",
    "    # Evaluate method (normalized)\n",
    "    def evaluate(self, x):\n",
    "        return (self.evaluate_unnorm(x)/self.norm_factor())"
   ]
  },
  {
   "cell_type": "markdown",
   "metadata": {},
   "source": [
    "## Joint Background + Signal PDF Classes"
   ]
  },
  {
   "cell_type": "code",
   "execution_count": 7,
   "metadata": {},
   "outputs": [],
   "source": [
    "#===========================================================================================#\n",
    "# Create class that generate a function consisting a Gaussian signal and an exponential bkg #\n",
    "#===========================================================================================#\n",
    "\n",
    "\n",
    "class GausSignalWithExpBkg(object):\n",
    "\n",
    "    #———————————————————#\n",
    "    # Class constructor #\n",
    "    #———————————————————#\n",
    "\n",
    "    def __init__(self, loBound, hiBound, bkgFraction, mean, sigma, decayConst):\n",
    "        self.bkgFraction = bkgFraction\n",
    "        self.decayConst = decayConst\n",
    "        self.loBound = loBound\n",
    "        self.hiBound = hiBound\n",
    "\n",
    "        # initialize pdf class to create gaussian signal and an exponential bkg\n",
    "        self.signal = Gaussian(mean, sigma, self.loBound, self.hiBound)\n",
    "        self.bkg = Exponential(self.loBound, self.hiBound, decayConst)\n",
    "\n",
    "\n",
    "    #——————————————————————————————————————————————————————#\n",
    "    # A function for setting passed vars as pdf parameters #\n",
    "    #——————————————————————————————————————————————————————#\n",
    "\n",
    "    def setParameters(self, bkgFraction, mean, sigma, decayConst):\n",
    "        self.bkg.decayConst = decayConst\n",
    "        self.bkgFraction  = bkgFraction\n",
    "        self.signal.mean = mean\n",
    "        self.signal.sigma = sigma\n",
    "\n",
    "\n",
    "    #———————————————————#\n",
    "    # Evaluation method #\n",
    "    #———————————————————#\n",
    "\n",
    "    def evaluate(self, x):\n",
    "        return (1-self.bkgFraction)*self.signal.evaluate(x) + self.bkgFraction*self.bkg.evaluate(x)\n",
    "\n",
    "\n",
    "    #————————————————————————————————————————————————#\n",
    "    # Evaluate the integral of the pdf within limits #\n",
    "    #————————————————————————————————————————————————#\n",
    "\n",
    "    def integrate(self, loBound, highBound):\n",
    "        integral_result, integral_err = quad(self.evaluate, loBound, highBound)\n",
    "        return integral_result\n"
   ]
  },
  {
   "cell_type": "code",
   "execution_count": 8,
   "metadata": {},
   "outputs": [],
   "source": [
    "#====================================================================================================#\n",
    "# Create class that generate a function consisting a Gaussian signal and an 2nd order polynomial bkg #\n",
    "#====================================================================================================#\n",
    "\n",
    "\n",
    "class GausSignalWithSecondOrderPolyBkg(object):\n",
    "\n",
    "    #———————————————————#\n",
    "    # Class constructor #\n",
    "    #———————————————————#\n",
    "\n",
    "    def __init__(self, loBound, hiBound, bkgFraction, mean, sigma, a, b, c):\n",
    "        self.bkgFraction = bkgFraction\n",
    "        self.loBound = loBound\n",
    "        self.hiBound = hiBound\n",
    "\n",
    "        # initialize pdf class to create gaussian signal and an exponential bkg\n",
    "        self.signal = Gaussian(mean, sigma, self.loBound, self.hiBound)\n",
    "        self.bkg = SecondOrderPoly(self.loBound, self.hiBound, a, b, c)\n",
    "\n",
    "\n",
    "    #——————————————————————————————————————————————————————#\n",
    "    # A function for setting passed vars as pdf parameters #\n",
    "    #——————————————————————————————————————————————————————#\n",
    "\n",
    "    def setParameters(self, bkgFraction, mean, sigma, a, b, c):\n",
    "        self.bkgFraction = bkgFraction\n",
    "        self.signal.mean = mean\n",
    "        self.signal.sigma = sigma\n",
    "        self.bkg.a = a\n",
    "        self.bkg.b = b\n",
    "        self.bkg.c = c\n",
    "\n",
    "\n",
    "    #———————————————————#\n",
    "    # Evaluation method #\n",
    "    #———————————————————#\n",
    "\n",
    "    def evaluate(self, x):\n",
    "        return (1-self.bkgFraction)*self.signal.evaluate(x) + self.bkgFraction*self.bkg.evaluate(x)\n",
    "    \n",
    "    #————————————————————————————————————————————————#\n",
    "    # Evaluate the integral of the pdf within limits #\n",
    "    #————————————————————————————————————————————————#\n",
    "\n",
    "    def integrate(self, loBound, highBound):\n",
    "        integral_result, integral_err = quad(self.evaluate, loBound, highBound)\n",
    "        return integral_result"
   ]
  },
  {
   "cell_type": "markdown",
   "metadata": {},
   "source": [
    "## Optimizer Class (Negative Log-Likelihood)"
   ]
  },
  {
   "cell_type": "code",
   "execution_count": 9,
   "metadata": {},
   "outputs": [],
   "source": [
    "#==========================================================================================#\n",
    "# Create class for negative log-likelihood minimization statistic used for fitting the pdf #\n",
    "#==========================================================================================#\n",
    "\n",
    "class NegativeLLcalculator(object):\n",
    "    \n",
    "    def __init__(self, pdf, data):\n",
    "        self.pdf = pdf\n",
    "        self.data = data\n",
    "\n",
    "\n",
    "    # function used to update data, mainly for the ability to recycle this class for different fit pdfs\n",
    "    def updateData(self, data):\n",
    "        self.data = data\n",
    "\n",
    "    # Function used to calculate log likelihood\n",
    "    def calc_neg_LL(self):\n",
    "        likelihood = self.pdf.evaluate(self.data)/(self.pdf.integrate(self.pdf.loBound, self.pdf.hiBound))\n",
    "        log_likelihood = np.log(likelihood)\n",
    "        return -log_likelihood.sum()\n",
    "\n",
    "    # To calcualte an NLL from a dataset and a Gaussian signal with exponential background pdf\n",
    "    def evaluateGausSignalWithExpBkg(self, bkgFraction, mean, sigma, decayConst):\n",
    "        nll = 0.\n",
    "        self.pdf.setParameters(bkgFraction, mean, sigma, decayConst)\n",
    "        # here, compute the log likelyhood\n",
    "        return self.calc_neg_LL()\n",
    "    \n",
    "    # To calcualte an NLL from a dataset and a Gaussian signal with 2nd order polynomial background pdf\n",
    "    def evaluateGausSignalWithSecondOrderPolyBkg(self, bkgFraction, mean, sigma, a, b, c):\n",
    "        nll = 0.\n",
    "        self.pdf.setParameters(bkgFraction, mean, sigma, a, b, c)\n",
    "        # here, compute the log likelyhood\n",
    "        return self.calc_neg_LL()\n",
    "\n"
   ]
  },
  {
   "cell_type": "markdown",
   "metadata": {},
   "source": [
    "## Code Execution (Checkpoint 6)\n",
    "\n",
    "### **Part I**"
   ]
  },
  {
   "cell_type": "markdown",
   "metadata": {},
   "source": [
    "Begin by plotting the distribution from the data .txt file."
   ]
  },
  {
   "cell_type": "code",
   "execution_count": 10,
   "metadata": {},
   "outputs": [],
   "source": [
    "#============================#\n",
    "# Load in the data .txt file #\n",
    "#============================#\n",
    "\n",
    "data_evts = np.loadtxt('datafile-higgs.txt')"
   ]
  },
  {
   "cell_type": "code",
   "execution_count": 11,
   "metadata": {},
   "outputs": [
    {
     "data": {
      "image/png": "[encoded data removed]",
      "text/plain": [
       "<Figure size 640x480 with 1 Axes>"
      ]
     },
     "metadata": {},
     "output_type": "display_data"
    }
   ],
   "source": [
    "#===================#\n",
    "# Define Parameters #\n",
    "#===================#\n",
    "\n",
    "loBound = 0.\n",
    "hiBound = 10.\n",
    "n_bins = 100\n",
    "\n",
    "\n",
    "#===========================================#\n",
    "# Plot the data distribution in a histogram #\n",
    "#===========================================#\n",
    "\n",
    "plt.hist(data_evts, n_bins, color='orange')\n",
    "plt.title('Histogram containing 10,000 measurements from a mass distribution from 0 to 10')\n",
    "plt.xlabel('Mass (A.U.)')\n",
    "plt.ylabel('Event Entries')\n",
    "plt.show()"
   ]
  },
  {
   "cell_type": "markdown",
   "metadata": {},
   "source": [
    "### **Part I**\n",
    "\n",
    "The data distribution above contains 10,000 measurements from a mass distribution.\n",
    "\n",
    "The distribution is described by the following:\n",
    "- A fraction $F=0.98$ of events from a background exponential  $\\sim e^{-(\\frac{m}{A})}$ where $A=5$.\n",
    "- A fraction (signal fraction) $(1-F) =0.02$ of a signal Gaussian. \n",
    "- Gaussian mean $M = 2.5$ and width of $\\sigma = 0.2$.\n",
    "- There are only events in the range $[0,10]$."
   ]
  },
  {
   "cell_type": "markdown",
   "metadata": {},
   "source": [
    "With the above in mind, in the code below, we try to fit the data distribution with a signal gaussian and an exponential background by using Minuit. And determine the best fit parameters for A, F, and M, alongside with their statistical uncertainties."
   ]
  },
  {
   "cell_type": "code",
   "execution_count": 12,
   "metadata": {},
   "outputs": [],
   "source": [
    "def partI():\n",
    "\n",
    "    # define the parameters\n",
    "    loBound = 0.\n",
    "    hiBound = 10.\n",
    "    # Define fit parameters in a dictionary\n",
    "    init_params = {\n",
    "        'bkgFraction':              0.98,\n",
    "        'mean':                     2.5,\n",
    "        'sigma':                    0.2,\n",
    "        'decayConst':               5.,   \n",
    "    }\n",
    "\n",
    "\n",
    "    # First initialize the pdf classes for function we use to fit, and the fitting statistics\n",
    "    pdf = GausSignalWithExpBkg(loBound=loBound, hiBound=hiBound, **init_params)\n",
    "    fit_stats = NegativeLLcalculator(pdf, data_evts)\n",
    "\n",
    "    # Initialize iminuit minimizer\n",
    "    minimizer = Minuit(fit_stats.evaluateGausSignalWithExpBkg, **init_params)\n",
    "    minimizer.fixed['sigma'] = True\n",
    "\n",
    "    # Set the error difference to 0.5 (we are using NegativeLL)\n",
    "    minimizer.errordef = 0.5\n",
    "\n",
    "    #Fit for best parameters\n",
    "    mresult = minimizer.migrad()\n",
    "    params_units = ['', '(A.U.)', '(A.U.)', '']\n",
    "    showIminuitResult(minimizer, init_params, params_units)\n",
    "\n",
    "    # Now plot the distribution of data alongside with our fit\n",
    "    x_vals = np.linspace(loBound, hiBound, n_bins, endpoint=True)\n",
    "    plt.hist(data_evts, n_bins, color='orange', label='Data', density=True)\n",
    "    plt.plot(x_vals, (pdf.evaluate(x_vals)/pdf.integrate(loBound, hiBound)), color='blue', label='Fit')\n",
    "    plt.xlabel('Mass (A.U.)')\n",
    "    plt.ylabel('Probability')\n",
    "    plt.legend()\n",
    "    plt.title('Histogram containing 10,000 measurements from a mass distribution from 0 to 10')\n"
   ]
  },
  {
   "cell_type": "code",
   "execution_count": 13,
   "metadata": {},
   "outputs": [
    {
     "name": "stdout",
     "output_type": "stream",
     "text": [
      "\n",
      "Minuit fit results are:\n",
      "\tbkgFraction: 0.98±0.0012 \n",
      "\tmean: 2.5±0.015 (A.U.)\n",
      "\tsigma: 0.2±0.002 (A.U.)\n",
      "\tdecayConst: 5.01±0.031 \n",
      "\n",
      "\n"
     ]
    },
    {
     "data": {
      "image/png": "[encoded data removed]",
      "text/plain": [
       "<Figure size 640x480 with 1 Axes>"
      ]
     },
     "metadata": {},
     "output_type": "display_data"
    }
   ],
   "source": [
    "partI()"
   ]
  },
  {
   "cell_type": "markdown",
   "metadata": {},
   "source": [
    "### **Part II**\n",
    "\n",
    "Now, fit to the same data using the same Gaussian signal model but now using a 2nd order polynomial background model. Similarly as before, by using Minuit minimizer. Then the fitted parameters will be presented all together. With the fitted Gaussian mean being presented with (systematic and statistical error), and presented with a total error. \n",
    "\n",
    "The importance of the systematic error compared to the statistical error for the measurement of mean will be explained as well at the end of this part."
   ]
  },
  {
   "cell_type": "code",
   "execution_count": 14,
   "metadata": {},
   "outputs": [],
   "source": [
    "def partII():\n",
    "    # define the parameters\n",
    "    loBound = 0.\n",
    "    hiBound = 10.\n",
    "    # Define fit parameters in a dictionary\n",
    "    init_params = {\n",
    "        'bkgFraction':              0.98,\n",
    "        'mean':                     2.5,\n",
    "        'sigma':                    0.2,\n",
    "        'a':                        1., \n",
    "        'b':                        -0.16,\n",
    "        'c':                        0.007,\n",
    "    }\n",
    "\n",
    "    # First initialize the pdf classes for function we use to fit, and the fitting statistics\n",
    "    pdf = GausSignalWithSecondOrderPolyBkg(loBound=loBound, hiBound=hiBound, **init_params)\n",
    "    fit_stats = NegativeLLcalculator(pdf, data_evts)\n",
    "\n",
    "    # Initialize iminuit minimizer\n",
    "    minimizer = Minuit(fit_stats.evaluateGausSignalWithSecondOrderPolyBkg, **init_params)\n",
    "    minimizer.fixed['a'] = True\n",
    "\n",
    "    # Set the error difference to 0.5 (we are using NegativeLL)\n",
    "    minimizer.errordef = 0.5\n",
    "\n",
    "    #Fit for best parameters\n",
    "    mresult = minimizer.migrad()\n",
    "    params_units = ['', '(A.U.)', '(A.U.)', '', '(A.U.)','(A.U.^2)']\n",
    "    showIminuitResult(minimizer, init_params, params_units)\n",
    "\n",
    "    # Now plot the distribution of data alongside with our fit\n",
    "    x_vals = np.linspace(loBound, hiBound, n_bins, endpoint=True)\n",
    "    plt.hist(data_evts, n_bins, color='orange', label='Data', density=True)\n",
    "    plt.plot(x_vals, (pdf.evaluate(x_vals)/pdf.integrate(loBound, hiBound)), color='blue', label='Fit')\n",
    "    plt.xlabel('Mass (A.U.)')\n",
    "    plt.ylabel('Probability')\n",
    "    plt.legend()\n",
    "    plt.title('Histogram containing 10,000 measurements from a mass distribution from 0 to 10')\n",
    "\n",
    "    "
   ]
  },
  {
   "cell_type": "code",
   "execution_count": 15,
   "metadata": {},
   "outputs": [
    {
     "name": "stdout",
     "output_type": "stream",
     "text": [
      "\n",
      "Minuit fit results are:\n",
      "\tbkgFraction: 0.983±0.0013 \n",
      "\tmean: 2.5±0.015 (A.U.)\n",
      "\tsigma: 0.175±0.013 (A.U.)\n",
      "\ta: 1±0.01 \n",
      "\tb: -0.158±0.0011 (A.U.)\n",
      "\tc: 0.0073±0.00012 (A.U.^2)\n",
      "\n",
      "\n"
     ]
    },
    {
     "data": {
      "image/png": "[encoded data removed]",
      "text/plain": [
       "<Figure size 640x480 with 1 Axes>"
      ]
     },
     "metadata": {},
     "output_type": "display_data"
    }
   ],
   "source": [
    "partII()"
   ]
  },
  {
   "cell_type": "code",
   "execution_count": null,
   "metadata": {},
   "outputs": [],
   "source": []
  }
 ],
 "metadata": {
  "kernelspec": {
   "display_name": "daml",
   "language": "python",
   "name": "python3"
  },
  "language_info": {
   "codemirror_mode": {
    "name": "ipython",
    "version": 3
   },
   "file_extension": ".py",
   "mimetype": "text/x-python",
   "name": "python",
   "nbconvert_exporter": "python",
   "pygments_lexer": "ipython3",
   "version": "3.11.6"
  }
 },
 "nbformat": 4,
 "nbformat_minor": 2
}
