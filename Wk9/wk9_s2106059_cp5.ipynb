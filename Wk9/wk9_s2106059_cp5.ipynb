{
 "cells": [
  {
   "cell_type": "code",
   "execution_count": 2,
   "metadata": {},
   "outputs": [],
   "source": [
    "#==========================#\n",
    "# Import relevant packages #\n",
    "#==========================#\n",
    "\n",
    "\n",
    "import math\n",
    "import numpy as np\n",
    "import matplotlib.pyplot as plt\n",
    "from scipy.integrate import quad\n",
    "from scipy.special import erfinv\n",
    "from iminuit import Minuit\n",
    "from scipy.stats import chi2\n",
    "from scipy.stats import binom"
   ]
  },
  {
   "cell_type": "markdown",
   "metadata": {},
   "source": [
    "### Functions"
   ]
  },
  {
   "cell_type": "code",
   "execution_count": null,
   "metadata": {},
   "outputs": [],
   "source": [
    "#=======================================================#\n",
    "# Create a function which calculates the time of flight #\n",
    "#=======================================================#\n",
    "\n",
    "\n",
    "def calcToF(L, c, m, p):\n",
    "    return ( (L/c)*np.sqrt(1+((m*c)/p)**2) )"
   ]
  },
  {
   "cell_type": "markdown",
   "metadata": {},
   "source": [
    "### Classes"
   ]
  },
  {
   "cell_type": "code",
   "execution_count": null,
   "metadata": {},
   "outputs": [],
   "source": [
    "#============================#\n",
    "# Create the Gaussian class  #\n",
    "#============================#\n",
    "\n",
    "\n",
    "class Gaussian(object):\n",
    "\n",
    "    #————————————————————————————————————————————————————————#\n",
    "    # Class constructor | initialize an attribute mass array #\n",
    "    #————————————————————————————————————————————————————————#\n",
    "\n",
    "    def __init__(self, mean, sigma, loBound, highBound):\n",
    "   \n",
    "        self.loBound = loBound\n",
    "        self.highBound = highBound\n",
    "        self.mean = mean\n",
    "        self.sigma = sigma\n",
    "        self.loBound_distribution = self.mean - 10.*self.sigma # 10 sigma from the mean, so the range covers the whole distribution\n",
    "        self.hiBound_distribution = self.mean + 10.*self.sigma # 10 sigma from the mean, so the range covers the whole distribution\n",
    "\n",
    "        #initialize an mass list used to store mass values\n",
    "        self.mass = []\n",
    "    \n",
    "    \n",
    "    #——————————————————————————————————#\n",
    "    # Evaluation method (un-normalize) #\n",
    "    #——————————————————————————————————#\n",
    "\n",
    "    def evaluate(self, x):\n",
    "        return (1/(self.sigma*np.sqrt(2.*np.pi))) * np.exp( -(x-self.mean)**2/(2.*self.sigma**2) )\n",
    "    \n",
    "\n",
    "    #————————————————————————————————————————————————#\n",
    "    # Evaluate the integral of the pdf within limits #\n",
    "    #————————————————————————————————————————————————#\n",
    "\n",
    "    def integrateBelow(self, loBound=loBound_distribution, highBound):\n",
    "        integral_result, integral_err = quad(self.evaluate, loBound, highBound)\n",
    "        return integral_result\n",
    "    \n",
    "    def integrateAbove(self, loBound, highBound=hiBound_distribution):\n",
    "        integral_result, integral_err = quad(self.evaluate, loBound, highBound)\n",
    "        return integral_result\n",
    "\n",
    "    #————————————————————————————————————————————————————————————————————#\n",
    "    # Function that generate a single random vars using np.random.normal #\n",
    "    # method generated var is returned and appended to the mass list     #\n",
    "    #————————————————————————————————————————————————————————————————————#\n",
    "\n",
    "    def next(self):\n",
    "        x = np.random.normal(self.mean, self.sigma, size=1).item()\n",
    "        self.mass.append(x)\n",
    "        return x"
   ]
  },
  {
   "cell_type": "code",
   "execution_count": null,
   "metadata": {},
   "outputs": [],
   "source": [
    "#===========================================================================================================================#\n",
    "# Create the ROC class used to calculates (alpha_i, beta_i) pairs of ToF performance for distinguishing b/w pions and kaons #\n",
    "#===========================================================================================================================#\n",
    "\n",
    "\n",
    "class ROC(object):\n",
    "\n",
    "\n",
    "    #——————————————————————————#\n",
    "    # Define class constructor #\n",
    "    #——————————————————————————#\n",
    "\n",
    "    def __init__(self, p, sigma, kaon_mass, pion_mass, scint_counters_dist, c):\n",
    "        self.ToF_kaon = calcToF(scint_counters_dist, c, kaon_mass, p)\n",
    "        self.ToF_pion = calcToF(scint_counters_dist, c, pion_mass, p)\n",
    "        "
   ]
  },
  {
   "cell_type": "markdown",
   "metadata": {},
   "source": [
    "### Code Execution (Problem Set CP5)"
   ]
  },
  {
   "cell_type": "markdown",
   "metadata": {},
   "source": [
    "Problem 1"
   ]
  },
  {
   "cell_type": "code",
   "execution_count": 7,
   "metadata": {},
   "outputs": [],
   "source": [
    "def run_Q1():\n",
    "\n",
    "    # Define the relevant parameters\n",
    "    claimedFaultyRate = 0.05\n",
    "    sampleSize = 100\n",
    "    trueFaultyRate = 0.15\n",
    "    tCut = 9                # max no. of faulty monitors willing to have\n",
    "    t = np.arange(0, 100, 1) # for sample of 100 monitors\n",
    "    \n",
    "    # Question (a) of Problem 1\n",
    "    # first define binom distribution for the claimed faulty\n",
    "    claimedFaultyDistribution = binom(sampleSize, claimedFaultyRate)\n",
    "    \n",
    "    # calculate Type-I error\n",
    "    typeIMaskT = (t<=tCut)\n",
    "    typeIErr = claimedFaultyDistribution.pmf(t)[typeIMaskT].sum()\n",
    "    print('The type-I error is %.4f' % typeIErr)\n",
    "          \n",
    "    # Question (b) of Problem 1\n",
    "    # first define binom distribution for the claimed faulty\n",
    "    trueFaultyDistribution = binom(sampleSize, trueFaultyRate)\n",
    "\n",
    "    # calculate Type-II error\n",
    "    typeIIMaskT = (t>=tCut)\n",
    "    typeIIErr = trueFaultyDistribution.pmf(t)[typeIIMaskT].sum()\n",
    "    print('The type-II error is %.4f' % typeIIErr)"
   ]
  },
  {
   "cell_type": "code",
   "execution_count": 8,
   "metadata": {},
   "outputs": [
    {
     "name": "stdout",
     "output_type": "stream",
     "text": [
      "The type-I error is 0.9718\n",
      "The type-II error is 0.9725\n"
     ]
    }
   ],
   "source": [
    "run_Q1()"
   ]
  },
  {
   "cell_type": "markdown",
   "metadata": {},
   "source": [
    "Problem 2"
   ]
  },
  {
   "cell_type": "code",
   "execution_count": null,
   "metadata": {},
   "outputs": [],
   "source": [
    "def run_Q2():\n",
    "    \n",
    "    # Define relevant parameters\n",
    "    k_mass = 493.7 # MeV/c^2\n",
    "    pi_mass = 139.6 # MeV/c^2\n",
    "    scintCountersDist = 20 # m\n",
    "    c = 3.0e8 #m/s\n",
    "    timeResMean = 0.4 #ns\n"
   ]
  }
 ],
 "metadata": {
  "kernelspec": {
   "display_name": "daml-environment",
   "language": "python",
   "name": "python3"
  },
  "language_info": {
   "codemirror_mode": {
    "name": "ipython",
    "version": 3
   },
   "file_extension": ".py",
   "mimetype": "text/x-python",
   "name": "python",
   "nbconvert_exporter": "python",
   "pygments_lexer": "ipython3",
   "version": "3.11.6"
  }
 },
 "nbformat": 4,
 "nbformat_minor": 2
}
