{
 "cells": [
  {
   "cell_type": "markdown",
   "id": "9d04643d-4607-4463-a842-91be11c11806",
   "metadata": {},
   "source": [
    "# Building an image classifier with a DNN using TensorFlow\n",
    "\n"
   ]
  },
  {
   "cell_type": "markdown",
   "id": "6d6882db",
   "metadata": {},
   "source": [
    "## About This Session\n",
    "\n",
    "This lab is a guided walkthrough to build a _basic_ 'image classification' DNN model and train it on some data.\n",
    "\n",
    "As we build up our model we will build a familiarity with the various components and strategies for building such an ANN system.\n",
    "\n",
    "After we have been able to do this we will then save and load our now-trained model from disk and use it to make a prediction on a new image which isn't present in the original dataset.\n",
    "\n",
    "\n",
    "_Responsible: Robert Currie (<rob.currie@ed.ac.uk>)_\n",
    "\n",
    "### Notes on assessment\n",
    "* Try and calculate the answers to the exercises provided. If you are unable to complete the question, describe which approach you _would_ have taken to solve the problem\n",
    "* Code must be understandable and reproducible. Before grading the notebook kernel **may** be restarted and re-run, so make sure that your code can run from start to finish without any (unintentional) errors\n",
    "* If you are unsure on how to proceed please **ask one of the TAs** during the workshop\n",
    " - Notebooks should be submitted by **10am on Friday 13th October**\n",
    " - This notebook starts with problem 0. This is not assessed, but it is a helpful exercise to show some of the potential pitfalls of 'trusting algorithms' to do the work for us.\n",
    "\n",
    "* There are 10 sections involved in building a DNN using TensorFlow, trainig it on data and then using it to predict based on a new piece of data never seen by the model before.\n",
    "* There are 2 bonus sections covering 'additional training of a model' and 'the impact of training on the distribution of internal weights within a DNN'. These have bonus points if you manage to finish them, but the final mark is capped at 10.\n"
   ]
  },
  {
   "cell_type": "markdown",
   "id": "895060a6",
   "metadata": {},
   "source": [
    "##### Marking\n",
    "\n",
    "Marks for the different parts are shown below.\n",
    "\n",
    "* Questions are marked as starting with '**Q**' and can in principle be attempted at any time.\n",
    "* Problems are intended to be tackled in order, i.e. 1->9\n",
    "* If you jump in at problem 5 for instance you won't yet have a model to train without tackling the steps before.\n",
    "* There are bonus problems at the end to tackle but the maximum mark is 10/10\n",
    "\n",
    "| <p align='left'> Title                         | <p align='left'> Parts | <p align='left'> Number of marks |\n",
    "| ------------------------------------- | ----- | --- |\n",
    "| <p align='left'> 0. Dangers of Fitting                  | <p align='left'>  3  | <p align='left'> 0 |\n",
    "| <p align='left'> 1. Vizualizing the Data                | <p align='left'>  1  | <p align='left'> 1 |\n",
    "| <p align='left'> 2. Formatting Input Data               | <p align='left'>  3  | <p align='left'> 1 |\n",
    "| <p align='left'> 3. Building a DNN model                | <p align='left'>  2  | <p align='left'> 1 |\n",
    "| <p align='left'> 4. Understanding our model             | <p align='left'>  5  | <p align='left'> 2 |\n",
    "| <p align='left'> 5. Training our model                  | <p align='left'>  2  | <p align='left'> 1 |\n",
    "| <p align='left'> 6. Understanding the training history  | <p align='left'>  3  | <p align='left'> 1 |\n",
    "| <p align='left'> 7. Making a Prediction                 | <p align='left'>  2  | <p align='left'> 1 |\n",
    "| <p align='left'> 8. Testing the model                   | <p align='left'>  2  | <p align='left'> 1 |\n",
    "| <p align='left'> 9. Making Predictions with new data    | <p align='left'>  2  | <p align='left'> 1 |\n",
    "| <p align='left'> **Bonus 1:** Analyzing Weights         | <p align='left'>  5  | <p align='left'> 1 |\n",
    "| <p align='left'> **Bonus 2:** Loading a model and optimizing it further | <p align='left'>  7  | <p align='left'> 1 |\n",
    "| <p align='left'> **Total** | | <p align='left'> max **10** |\n"
   ]
  },
  {
   "cell_type": "code",
   "execution_count": 1,
   "id": "f685af8c",
   "metadata": {},
   "outputs": [],
   "source": [
    "# let's keep our keras backend tensorflow quiet\n",
    "import os\n",
    "os.environ['TF_CPP_MIN_LOG_LEVEL']='2'\n",
    "# if you need to force tensorflow to use your CPU\n",
    "#os.environ['CUDA_VISIBLE_DEVICES'] = ''\n",
    "\n",
    "# imports for array-handling and plotting\n",
    "import numpy as np\n",
    "from numpy import argmax\n",
    "import matplotlib\n",
    "import matplotlib.pyplot as plt\n",
    "import matplotlib.image as mpimg\n",
    "\n",
    "# Importing tensorflow so we can access anything later\n",
    "import tensorflow as tf\n",
    "\n",
    "# keras imports for importing our dataset\n",
    "from tensorflow.keras.datasets import mnist\n",
    "# keras imports for building our neural network\n",
    "from tensorflow.keras.models import Sequential\n",
    "from tensorflow.keras.initializers import RandomUniform\n",
    "from tensorflow.keras.layers import Dense, Activation\n",
    "# keras import for manipulating some of our data\n",
    "from tensorflow.keras.utils import to_categorical\n",
    "\n",
    "# keras tools for loading an image from disk\n",
    "from tensorflow.keras.preprocessing.image import load_img\n",
    "from tensorflow.keras.preprocessing.image import img_to_array\n",
    "\n",
    "# keras tools for loading an ANN model from disk\n",
    "from tensorflow.keras.models import load_model"
   ]
  },
  {
   "cell_type": "markdown",
   "id": "aec01e96",
   "metadata": {},
   "source": [
    "\n",
    "# Problem 0: Understanding Fitting\n",
    "\n",
    "### Problems when fitting (an interlude)\n",
    "\n",
    "When fitting to a dataset we trust that the algorithm that we're using will find the correct minima and that the fit hasn't become pronned to some problem such as vanishing gradients.\n",
    "\n",
    "Here we're going to demonstrate a quick example of problems that you can hit with a fit failing to converge.\n",
    "\n",
    "There are many tools/checks in place in most modern libraries to help fix common problems, but we will explicitly use the `SLSQP` method here which allows us to look at narrow ranges of a full function.\n",
    "\n",
    "`result = minimize(objective, pt, method='SLSQP', jac=derivative, bounds=[(...),])`\n",
    "\n",
    "The objective function of this fit has been provided it is the equation of the form `y=x^4-5x^2+0.1x` .\n",
    "\n",
    "This function has 3 points where the gradient is zero and has 2 minima, a global minima and a local minima.\n",
    "\n",
    "## 0.1 Provide the derivative function for this 1D method (this is the Jacobian)\n",
    "\n",
    "This is just a case of returning the correct value from the derivative method."
   ]
  },
  {
   "cell_type": "code",
   "execution_count": 2,
   "id": "631f8cdb",
   "metadata": {},
   "outputs": [],
   "source": [
    "from scipy.optimize import minimize\n",
    "\n",
    "def objective(x):\n",
    "  return x[0]**4 - 5*x[0]**2 + 0.1*x[0]\n",
    "\n",
    "# Part 1 complete the derivative function\n",
    "def derivative(x):\n",
    "  return 4*x[0]**3 - 10*x[0] + 0.1"
   ]
  },
  {
   "cell_type": "markdown",
   "id": "f7e42b37",
   "metadata": {},
   "source": [
    "## 0.2 Run the minimize method over given ranges and identify the 3 'stable' points of the function\n",
    "\n",
    "Run the minimize method over these 3 ranges:\n",
    "\n",
    "| <p align='left'> Ranges |\n",
    "| :--- |\n",
    "| ` (0.1, 5.0)` |\n",
    "| ` (0.0, 5.0)`  |\n",
    "| `(-5.0, 5.0)` |\n"
   ]
  },
  {
   "cell_type": "code",
   "execution_count": 3,
   "id": "ccf94f72",
   "metadata": {},
   "outputs": [],
   "source": [
    "pt = (5.,)\n",
    "ranges = [(0.1, 5.0),  (0.0, 5.0),  (-5.0, 5.0)]\n",
    "\n",
    "# Part 2 perform 3 minimizations\n",
    "result_1 = minimize( objective, pt, method='SLSQP', jac=derivative, bounds=[ranges[0]] )\n",
    "result_2 = minimize( objective, pt, method='SLSQP', jac=derivative, bounds=[ranges[1]] )\n",
    "result_3 = minimize( objective, pt, method='SLSQP', jac=derivative, bounds=[ranges[2]] )"
   ]
  },
  {
   "cell_type": "markdown",
   "id": "0dd34b65",
   "metadata": {},
   "source": [
    "## 0.3 Identify the true minima of the function\n",
    "\n",
    "##### Hint:\n",
    "    \n",
    "Running `scipy.minimize` returns an object containing the fit result and a bunch of extra output.\n",
    "The value of `x` from a 'minimize' after it has finished running can be accessed via `result['x']` and the function value can be accessed via `result['fun']`."
   ]
  },
  {
   "cell_type": "code",
   "execution_count": 4,
   "id": "f302c108",
   "metadata": {},
   "outputs": [
    {
     "name": "stdout",
     "output_type": "stream",
     "text": [
      "Minimum 1: [1.57609448]\n",
      "Minimum 2: [0.]\n",
      "Minimum 3: [-1.5861131]\n",
      "Result 1: -6.092136908469087\n",
      "Result 2: 0.0\n",
      "Result 3: -6.4083630973486665\n",
      "Best Result is: -6.4083630973486665\n"
     ]
    }
   ],
   "source": [
    "print('Minimum 1: {}'.format(result_1['x']))\n",
    "print('Minimum 2: {}'.format(result_2['x']))\n",
    "print('Minimum 3: {}'.format(result_3['x']))\n",
    "\n",
    "print('Result 1: {}'.format(result_1['fun']))\n",
    "print('Result 2: {}'.format(result_2['fun']))\n",
    "print('Result 3: {}'.format(result_3['fun']))\n",
    "\n",
    "# Part 3 identify the true minima\n",
    "\n",
    "#Create a list containing the result\n",
    "res = [result_1['fun'],result_2['fun'],result_3['fun']]\n",
    "print('Best Result is: ' + str(min(res)) ) "
   ]
  },
  {
   "cell_type": "markdown",
   "id": "fe5e051f",
   "metadata": {},
   "source": [
    "# Load & Visualize the dataset\n",
    "\n",
    "#### Loading the data\n",
    "\n",
    "The data we're using comes from the well use mnist dataset which has been around since the 80s and is something people new to AI/ML often try their hand at building models for.\n",
    "\n",
    "###### About the data\n",
    "https://www.tensorflow.org/api_docs/python/tf/keras/datasets/mnist/load_data\n",
    "\n",
    "This dataset consists of many pixelated digitized images of hand-written numbers.\n",
    "These images contain data in a single channel i.e. black and white images. White images on a Black background.\n",
    "\n",
    "\n",
    "We've loaded the mnist class and we just need to call `load_data` to get the dataset in order for us to use this data.\n",
    "\n",
    "This method returns 2 tuples. The training data and labels as well as the test data and labels."
   ]
  },
  {
   "cell_type": "code",
   "execution_count": 5,
   "id": "12460d14",
   "metadata": {},
   "outputs": [],
   "source": [
    "# Load the Training and Test data\n",
    "(X_train, Y_train), (X_test, Y_test) = mnist.load_data()"
   ]
  },
  {
   "cell_type": "markdown",
   "id": "f0718970",
   "metadata": {},
   "source": [
    "# Visualize the dataset\n",
    "\n",
    "It's important to understand the data that you're trying to train on. In most cases preparing the data in some way that it's suitable for training is the most time consuming part of building and training a model to be useful.\n",
    "\n",
    "# Problem 1: Understanding the input data\n",
    "\n",
    "Now that we've loaded the data we need to make sure that it's in a format that we can use.\n",
    "\n",
    "## 1.1 First, What is the shape of an individual image?\n",
    "Firstly, what is the shape of the each input image?, and what range of values do the individual pixels within the image take?"
   ]
  },
  {
   "cell_type": "code",
   "execution_count": 6,
   "id": "e727f366-1b14-4aed-91b1-8ee5d56964c2",
   "metadata": {},
   "outputs": [
    {
     "name": "stdout",
     "output_type": "stream",
     "text": [
      "The shape of the MNIST dataset is (60000,28,28).\n",
      "For each image, the minimum pixel value is 0 and the maximum pixel value is 255.\n",
      "The minimum label value is 0, and the maximum label value is 9.\n"
     ]
    }
   ],
   "source": [
    "train_sample_size, height, width = X_train.shape\n",
    "min_pixel_val = X_train.min()\n",
    "max_pixel_val = X_train.max()\n",
    "min_label_val = Y_train.min()\n",
    "max_label_val = Y_train.max()\n",
    "\n",
    "print('The shape of the MNIST dataset is (%s,%s,%s).' % (train_sample_size, height, width))\n",
    "print('For each image, the minimum pixel value is %s and the maximum pixel value is %s.' % (min_pixel_val, max_pixel_val))\n",
    "print('The minimum label value is %s, and the maximum label value is %s.' % (min_label_val, max_label_val))"
   ]
  },
  {
   "cell_type": "markdown",
   "id": "20b222e4",
   "metadata": {},
   "source": [
    "## 1.2 Plotting some of the input data\n",
    "\n",
    "Secondly, we should attempt to plot some of the input data to our fit to understand what the data looks like.\n",
    "It is possible to use the pyplot method to plot the images which we have just loaded into tensors.\n",
    "\n",
    "##### Hint:\n",
    "The options of `cmap='gray', interpolation='none'` with `pyplot.imshow` show the images as we would expect to see them.\n",
    "\n",
    "https://matplotlib.org/stable/api/_as_gen/matplotlib.pyplot.imshow.html\n",
    "\n",
    "\n",
    "#### Plot the Data\n",
    "\n",
    "###### Plot the first 2 values from the training portion of the dataset using the values to the first 2 training labels as labels."
   ]
  },
  {
   "cell_type": "code",
   "execution_count": 7,
   "id": "477f41df",
   "metadata": {},
   "outputs": [
    {
     "data": {
      "text/plain": [
       "Text(0.5, 1.0, 'MNIST Label: 0')"
      ]
     },
     "execution_count": 7,
     "metadata": {},
     "output_type": "execute_result"
    },
    {
     "data": {
      "image/png": "[encoded data removed]",
      "text/plain": [
       "<Figure size 640x480 with 2 Axes>"
      ]
     },
     "metadata": {},
     "output_type": "display_data"
    }
   ],
   "source": [
    "fig, (ax1,ax2) = plt.subplots(1, 2)\n",
    "\n",
    "ax1.imshow(X_train[0], cmap='gray', interpolation='none')\n",
    "ax1.set_title('MNIST Label: %s' % (Y_train[0]))\n",
    "\n",
    "ax2.imshow(X_train[1], cmap='gray', interpolation='none')\n",
    "ax2.set_title('MNIST Label: %s' % (Y_train[1]))"
   ]
  },
  {
   "cell_type": "markdown",
   "id": "8dcb09b4",
   "metadata": {},
   "source": [
    "# Normalizing and Formatting the dataset\n",
    "\n",
    "Before we begin fitting the dataset it is useful to make sure that the data is in a format that we can use for fitting.\n",
    "\n",
    "\n",
    "\n",
    "## Problem 2: Formatting Input Data\n",
    "\n",
    "\n",
    "### 2.1 Normalize and reformat our Input Data.\n",
    "\n",
    "For our model we're going to use a flat array of 768 pixel values as our input and we want to make sure that our data has been correctly normalized so that the values are all in the unitary range [0,1].\n",
    "\n",
    "The data should be converted to the `'float32'` using the `astype` method and then normalized to have values between 0 and 1."
   ]
  },
  {
   "cell_type": "code",
   "execution_count": 8,
   "id": "7b5c39a5",
   "metadata": {},
   "outputs": [],
   "source": [
    "# convert data into a float from an integer array\n",
    "#use tensorflow cast to convert \n",
    "X_train = tf.cast(X_train, tf.float32)\n",
    "X_test = tf.cast(X_test, tf.float32)\n",
    "Y_train = tf.cast(Y_train, tf.float32)\n",
    "Y_test = tf.cast(Y_test, tf.float32)"
   ]
  },
  {
   "cell_type": "code",
   "execution_count": 9,
   "id": "ebbbe51c-e412-4f6d-a0a4-91f776334d8f",
   "metadata": {},
   "outputs": [],
   "source": [
    "# normalizing the data to help with the training\n",
    "#divide by the max value to normalize\n",
    "X_train = X_train/max_pixel_val\n",
    "X_test = X_test/max_pixel_val"
   ]
  },
  {
   "cell_type": "markdown",
   "id": "3d5dbcae",
   "metadata": {},
   "source": [
    "## 2.2 Resize the input data\n",
    "The input data should be re-formatted such that we have 1 flat array of inputs for each image.\n",
    "\n",
    "i.e. we have 60,000 images for training, we want each of these images to contain data in a flat array which means we are going from a 3D tensor to a 2D tensor. e.g. `(60000, 10, 10) ==> (60000, 100)` \n",
    "\n",
    "##### Hint: Tensor.Reshape can be used to simplify the re-shaping/re-sizing of the input data"
   ]
  },
  {
   "cell_type": "code",
   "execution_count": 10,
   "id": "ed89e151",
   "metadata": {},
   "outputs": [],
   "source": [
    "## building the input 1D vector from the 28x28 pixels\n",
    "X_train = tf.reshape(X_train, shape=[X_train.shape[0], -1])\n",
    "X_test = tf.reshape(X_test, shape=[X_test.shape[0], -1])"
   ]
  },
  {
   "cell_type": "markdown",
   "id": "69060a15",
   "metadata": {},
   "source": [
    "## 2.3 Change our input labels for fitting\n",
    "\n",
    "Now we need to make sure that the dataset labels are in a format which we can use alongside the training and testing dataset.\n",
    "\n",
    "Typically DNN expect category labels to be in a one-hot encoding. This means that labels are vectors with a single entry of 1 and all other entries being 0. \n",
    "\n",
    "##### Hint: This can be achieved using the `to_categorical` utility function in Keras.\n",
    "\n",
    "Using this change the Y_test and Y_train labels to be cateory labels.\n",
    "\n",
    "If you want to be explicit we know we're working with `n_classes = 10` due to looking at the numerical characters `0...9`."
   ]
  },
  {
   "cell_type": "code",
   "execution_count": 11,
   "id": "7c5854c5",
   "metadata": {},
   "outputs": [
    {
     "name": "stdout",
     "output_type": "stream",
     "text": [
      "Shape before one-hot encoding:  (60000,)\n"
     ]
    }
   ],
   "source": [
    "n_classes = 10\n",
    "print(\"Shape before one-hot encoding: \", Y_train.shape)\n",
    "\n",
    "Y_train = to_categorical(Y_train, num_classes=10, dtype='float32')\n",
    "Y_test = to_categorical(Y_test, num_classes=10, dtype='float32')"
   ]
  },
  {
   "cell_type": "code",
   "execution_count": 12,
   "id": "cc2249cd-692a-4289-bd15-c44983481a74",
   "metadata": {},
   "outputs": [
    {
     "name": "stdout",
     "output_type": "stream",
     "text": [
      "Shape after one-hot encoding: (60000, 10)\n"
     ]
    }
   ],
   "source": [
    "print('Shape after one-hot encoding: (%s, %s)' % (Y_train.shape[0], Y_train.shape[1]))"
   ]
  },
  {
   "cell_type": "markdown",
   "id": "ae28bb7a",
   "metadata": {},
   "source": [
    "# Problem 3: Building the DNN\n",
    "\n",
    "\n",
    "In Tensorflow a 'standard' DNN model is defined using the Sequential model.\n",
    "https://www.tensorflow.org/api_docs/python/tf/keras/Sequential\n",
    "\n",
    "Then additional layers are added to the model one at a time until the model is complete using `model.add`.\n",
    "\n",
    "\n",
    "## Build a DNN with 2 \"hidden layers\"\n",
    "\n",
    "You should build a DNN such that it has 2 hidden and 1 output layer. When building a model we have neurons and activation functions. These are 'layers' in TensorFlow but we want 3 layers with neurons and activators such as: \n",
    "\n",
    "| <p align='left'> Layer |\n",
    "| :--- |\n",
    "| Dense |\n",
    "| Activation |\n",
    "| Dense |\n",
    "| Activation |\n",
    "| Dense |\n",
    "| Activation |\n",
    "\n",
    "A flat layer of neurons is defined using the `Dense` layer in Tensorflow.\n",
    "For our example we want to keep our Activators and our layers of neurons separate.\n",
    "    \n",
    "We want to use a random flat distribution of weights when initializing the parameters in this fit,\n",
    "    \n",
    "### !!Use the parameters `use_bias=True, kernel_initializer='RandomUniform'` when constructing a layer of neurons!!\n",
    "\n",
    "###### NB: By default each Dense layer also applies a bias to each node to improve the fit performance.\n",
    "    \n",
    "For our hidden nodes we want to use the `'GELU'` Activator for this example and `'softmax'` to build our a numerical classifier."
   ]
  },
  {
   "cell_type": "code",
   "execution_count": 13,
   "id": "ba268e86",
   "metadata": {},
   "outputs": [],
   "source": [
    "n_categories = 10\n",
    "n_nodes = 256\n",
    "activation_type = 'gelu'\n",
    "output_act_type = 'softmax'\n",
    "weight_start_values = 'RandomUniform'\n",
    "\n",
    "# building a linear stack of layers with the sequential model\n",
    "model = Sequential()\n",
    "\n",
    "#1st hidden\n",
    "model.add( Dense(units=n_nodes, use_bias=True, kernel_initializer=weight_start_values) )\n",
    "model.add( Activation(activation_type) )\n",
    "\n",
    "#2nd hidden\n",
    "model.add( Dense(units=n_nodes, use_bias=True, kernel_initializer=weight_start_values) )\n",
    "model.add( Activation(activation_type) )\n",
    "\n",
    "#Output layer\n",
    "model.add( Dense(units=n_categories, use_bias=True, kernel_initializer=weight_start_values) )\n",
    "model.add( Activation(output_act_type) )"
   ]
  },
  {
   "cell_type": "markdown",
   "id": "8e825c92",
   "metadata": {},
   "source": [
    "## Compiling our model\n",
    "\n",
    "At this point we have a description of our model. Now we want to compile it.\n",
    "\n",
    "Strictly speaking some of the steps here are optional, but we want to be explicit with how we're building our model to be sure that we've understood everything that is going on.\n",
    "\n",
    "We will be using `categorical_crossentropy` as discussed in our lecture as our loss model.\n",
    "\n",
    "We will also be using the `Stochastic Gradient Descent` or `SGD` optimizer for our training. This is different to the default.\n",
    "\n",
    "`metrics=['accuracy']` is also passed to our model to ensure that it collects training data that we're interested in later on.\n",
    "\n",
    "\n",
    "## Now compile and build the model"
   ]
  },
  {
   "cell_type": "code",
   "execution_count": 14,
   "id": "3c3deac8-536b-4262-93a6-0479dc1bb53e",
   "metadata": {
    "scrolled": true
   },
   "outputs": [
    {
     "name": "stdout",
     "output_type": "stream",
     "text": [
      "Model: \"sequential\"\n",
      "_________________________________________________________________\n",
      " Layer (type)                Output Shape              Param #   \n",
      "=================================================================\n",
      " dense (Dense)               (1, 256)                  200960    \n",
      "                                                                 \n",
      " activation (Activation)     (1, 256)                  0         \n",
      "                                                                 \n",
      " dense_1 (Dense)             (1, 256)                  65792     \n",
      "                                                                 \n",
      " activation_1 (Activation)   (1, 256)                  0         \n",
      "                                                                 \n",
      " dense_2 (Dense)             (1, 10)                   2570      \n",
      "                                                                 \n",
      " activation_2 (Activation)   (1, 10)                   0         \n",
      "                                                                 \n",
      "=================================================================\n",
      "Total params: 269,322\n",
      "Trainable params: 269,322\n",
      "Non-trainable params: 0\n",
      "_________________________________________________________________\n"
     ]
    }
   ],
   "source": [
    "# compiling the sequential model\n",
    "model.compile(loss='categorical_crossentropy', metrics=['accuracy'], optimizer='SGD')\n",
    "# Now we want to 'build' the model, so tell it about our input data format\n",
    "model.build(input_shape=(1,784))\n",
    "\n",
    "# Print a helpful summary of our model\n",
    "model.summary()\n",
    "\n",
    "# Now we're going to take a copy of the weights in our first hidden layer of the fit\n",
    "weights_before_training = model.layers[0].get_weights()[0].copy()\n",
    "weights_before_training.resize(200704)"
   ]
  },
  {
   "cell_type": "markdown",
   "id": "29f3ef3d",
   "metadata": {},
   "source": [
    "# Problem 4: Understanding our model\n",
    "\n",
    "## Q: 4.1\n",
    "\n",
    "##### Using an Input Shape of `784` and a hidden layer of `256` nodes you should see `200960` free parameters in the first layer of your model.\n",
    "\n",
    "##### Explain where this number of free parameters comes from.\n",
    "\n"
   ]
  },
  {
   "cell_type": "markdown",
   "id": "f5ee2c65",
   "metadata": {},
   "source": [
    "### Answer:\n",
    "\n",
    "For each layer, the number of free parameters is:\n",
    "\n",
    "$$\n",
    "N_{weights} + N_{biases}\n",
    "$$\n",
    "\n",
    "In the case with our DNN, $N_{weights}$, number of weights per layer is given by the product of input (784) and output nodes (256). And, $N_{biases}$ the number of biases in the layer is the number of output nodes (256)."
   ]
  },
  {
   "cell_type": "markdown",
   "id": "aad93994",
   "metadata": {},
   "source": [
    "## Q: 4.2\n",
    "\n",
    "##### Using `256` nodes per hidden layer there will also be `65792` weights between the 2 hidden layers in the model.\n",
    "\n",
    "##### Explain where these weights come from."
   ]
  },
  {
   "cell_type": "markdown",
   "id": "01cd4150",
   "metadata": {},
   "source": [
    "### Answer:\n",
    "\n",
    "Assuming the weights here refer to both the weights and the biases (see Q4.1 answer), the weights calculated from the product of input and output nodes are because of permutations (256x256). And then the bias from each node needs to be considered then added on."
   ]
  },
  {
   "cell_type": "markdown",
   "id": "4e47c4f2",
   "metadata": {},
   "source": [
    "## Q: 4.3\n",
    "\n",
    "##### Explain why a `'softmax'` activation function is used at the end of our classification model."
   ]
  },
  {
   "cell_type": "markdown",
   "id": "735055f0",
   "metadata": {},
   "source": [
    "### Answer:\n",
    "\n",
    "\n",
    "At the end of our classification model, we would like our output to be the probability which an image to be a specific label, meaning, the value of the output must range from 0 to 1. Thus, as softmax activation function is ranged from 0 to 1 as well. It suit to use softmax activation function at the end of our model."
   ]
  },
  {
   "cell_type": "markdown",
   "id": "47a3c156",
   "metadata": {},
   "source": [
    "## Q: 4.4\n",
    "\n",
    "##### How many weights would we expect in the whole model when using 128 neurons per hidden layer?"
   ]
  },
  {
   "cell_type": "markdown",
   "id": "8486e255",
   "metadata": {},
   "source": [
    "### Answer:\n",
    "\n",
    "Consider the function from the above answer, when using 128 neurons per hidden layer, the number of weights we expect would be:\n",
    "\n",
    "$$\n",
    "(128*128)+128 = 16512\n",
    "$$"
   ]
  },
  {
   "cell_type": "markdown",
   "id": "6d623e92",
   "metadata": {},
   "source": [
    "## Q: 4.5\n",
    "\n",
    "##### Why are activation functions needed in a DNN which is trained on data?"
   ]
  },
  {
   "cell_type": "markdown",
   "id": "846da7a7",
   "metadata": {},
   "source": [
    "### Answer:\n",
    "\n",
    "Since the dense layers in a model are linear layers with linear functions applied at the nodes, in order to obtain non-linear outputs for the layers, non-linear activation functions must be used."
   ]
  },
  {
   "cell_type": "markdown",
   "id": "063d1791",
   "metadata": {},
   "source": [
    "\n",
    "# Problem 5: Train the model\n",
    "\n",
    "### Model Training\n",
    "\n",
    "Now that we have a model we want to fit we now want to train it on our training dataset making sure to use our validation data to check on our training.\n",
    "\n",
    "The result of this training will be stored in our history and will allow us to go back and asses how well our training worked.\n",
    "\n",
    "\n",
    "## 5.1 Perform the training\n",
    "Complete and run the command below to train the model on data using a `batch_size` of 600 for 100 `epochs`.\n"
   ]
  },
  {
   "cell_type": "code",
   "execution_count": 15,
   "id": "b02c7124",
   "metadata": {
    "scrolled": true
   },
   "outputs": [
    {
     "name": "stdout",
     "output_type": "stream",
     "text": [
      "Epoch 1/100\n",
      "100/100 - 2s - loss: 2.2958 - accuracy: 0.2129 - val_loss: 2.2894 - val_accuracy: 0.3535 - 2s/epoch - 17ms/step\n",
      "Epoch 2/100\n",
      "100/100 - 1s - loss: 2.2843 - accuracy: 0.4123 - val_loss: 2.2771 - val_accuracy: 0.4758 - 969ms/epoch - 10ms/step\n",
      "Epoch 3/100\n",
      "100/100 - 1s - loss: 2.2714 - accuracy: 0.5007 - val_loss: 2.2627 - val_accuracy: 0.5422 - 948ms/epoch - 9ms/step\n",
      "Epoch 4/100\n",
      "100/100 - 1s - loss: 2.2556 - accuracy: 0.5446 - val_loss: 2.2444 - val_accuracy: 0.5758 - 950ms/epoch - 10ms/step\n",
      "Epoch 5/100\n",
      "100/100 - 1s - loss: 2.2345 - accuracy: 0.5680 - val_loss: 2.2189 - val_accuracy: 0.5854 - 958ms/epoch - 10ms/step\n",
      "Epoch 6/100\n",
      "100/100 - 1s - loss: 2.2037 - accuracy: 0.5609 - val_loss: 2.1801 - val_accuracy: 0.5657 - 955ms/epoch - 10ms/step\n",
      "Epoch 7/100\n",
      "100/100 - 1s - loss: 2.1548 - accuracy: 0.5368 - val_loss: 2.1168 - val_accuracy: 0.5300 - 960ms/epoch - 10ms/step\n",
      "Epoch 8/100\n",
      "100/100 - 1s - loss: 2.0758 - accuracy: 0.5177 - val_loss: 2.0186 - val_accuracy: 0.5480 - 962ms/epoch - 10ms/step\n",
      "Epoch 9/100\n",
      "100/100 - 1s - loss: 1.9599 - accuracy: 0.5781 - val_loss: 1.8765 - val_accuracy: 0.6226 - 956ms/epoch - 10ms/step\n",
      "Epoch 10/100\n",
      "100/100 - 1s - loss: 1.7889 - accuracy: 0.6454 - val_loss: 1.6591 - val_accuracy: 0.6755 - 957ms/epoch - 10ms/step\n",
      "Epoch 11/100\n",
      "100/100 - 1s - loss: 1.5369 - accuracy: 0.6834 - val_loss: 1.3644 - val_accuracy: 0.7074 - 945ms/epoch - 9ms/step\n",
      "Epoch 12/100\n",
      "100/100 - 1s - loss: 1.2446 - accuracy: 0.7248 - val_loss: 1.0856 - val_accuracy: 0.7563 - 955ms/epoch - 10ms/step\n",
      "Epoch 13/100\n",
      "100/100 - 1s - loss: 1.0100 - accuracy: 0.7575 - val_loss: 0.8964 - val_accuracy: 0.7821 - 950ms/epoch - 10ms/step\n",
      "Epoch 14/100\n",
      "100/100 - 1s - loss: 0.8570 - accuracy: 0.7779 - val_loss: 0.7762 - val_accuracy: 0.7985 - 951ms/epoch - 10ms/step\n",
      "Epoch 15/100\n",
      "100/100 - 1s - loss: 0.7563 - accuracy: 0.7951 - val_loss: 0.6939 - val_accuracy: 0.8131 - 964ms/epoch - 10ms/step\n",
      "Epoch 16/100\n",
      "100/100 - 1s - loss: 0.6843 - accuracy: 0.8119 - val_loss: 0.6332 - val_accuracy: 0.8261 - 948ms/epoch - 9ms/step\n",
      "Epoch 17/100\n",
      "100/100 - 1s - loss: 0.6300 - accuracy: 0.8245 - val_loss: 0.5865 - val_accuracy: 0.8361 - 961ms/epoch - 10ms/step\n",
      "Epoch 18/100\n",
      "100/100 - 1s - loss: 0.5870 - accuracy: 0.8353 - val_loss: 0.5484 - val_accuracy: 0.8463 - 979ms/epoch - 10ms/step\n",
      "Epoch 19/100\n",
      "100/100 - 1s - loss: 0.5521 - accuracy: 0.8458 - val_loss: 0.5173 - val_accuracy: 0.8546 - 1s/epoch - 10ms/step\n",
      "Epoch 20/100\n",
      "100/100 - 1s - loss: 0.5233 - accuracy: 0.8540 - val_loss: 0.4914 - val_accuracy: 0.8620 - 967ms/epoch - 10ms/step\n",
      "Epoch 21/100\n",
      "100/100 - 1s - loss: 0.4990 - accuracy: 0.8610 - val_loss: 0.4696 - val_accuracy: 0.8677 - 959ms/epoch - 10ms/step\n",
      "Epoch 22/100\n",
      "100/100 - 1s - loss: 0.4786 - accuracy: 0.8669 - val_loss: 0.4509 - val_accuracy: 0.8732 - 977ms/epoch - 10ms/step\n",
      "Epoch 23/100\n",
      "100/100 - 1s - loss: 0.4609 - accuracy: 0.8720 - val_loss: 0.4356 - val_accuracy: 0.8782 - 961ms/epoch - 10ms/step\n",
      "Epoch 24/100\n",
      "100/100 - 1s - loss: 0.4458 - accuracy: 0.8759 - val_loss: 0.4218 - val_accuracy: 0.8816 - 972ms/epoch - 10ms/step\n",
      "Epoch 25/100\n",
      "100/100 - 1s - loss: 0.4326 - accuracy: 0.8798 - val_loss: 0.4098 - val_accuracy: 0.8832 - 1s/epoch - 10ms/step\n",
      "Epoch 26/100\n",
      "100/100 - 1s - loss: 0.4210 - accuracy: 0.8834 - val_loss: 0.3987 - val_accuracy: 0.8874 - 1s/epoch - 10ms/step\n",
      "Epoch 27/100\n",
      "100/100 - 1s - loss: 0.4107 - accuracy: 0.8856 - val_loss: 0.3899 - val_accuracy: 0.8887 - 963ms/epoch - 10ms/step\n",
      "Epoch 28/100\n",
      "100/100 - 1s - loss: 0.4015 - accuracy: 0.8886 - val_loss: 0.3817 - val_accuracy: 0.8915 - 957ms/epoch - 10ms/step\n",
      "Epoch 29/100\n",
      "100/100 - 1s - loss: 0.3936 - accuracy: 0.8905 - val_loss: 0.3742 - val_accuracy: 0.8927 - 958ms/epoch - 10ms/step\n",
      "Epoch 30/100\n",
      "100/100 - 1s - loss: 0.3863 - accuracy: 0.8919 - val_loss: 0.3675 - val_accuracy: 0.8948 - 972ms/epoch - 10ms/step\n",
      "Epoch 31/100\n",
      "100/100 - 1s - loss: 0.3797 - accuracy: 0.8943 - val_loss: 0.3625 - val_accuracy: 0.8964 - 956ms/epoch - 10ms/step\n",
      "Epoch 32/100\n",
      "100/100 - 1s - loss: 0.3737 - accuracy: 0.8953 - val_loss: 0.3567 - val_accuracy: 0.8961 - 950ms/epoch - 10ms/step\n",
      "Epoch 33/100\n",
      "100/100 - 1s - loss: 0.3682 - accuracy: 0.8969 - val_loss: 0.3527 - val_accuracy: 0.8985 - 949ms/epoch - 9ms/step\n",
      "Epoch 34/100\n",
      "100/100 - 1s - loss: 0.3633 - accuracy: 0.8979 - val_loss: 0.3475 - val_accuracy: 0.8986 - 949ms/epoch - 9ms/step\n",
      "Epoch 35/100\n",
      "100/100 - 1s - loss: 0.3586 - accuracy: 0.8992 - val_loss: 0.3425 - val_accuracy: 0.9017 - 955ms/epoch - 10ms/step\n",
      "Epoch 36/100\n",
      "100/100 - 1s - loss: 0.3545 - accuracy: 0.9000 - val_loss: 0.3393 - val_accuracy: 0.9030 - 949ms/epoch - 9ms/step\n",
      "Epoch 37/100\n",
      "100/100 - 1s - loss: 0.3504 - accuracy: 0.9012 - val_loss: 0.3352 - val_accuracy: 0.9046 - 947ms/epoch - 9ms/step\n",
      "Epoch 38/100\n",
      "100/100 - 1s - loss: 0.3467 - accuracy: 0.9021 - val_loss: 0.3315 - val_accuracy: 0.9052 - 981ms/epoch - 10ms/step\n",
      "Epoch 39/100\n",
      "100/100 - 1s - loss: 0.3431 - accuracy: 0.9030 - val_loss: 0.3286 - val_accuracy: 0.9063 - 970ms/epoch - 10ms/step\n",
      "Epoch 40/100\n",
      "100/100 - 1s - loss: 0.3400 - accuracy: 0.9038 - val_loss: 0.3251 - val_accuracy: 0.9057 - 951ms/epoch - 10ms/step\n",
      "Epoch 41/100\n",
      "100/100 - 1s - loss: 0.3368 - accuracy: 0.9047 - val_loss: 0.3229 - val_accuracy: 0.9084 - 939ms/epoch - 9ms/step\n",
      "Epoch 42/100\n",
      "100/100 - 1s - loss: 0.3337 - accuracy: 0.9051 - val_loss: 0.3204 - val_accuracy: 0.9069 - 969ms/epoch - 10ms/step\n",
      "Epoch 43/100\n",
      "100/100 - 1s - loss: 0.3311 - accuracy: 0.9057 - val_loss: 0.3183 - val_accuracy: 0.9090 - 933ms/epoch - 9ms/step\n",
      "Epoch 44/100\n",
      "100/100 - 1s - loss: 0.3283 - accuracy: 0.9071 - val_loss: 0.3157 - val_accuracy: 0.9085 - 951ms/epoch - 10ms/step\n",
      "Epoch 45/100\n",
      "100/100 - 1s - loss: 0.3256 - accuracy: 0.9070 - val_loss: 0.3124 - val_accuracy: 0.9091 - 926ms/epoch - 9ms/step\n",
      "Epoch 46/100\n",
      "100/100 - 1s - loss: 0.3234 - accuracy: 0.9077 - val_loss: 0.3104 - val_accuracy: 0.9122 - 940ms/epoch - 9ms/step\n",
      "Epoch 47/100\n",
      "100/100 - 1s - loss: 0.3211 - accuracy: 0.9084 - val_loss: 0.3083 - val_accuracy: 0.9104 - 945ms/epoch - 9ms/step\n",
      "Epoch 48/100\n",
      "100/100 - 1s - loss: 0.3189 - accuracy: 0.9087 - val_loss: 0.3072 - val_accuracy: 0.9137 - 942ms/epoch - 9ms/step\n",
      "Epoch 49/100\n",
      "100/100 - 1s - loss: 0.3167 - accuracy: 0.9098 - val_loss: 0.3057 - val_accuracy: 0.9146 - 950ms/epoch - 9ms/step\n",
      "Epoch 50/100\n",
      "100/100 - 1s - loss: 0.3147 - accuracy: 0.9105 - val_loss: 0.3034 - val_accuracy: 0.9129 - 954ms/epoch - 10ms/step\n",
      "Epoch 51/100\n",
      "100/100 - 1s - loss: 0.3127 - accuracy: 0.9107 - val_loss: 0.3017 - val_accuracy: 0.9127 - 957ms/epoch - 10ms/step\n",
      "Epoch 52/100\n",
      "100/100 - 1s - loss: 0.3109 - accuracy: 0.9115 - val_loss: 0.2999 - val_accuracy: 0.9129 - 965ms/epoch - 10ms/step\n",
      "Epoch 53/100\n",
      "100/100 - 1s - loss: 0.3090 - accuracy: 0.9114 - val_loss: 0.2975 - val_accuracy: 0.9145 - 940ms/epoch - 9ms/step\n",
      "Epoch 54/100\n",
      "100/100 - 1s - loss: 0.3071 - accuracy: 0.9120 - val_loss: 0.2965 - val_accuracy: 0.9157 - 947ms/epoch - 9ms/step\n",
      "Epoch 55/100\n",
      "100/100 - 1s - loss: 0.3056 - accuracy: 0.9127 - val_loss: 0.2960 - val_accuracy: 0.9154 - 948ms/epoch - 9ms/step\n",
      "Epoch 56/100\n",
      "100/100 - 1s - loss: 0.3039 - accuracy: 0.9128 - val_loss: 0.2937 - val_accuracy: 0.9147 - 944ms/epoch - 9ms/step\n",
      "Epoch 57/100\n",
      "100/100 - 1s - loss: 0.3023 - accuracy: 0.9136 - val_loss: 0.2923 - val_accuracy: 0.9166 - 952ms/epoch - 10ms/step\n",
      "Epoch 58/100\n",
      "100/100 - 1s - loss: 0.3008 - accuracy: 0.9141 - val_loss: 0.2913 - val_accuracy: 0.9159 - 965ms/epoch - 10ms/step\n",
      "Epoch 59/100\n",
      "100/100 - 1s - loss: 0.2994 - accuracy: 0.9145 - val_loss: 0.2905 - val_accuracy: 0.9172 - 955ms/epoch - 10ms/step\n",
      "Epoch 60/100\n",
      "100/100 - 1s - loss: 0.2978 - accuracy: 0.9145 - val_loss: 0.2874 - val_accuracy: 0.9172 - 947ms/epoch - 9ms/step\n",
      "Epoch 61/100\n",
      "100/100 - 1s - loss: 0.2965 - accuracy: 0.9152 - val_loss: 0.2888 - val_accuracy: 0.9170 - 940ms/epoch - 9ms/step\n",
      "Epoch 62/100\n",
      "100/100 - 1s - loss: 0.2950 - accuracy: 0.9152 - val_loss: 0.2858 - val_accuracy: 0.9187 - 944ms/epoch - 9ms/step\n",
      "Epoch 63/100\n",
      "100/100 - 1s - loss: 0.2937 - accuracy: 0.9156 - val_loss: 0.2850 - val_accuracy: 0.9187 - 941ms/epoch - 9ms/step\n",
      "Epoch 64/100\n",
      "100/100 - 1s - loss: 0.2922 - accuracy: 0.9166 - val_loss: 0.2836 - val_accuracy: 0.9198 - 950ms/epoch - 9ms/step\n",
      "Epoch 65/100\n",
      "100/100 - 1s - loss: 0.2909 - accuracy: 0.9169 - val_loss: 0.2824 - val_accuracy: 0.9184 - 943ms/epoch - 9ms/step\n",
      "Epoch 66/100\n",
      "100/100 - 1s - loss: 0.2898 - accuracy: 0.9168 - val_loss: 0.2816 - val_accuracy: 0.9188 - 945ms/epoch - 9ms/step\n",
      "Epoch 67/100\n",
      "100/100 - 1s - loss: 0.2884 - accuracy: 0.9177 - val_loss: 0.2805 - val_accuracy: 0.9199 - 945ms/epoch - 9ms/step\n",
      "Epoch 68/100\n",
      "100/100 - 1s - loss: 0.2871 - accuracy: 0.9182 - val_loss: 0.2803 - val_accuracy: 0.9201 - 949ms/epoch - 9ms/step\n",
      "Epoch 69/100\n",
      "100/100 - 1s - loss: 0.2858 - accuracy: 0.9183 - val_loss: 0.2777 - val_accuracy: 0.9205 - 956ms/epoch - 10ms/step\n",
      "Epoch 70/100\n",
      "100/100 - 1s - loss: 0.2847 - accuracy: 0.9189 - val_loss: 0.2778 - val_accuracy: 0.9205 - 954ms/epoch - 10ms/step\n",
      "Epoch 71/100\n",
      "100/100 - 1s - loss: 0.2835 - accuracy: 0.9185 - val_loss: 0.2768 - val_accuracy: 0.9223 - 948ms/epoch - 9ms/step\n",
      "Epoch 72/100\n",
      "100/100 - 1s - loss: 0.2821 - accuracy: 0.9194 - val_loss: 0.2765 - val_accuracy: 0.9216 - 945ms/epoch - 9ms/step\n",
      "Epoch 73/100\n",
      "100/100 - 1s - loss: 0.2810 - accuracy: 0.9195 - val_loss: 0.2744 - val_accuracy: 0.9210 - 943ms/epoch - 9ms/step\n",
      "Epoch 74/100\n",
      "100/100 - 1s - loss: 0.2799 - accuracy: 0.9201 - val_loss: 0.2740 - val_accuracy: 0.9219 - 944ms/epoch - 9ms/step\n",
      "Epoch 75/100\n",
      "100/100 - 1s - loss: 0.2787 - accuracy: 0.9202 - val_loss: 0.2726 - val_accuracy: 0.9221 - 953ms/epoch - 10ms/step\n",
      "Epoch 76/100\n",
      "100/100 - 1s - loss: 0.2775 - accuracy: 0.9205 - val_loss: 0.2714 - val_accuracy: 0.9225 - 946ms/epoch - 9ms/step\n",
      "Epoch 77/100\n",
      "100/100 - 1s - loss: 0.2764 - accuracy: 0.9208 - val_loss: 0.2706 - val_accuracy: 0.9227 - 945ms/epoch - 9ms/step\n",
      "Epoch 78/100\n",
      "100/100 - 1s - loss: 0.2753 - accuracy: 0.9213 - val_loss: 0.2692 - val_accuracy: 0.9227 - 948ms/epoch - 9ms/step\n",
      "Epoch 79/100\n",
      "100/100 - 1s - loss: 0.2742 - accuracy: 0.9213 - val_loss: 0.2678 - val_accuracy: 0.9235 - 1s/epoch - 10ms/step\n",
      "Epoch 80/100\n",
      "100/100 - 1s - loss: 0.2732 - accuracy: 0.9215 - val_loss: 0.2667 - val_accuracy: 0.9236 - 943ms/epoch - 9ms/step\n",
      "Epoch 81/100\n",
      "100/100 - 1s - loss: 0.2720 - accuracy: 0.9220 - val_loss: 0.2669 - val_accuracy: 0.9242 - 946ms/epoch - 9ms/step\n",
      "Epoch 82/100\n",
      "100/100 - 1s - loss: 0.2709 - accuracy: 0.9226 - val_loss: 0.2650 - val_accuracy: 0.9243 - 947ms/epoch - 9ms/step\n",
      "Epoch 83/100\n",
      "100/100 - 1s - loss: 0.2695 - accuracy: 0.9226 - val_loss: 0.2645 - val_accuracy: 0.9247 - 944ms/epoch - 9ms/step\n",
      "Epoch 84/100\n",
      "100/100 - 1s - loss: 0.2689 - accuracy: 0.9232 - val_loss: 0.2639 - val_accuracy: 0.9247 - 949ms/epoch - 9ms/step\n",
      "Epoch 85/100\n",
      "100/100 - 1s - loss: 0.2676 - accuracy: 0.9233 - val_loss: 0.2634 - val_accuracy: 0.9253 - 945ms/epoch - 9ms/step\n",
      "Epoch 86/100\n",
      "100/100 - 1s - loss: 0.2665 - accuracy: 0.9240 - val_loss: 0.2620 - val_accuracy: 0.9260 - 943ms/epoch - 9ms/step\n",
      "Epoch 87/100\n",
      "100/100 - 1s - loss: 0.2655 - accuracy: 0.9243 - val_loss: 0.2613 - val_accuracy: 0.9262 - 964ms/epoch - 10ms/step\n",
      "Epoch 88/100\n",
      "100/100 - 1s - loss: 0.2644 - accuracy: 0.9242 - val_loss: 0.2606 - val_accuracy: 0.9259 - 968ms/epoch - 10ms/step\n",
      "Epoch 89/100\n",
      "100/100 - 1s - loss: 0.2633 - accuracy: 0.9252 - val_loss: 0.2586 - val_accuracy: 0.9269 - 957ms/epoch - 10ms/step\n",
      "Epoch 90/100\n",
      "100/100 - 1s - loss: 0.2621 - accuracy: 0.9252 - val_loss: 0.2588 - val_accuracy: 0.9263 - 949ms/epoch - 9ms/step\n",
      "Epoch 91/100\n",
      "100/100 - 1s - loss: 0.2610 - accuracy: 0.9256 - val_loss: 0.2571 - val_accuracy: 0.9265 - 935ms/epoch - 9ms/step\n",
      "Epoch 92/100\n",
      "100/100 - 1s - loss: 0.2599 - accuracy: 0.9261 - val_loss: 0.2563 - val_accuracy: 0.9269 - 936ms/epoch - 9ms/step\n",
      "Epoch 93/100\n",
      "100/100 - 1s - loss: 0.2589 - accuracy: 0.9266 - val_loss: 0.2543 - val_accuracy: 0.9270 - 963ms/epoch - 10ms/step\n",
      "Epoch 94/100\n",
      "100/100 - 1s - loss: 0.2576 - accuracy: 0.9270 - val_loss: 0.2538 - val_accuracy: 0.9275 - 951ms/epoch - 10ms/step\n",
      "Epoch 95/100\n",
      "100/100 - 1s - loss: 0.2568 - accuracy: 0.9272 - val_loss: 0.2528 - val_accuracy: 0.9272 - 994ms/epoch - 10ms/step\n",
      "Epoch 96/100\n",
      "100/100 - 1s - loss: 0.2556 - accuracy: 0.9270 - val_loss: 0.2527 - val_accuracy: 0.9283 - 927ms/epoch - 9ms/step\n",
      "Epoch 97/100\n",
      "100/100 - 1s - loss: 0.2545 - accuracy: 0.9277 - val_loss: 0.2512 - val_accuracy: 0.9284 - 931ms/epoch - 9ms/step\n",
      "Epoch 98/100\n",
      "100/100 - 1s - loss: 0.2534 - accuracy: 0.9280 - val_loss: 0.2497 - val_accuracy: 0.9284 - 925ms/epoch - 9ms/step\n",
      "Epoch 99/100\n",
      "100/100 - 1s - loss: 0.2524 - accuracy: 0.9280 - val_loss: 0.2493 - val_accuracy: 0.9290 - 924ms/epoch - 9ms/step\n",
      "Epoch 100/100\n",
      "100/100 - 1s - loss: 0.2513 - accuracy: 0.9285 - val_loss: 0.2481 - val_accuracy: 0.9290 - 923ms/epoch - 9ms/step\n"
     ]
    }
   ],
   "source": [
    "# training the model and saving metrics in history\n",
    "history = model.fit(X_train, Y_train, validation_data=(X_test, Y_test), verbose=2,\n",
    "          batch_size=600,\n",
    "          epochs=100\n",
    "          )\n",
    "\n",
    "## Now take a copy of the weights in the first hidden layer _after_ training on data\n",
    "weights_after_training = model.layers[0].get_weights()[0].copy()\n",
    "weights_after_training.resize(200704)"
   ]
  },
  {
   "cell_type": "markdown",
   "id": "9f49b609",
   "metadata": {},
   "source": [
    "## Q: 5.2\n",
    "\n",
    "##### Why are there 100 steps per epoc in this training? (0.5 marks)"
   ]
  },
  {
   "cell_type": "markdown",
   "id": "849846dd",
   "metadata": {},
   "source": [
    "### Answer:\n",
    "\n",
    "Due to the decision of using batch size in the training, the batch size of 600 means there are in total $\\frac{60000}{600}=100$ mini batches. And in every epoch of the training phase, each mini batch is iterated. Thus, there are 100 steps of training per epoch."
   ]
  },
  {
   "cell_type": "markdown",
   "id": "98ab5c0a",
   "metadata": {},
   "source": [
    "\n",
    "# Problem6: Understanding the training history\n",
    "\n",
    "### Cross-Checking our Model fit\n",
    "\n",
    "The returned history from our fit contains both the accuracy and the loss function over the epocs of training.\n",
    "\n",
    "This information can be accessed via: `history.history[]`\n",
    "\n",
    "We now want to make 2 plots:\n",
    "\n",
    "\n",
    "## 6.1 Plotting Evolution of model Accuracy\n",
    "\n",
    "This plot will show how the accuracy of the model has increased vs epocs of training.\n",
    "\n",
    "This should show for a good model that accuracy increases with the number of epocs.\n",
    "\n",
    "###### Hint:\n",
    "`history.history[accuracy]` vs `history.history[val_accuracy]` give the model accuracy during the training epocs."
   ]
  },
  {
   "cell_type": "code",
   "execution_count": 16,
   "id": "4ee2befc",
   "metadata": {},
   "outputs": [
    {
     "name": "stdout",
     "output_type": "stream",
     "text": [
      "The accuracy of the test dataset is 0.9290000200271606\n",
      "The accuracy of the training dataset is 0.9284833073616028\n"
     ]
    },
    {
     "data": {
      "image/png": "[encoded data removed]",
      "text/plain": [
       "<Figure size 640x480 with 1 Axes>"
      ]
     },
     "metadata": {},
     "output_type": "display_data"
    }
   ],
   "source": [
    "accuracy_training = history.history['accuracy']\n",
    "accuracy_test = history.history['val_accuracy']\n",
    "\n",
    "plt.plot(accuracy_test, label=\"Test\", c=\"magenta\")\n",
    "plt.plot(accuracy_training, label=\"Training\", c=\"green\")\n",
    "plt.xlabel(\"Epochs\")\n",
    "plt.ylabel(\"Accuracy\")\n",
    "plt.legend()\n",
    "plt.title(\"Accuracy of DNN\")\n",
    "plt.plot()\n",
    "\n",
    "print('The accuracy of the test dataset is %s' % (accuracy_test[-1]))\n",
    "print('The accuracy of the training dataset is %s' % (accuracy_training[-1]))"
   ]
  },
  {
   "cell_type": "markdown",
   "id": "4be3e7ac",
   "metadata": {},
   "source": [
    "## 6.2 Plotting Evolution of model losses\n",
    "\n",
    "As above, but now we want to see how the loss function evolves using the `loss` vs `val_loss` parameters vs epoc."
   ]
  },
  {
   "cell_type": "code",
   "execution_count": 17,
   "id": "3e9a49dc-73b9-4c5e-9a81-4e0e0dd73975",
   "metadata": {
    "scrolled": true
   },
   "outputs": [
    {
     "name": "stdout",
     "output_type": "stream",
     "text": [
      "The loss of the test dataset is 0.24811597168445587\n",
      "The loss of the training dataset is 0.25125324726104736\n"
     ]
    },
    {
     "data": {
      "image/png": "[encoded data removed]",
      "text/plain": [
       "<Figure size 640x480 with 1 Axes>"
      ]
     },
     "metadata": {},
     "output_type": "display_data"
    }
   ],
   "source": [
    "training_loss = history.history['loss']\n",
    "test_loss = history.history['val_loss']\n",
    "\n",
    "plt.plot(test_loss, label=\"Test\", c=\"magenta\")\n",
    "plt.plot(training_loss, label=\"Training\", c=\"green\")\n",
    "plt.xlabel(\"Epochs\")\n",
    "plt.ylabel(\"Loss Function\")\n",
    "plt.legend()\n",
    "plt.title(\"Loss of DNN\")\n",
    "plt.plot()\n",
    "\n",
    "print('The loss of the test dataset is %s' % (test_loss[-1]))\n",
    "print('The loss of the training dataset is %s' % (training_loss[-1]))"
   ]
  },
  {
   "cell_type": "markdown",
   "id": "0bbf627c",
   "metadata": {},
   "source": [
    "## Q 6.3: Is this model over-training?"
   ]
  },
  {
   "cell_type": "markdown",
   "id": "76966f52",
   "metadata": {},
   "source": [
    "### Answer:\n",
    "\n",
    "No, the model is not over-trained.\n",
    "\n",
    "As we see from the accuracy, the difference between the test and training dataset accuracy is in the order of $10^{-4}$, meaning, the performance of model in both datasets is almost the same, showing the model is generalized enough, and that it isn't over-trained.\n",
    "\n",
    "Similarly, by looking at the loss of the model for both datasets, it is shown that the difference of loss between the two datasets is also minimal, in the order of $10^{-3}$.\n",
    "\n",
    "Another thing to notice for the loss distribution is that the slope is small but not really flat, which indicate the room for some additional epochs of training to further improve the performance of the model slightly."
   ]
  },
  {
   "cell_type": "markdown",
   "id": "9894d0cc",
   "metadata": {},
   "source": [
    "\n",
    "# Problem 7: Making predictions\n",
    "\n",
    "### Testing how well our model classifies different numbers\n",
    "\n",
    "In order to test how well our model actually classifies different numbers we need to be able to make predictions using it.\n",
    "\n",
    "Our model is designed to output the probability of each label being true (according to the model).\n",
    "\n",
    "With that in mind we want to get the best value from a single image.\n",
    "\n",
    "\n",
    "Our model has been defined to take an input of shape `(1, 784)`. This allows us to pass many images at a time to the model to either train or to have predictions made on.\n",
    "\n",
    "\n",
    "## 7.1 Predicting with our model\n",
    "\n",
    "### Want to make a prediction using the 10th element of the testing dataset\n",
    "\n",
    "Lets first make a single prediction using our dataset and model.\n",
    "\n",
    "To do this we need to:\n",
    "\n",
    "1. Take the 10th element from our test dataset\n",
    "2. Resize this to match the expected input dimensions from our model\n",
    "3. Make a prediction using this input using `model.predict`\n",
    "4. Make a bar chart showing the predictions from the model.\n",
    "\n",
    "###### Hint: `plt.bar` is useful for plotting the output"
   ]
  },
  {
   "cell_type": "code",
   "execution_count": 18,
   "id": "d8ca3e4a",
   "metadata": {
    "scrolled": true
   },
   "outputs": [
    {
     "name": "stdout",
     "output_type": "stream",
     "text": [
      "1/1 [==============================] - 0s 135ms/step\n"
     ]
    },
    {
     "data": {
      "image/png": "[encoded data removed]",
      "text/plain": [
       "<Figure size 640x480 with 1 Axes>"
      ]
     },
     "metadata": {},
     "output_type": "display_data"
    }
   ],
   "source": [
    "#Take the 10th element from our test dataset\n",
    "tenth_elem_input = X_test[9]\n",
    "#Resize this to match the expected input dimensions from our model\n",
    "#Use the tf.expand_dims to expand into a shape of (1, 784)\n",
    "tenth_elem_input = tf.expand_dims(tenth_elem_input, axis=0)\n",
    "\n",
    "#Make a prediction using this input using model.predict\n",
    "pred = model.predict(tenth_elem_input)\n",
    "\n",
    "#Make a bar chart showing the predictions from the model.\n",
    "labels = np.arange(0, 10)\n",
    "plt.bar(labels, pred[0], color='g')\n",
    "plt.xticks(labels)\n",
    "plt.xlabel(\"Labels\")\n",
    "plt.ylabel(\"Probability of Prediction\")\n",
    "plt.title(\"Neural Network Prediction on Input\")\n",
    "plt.show()\n"
   ]
  },
  {
   "cell_type": "markdown",
   "id": "10c132c2",
   "metadata": {},
   "source": [
    "## 7.2 Making a Numerical Prediction\n",
    "\n",
    "The method `argmax` from numpy can help us change this prediction distribution from a vector to a single value.\n",
    "\n",
    "### Predict the number in this image ###"
   ]
  },
  {
   "cell_type": "code",
   "execution_count": 19,
   "id": "858db180",
   "metadata": {},
   "outputs": [
    {
     "name": "stdout",
     "output_type": "stream",
     "text": [
      "The model predicts that the input number is 9, with a probability of 0.946019\n"
     ]
    }
   ],
   "source": [
    "print('The model predicts that the input number is %s, with a probability of %f' % (np.argmax(pred[0]), np.max(pred[0])))"
   ]
  },
  {
   "cell_type": "markdown",
   "id": "265939e0",
   "metadata": {},
   "source": [
    "# Problem 8 Testing the model\n",
    "\n",
    "One of the ways we can evaluate how well our model is spearating our input data we can build a confusion matrix.\n",
    "\n",
    "This allows us to see how many numbers are incorrectly identified using a labelled dataset.\n",
    "\n",
    "## Constructing a Confusion Matrix\n",
    "\n",
    "In order to construct a confusion matrix we need to make predictions over a large number of inputs and be able to compare them to labels which are known to be correct.\n",
    "\n",
    "Taking the 'training' dataset can collect numerical predictions using `argmax` for each of the 60,000 entries in the dataset.\n",
    "\n",
    "## 8.1 Make many predictions\n",
    "\n",
    "To collect enough data to produce our confusion matrix we can make predictions over the whole training (or test) dataset."
   ]
  },
  {
   "cell_type": "code",
   "execution_count": 20,
   "id": "396d4c5f",
   "metadata": {},
   "outputs": [
    {
     "name": "stdout",
     "output_type": "stream",
     "text": [
      "313/313 [==============================] - 1s 2ms/step\n"
     ]
    }
   ],
   "source": [
    "#Use the test dataset to make predictions\n",
    "test_pred = model.predict(X_test)\n",
    "\n",
    "#Find labels for each \n",
    "test_true_labels = Y_test.argmax(axis=1)\n",
    "test_pred_labels = test_pred.argmax(axis=1)"
   ]
  },
  {
   "cell_type": "markdown",
   "id": "f4cff0da",
   "metadata": {},
   "source": [
    "## 8.2 Plot Confusion Matrix\n",
    "\n",
    "We can now construct a confusion matrix using `tf.math.confusion_matrix` and plot it with `sns.heatmap`."
   ]
  },
  {
   "cell_type": "code",
   "execution_count": 21,
   "id": "7d4c9f83",
   "metadata": {
    "scrolled": true
   },
   "outputs": [
    {
     "data": {
      "image/png": "[encoded data removed]",
      "text/plain": [
       "<Figure size 640x480 with 2 Axes>"
      ]
     },
     "metadata": {},
     "output_type": "display_data"
    }
   ],
   "source": [
    "# Create the confusion matrix\n",
    "confusion_matrix = tf.math.confusion_matrix(labels=test_true_labels, predictions=test_pred_labels, num_classes=10)\n",
    "\n",
    "# Import the useful tools for plotting a confusion matrix\n",
    "import seaborn as sns\n",
    "from matplotlib.colors import LogNorm\n",
    "\n",
    "# Plot the confusion matrix using a heatmap\n",
    "sns.heatmap(confusion_matrix, annot=False, cmap='Blues', norm=LogNorm())\n",
    "plt.xlabel('Predicted Labels')\n",
    "plt.ylabel('True Labels')\n",
    "plt.title('Plot of the Confusion Matrix')\n",
    "plt.show()"
   ]
  },
  {
   "cell_type": "markdown",
   "id": "a7dfdbd9",
   "metadata": {},
   "source": [
    "# 9: Making Predictions with new data\n",
    "\n",
    "Make aure that you download the sample image \n",
    "\n",
    "## 9.1 Load data from `sample_image.png`\n",
    "\n",
    "Complete the load_image method below to load a new numerical image file from disk, resize and normalize the data into a format which we can use with our model."
   ]
  },
  {
   "cell_type": "code",
   "execution_count": 22,
   "id": "2bfdd702",
   "metadata": {},
   "outputs": [],
   "source": [
    "# load and prepare the image\n",
    "def load_image(filename):\n",
    " # load the image\n",
    " #img = load_img(filename, target_size=(28, 28), color_mode='grayscale')\n",
    " img = load_img(filename, target_size=(28, 28), color_mode='grayscale')\n",
    " # convert to array\n",
    " img = img_to_array(img)\n",
    "\n",
    " #Use tf.cast to tensor\n",
    " img = tf.cast(img, tf.float32)\n",
    " #Normalize\n",
    " img = img/max_pixel_val\n",
    " #resize\n",
    " img = tf.reshape(img, shape=[1,-1])\n",
    " return img\n",
    "\n",
    "# load the image\n",
    "img = load_image('./sample_image.png')"
   ]
  },
  {
   "cell_type": "markdown",
   "id": "b18bf6ba",
   "metadata": {},
   "source": [
    "## 9.2 Make a prediction on the new data\n",
    "\n",
    "Now that we've loaded the sample file, use our model to make a prediction on this data."
   ]
  },
  {
   "cell_type": "code",
   "execution_count": 23,
   "id": "e74b2097",
   "metadata": {},
   "outputs": [
    {
     "name": "stdout",
     "output_type": "stream",
     "text": [
      "1/1 [==============================] - 0s 14ms/step\n",
      "Prediction: 3\n"
     ]
    },
    {
     "data": {
      "text/plain": [
       "Text(0.5, 0, 'labels')"
      ]
     },
     "execution_count": 23,
     "metadata": {},
     "output_type": "execute_result"
    },
    {
     "data": {
      "image/png": "[encoded data removed]",
      "text/plain": [
       "<Figure size 640x480 with 2 Axes>"
      ]
     },
     "metadata": {},
     "output_type": "display_data"
    }
   ],
   "source": [
    "# predict the class\n",
    "predict_value = model.predict(img)\n",
    "predict_value\n",
    "digit = argmax(predict_value)\n",
    "print('Prediction: {}'.format(digit))\n",
    "\n",
    "fig = plt.figure()\n",
    "plt.subplot(2,1,1)\n",
    "plt.imshow(mpimg.imread('./sample_image.png'), cmap='gray', interpolation='none')\n",
    "plt.title(\"Sample File\")\n",
    "plt.xticks([])\n",
    "plt.yticks([])\n",
    "plt.subplot(2,1,2)\n",
    "\n",
    "plt.bar(labels, predict_value[0])\n",
    "plt.yscale('log')\n",
    "plt.title(\"Predicted Value Distribution\")\n",
    "plt.xticks(np.arange(0,10))\n",
    "plt.xlabel('labels')"
   ]
  },
  {
   "cell_type": "markdown",
   "id": "9619684a",
   "metadata": {},
   "source": [
    "# Bonus 1: Analyzing Weights\n",
    "\n",
    "Before and after fitting our model we took copies of the weights used in training our dataset.\n",
    "\n",
    "If you construct a histogram of the weights from before fitting what distribution does it follow?\n",
    "\n",
    "## B1.1 Plot weights from before training"
   ]
  },
  {
   "cell_type": "code",
   "execution_count": 24,
   "id": "3319e643",
   "metadata": {
    "scrolled": true
   },
   "outputs": [
    {
     "name": "stdout",
     "output_type": "stream",
     "text": [
      "If constructing a histogram of the weights from before fitting, it follows an uniform distribution.\n"
     ]
    },
    {
     "data": {
      "image/png": "[encoded data removed]",
      "text/plain": [
       "<Figure size 640x480 with 1 Axes>"
      ]
     },
     "metadata": {},
     "output_type": "display_data"
    }
   ],
   "source": [
    "fig = plt.figure()\n",
    "plt.hist(weights_before_training, bins=100)\n",
    "print('If constructing a histogram of the weights from before fitting, it follows an uniform distribution.')"
   ]
  },
  {
   "cell_type": "markdown",
   "id": "c7e19657",
   "metadata": {},
   "source": [
    "## B1.2 Plot the weights After training"
   ]
  },
  {
   "cell_type": "code",
   "execution_count": 25,
   "id": "a5ccd256",
   "metadata": {
    "scrolled": true
   },
   "outputs": [
    {
     "name": "stdout",
     "output_type": "stream",
     "text": [
      "After training, the weights appear in an uniform distribution convoluted with a \"flattened\" gaussian distribution, using GELU as activation.\n"
     ]
    },
    {
     "data": {
      "image/png": "[encoded data removed]",
      "text/plain": [
       "<Figure size 640x480 with 1 Axes>"
      ]
     },
     "metadata": {},
     "output_type": "display_data"
    }
   ],
   "source": [
    "fig = plt.figure()\n",
    "plt.hist(weights_after_training, bins=100)\n",
    "print('After training, the weights appear in an uniform distribution convoluted with a \"flattened\" gaussian distribution,'+\n",
    "       ' using GELU as activation.')"
   ]
  },
  {
   "cell_type": "markdown",
   "id": "c3c5ec28",
   "metadata": {},
   "source": [
    "## B1.3 Compare the weights\n",
    "\n",
    "Construct a plot comparing the weights before fitting to the values after fitting.\n",
    "\n",
    "##### Hint: You may need to use a log plot in y to see the full distribution(s)"
   ]
  },
  {
   "cell_type": "code",
   "execution_count": 26,
   "id": "59ba82be",
   "metadata": {
    "scrolled": true
   },
   "outputs": [
    {
     "data": {
      "image/png": "[encoded data removed]",
      "text/plain": [
       "<Figure size 640x480 with 1 Axes>"
      ]
     },
     "metadata": {},
     "output_type": "display_data"
    }
   ],
   "source": [
    "fig = plt.figure()\n",
    "plt.hist(weights_after_training, bins=100)\n",
    "plt.hist(weights_before_training, bins=100)\n",
    "plt.yscale('log')"
   ]
  },
  {
   "cell_type": "markdown",
   "id": "8e02b2d4",
   "metadata": {},
   "source": [
    "## B1.4 Q: How might the weights vary if you train the model for an additional 80 steps?"
   ]
  },
  {
   "cell_type": "markdown",
   "id": "62b75f3b",
   "metadata": {},
   "source": [
    "### Answer:\n",
    "\n",
    "The weight distribution would vary in the way that it resembles more of the used activation function. In the case with GELU, with an additional 80 steps of training, the model would change in the way that we see more weights lying within the $1\\sigma$ range of the distribution and less weights at the tails of the distribution"
   ]
  },
  {
   "cell_type": "markdown",
   "id": "30cab702",
   "metadata": {},
   "source": [
    "## B1.5 Q: How would inclding a regularizer impact the distribution of weights after training?"
   ]
  },
  {
   "cell_type": "markdown",
   "id": "d87d45f7",
   "metadata": {},
   "source": [
    "### Answer:\n",
    "\n",
    "The use of regularization reduces the impact of outliers in the calculation of the loss function. In general, regularization adds a penalty term which reduces the loss function as the weights grow smaller.\n",
    "\n",
    "With L1 regularization, our weight distribution is expected to be a gaussian distribution centered at 0 with smaller variance. Since L1 regularization adds a penalty term to the loss function which penalizes when weights in any dimension alone are non-zero. Meaning most are populated around 0, resulting in a sparce weight distribution.\n",
    "\n",
    "With L2 regularization, our weight distribution is expected to also be a gaussian but with a higher peak near 0, as we expect the overall values of our weights to be smaller but not necessarily 0. Since the penalty term added by the L2 regularization penalizes against large weights in any dimension."
   ]
  },
  {
   "cell_type": "markdown",
   "id": "59248c16",
   "metadata": {},
   "source": [
    "# Bonus 2: Loading a model and optimizing it further"
   ]
  },
  {
   "cell_type": "markdown",
   "id": "e9e8c458",
   "metadata": {},
   "source": [
    "## B2.1 Saving our model\n",
    "\n",
    "Lets save our model to disk so we can take it home and use it to identify numbers"
   ]
  },
  {
   "cell_type": "code",
   "execution_count": 27,
   "id": "b92a8476",
   "metadata": {},
   "outputs": [
    {
     "name": "stdout",
     "output_type": "stream",
     "text": [
      "Saved trained model at ./keras_mnist.keras \n"
     ]
    }
   ],
   "source": [
    "# saving the model\n",
    "model_path = './keras_mnist.keras'\n",
    "model.save(model_path)\n",
    "print('Saved trained model at %s ' % model_path)"
   ]
  },
  {
   "cell_type": "markdown",
   "id": "c424cc24",
   "metadata": {},
   "source": [
    "## B2.2 Lets load our model and do some further training\n",
    "\n",
    "We can load a keras model from disk using the `'load_model'` utility."
   ]
  },
  {
   "cell_type": "code",
   "execution_count": 28,
   "id": "07d1c9f7-6ad6-44e8-9ce2-593995954bc6",
   "metadata": {
    "scrolled": true
   },
   "outputs": [
    {
     "name": "stdout",
     "output_type": "stream",
     "text": [
      "Model: \"sequential\"\n",
      "_________________________________________________________________\n",
      " Layer (type)                Output Shape              Param #   \n",
      "=================================================================\n",
      " dense (Dense)               (None, 256)               200960    \n",
      "                                                                 \n",
      " activation (Activation)     (None, 256)               0         \n",
      "                                                                 \n",
      " dense_1 (Dense)             (None, 256)               65792     \n",
      "                                                                 \n",
      " activation_1 (Activation)   (None, 256)               0         \n",
      "                                                                 \n",
      " dense_2 (Dense)             (None, 10)                2570      \n",
      "                                                                 \n",
      " activation_2 (Activation)   (None, 10)                0         \n",
      "                                                                 \n",
      "=================================================================\n",
      "Total params: 269,322\n",
      "Trainable params: 269,322\n",
      "Non-trainable params: 0\n",
      "_________________________________________________________________\n"
     ]
    }
   ],
   "source": [
    "# load model\n",
    "nu_model = load_model('./keras_mnist.keras')\n",
    "nu_model.summary()"
   ]
  },
  {
   "cell_type": "markdown",
   "id": "227e1c59",
   "metadata": {},
   "source": [
    "## B2.3 Make some small changes this time\n",
    "\n",
    "Now we want to try training using the `'Adam'` optimizer so re-compile the model.\n",
    "\n",
    "(If you re-run model.summary you will find it doesn't need to be re-built)\n"
   ]
  },
  {
   "cell_type": "code",
   "execution_count": 29,
   "id": "5b85009f",
   "metadata": {},
   "outputs": [
    {
     "name": "stdout",
     "output_type": "stream",
     "text": [
      "Model: \"sequential\"\n",
      "_________________________________________________________________\n",
      " Layer (type)                Output Shape              Param #   \n",
      "=================================================================\n",
      " dense (Dense)               (None, 256)               200960    \n",
      "                                                                 \n",
      " activation (Activation)     (None, 256)               0         \n",
      "                                                                 \n",
      " dense_1 (Dense)             (None, 256)               65792     \n",
      "                                                                 \n",
      " activation_1 (Activation)   (None, 256)               0         \n",
      "                                                                 \n",
      " dense_2 (Dense)             (None, 10)                2570      \n",
      "                                                                 \n",
      " activation_2 (Activation)   (None, 10)                0         \n",
      "                                                                 \n",
      "=================================================================\n",
      "Total params: 269,322\n",
      "Trainable params: 269,322\n",
      "Non-trainable params: 0\n",
      "_________________________________________________________________\n"
     ]
    }
   ],
   "source": [
    "# compiling the sequential model\n",
    "nu_model.compile(loss='categorical_crossentropy', metrics=['accuracy'], optimizer='Adam')\n",
    "\n",
    "# Print a helpful summary of our model\n",
    "nu_model.summary()"
   ]
  },
  {
   "cell_type": "markdown",
   "id": "9a88cd17",
   "metadata": {},
   "source": [
    "## B2.4 Re-Train\n",
    "\n",
    "We don't have new data to train our model on, but what happens if we continue training with our existing dataset?\n",
    "\n",
    "Re-train as before with the same data and batch/epoch sizes."
   ]
  },
  {
   "cell_type": "code",
   "execution_count": 30,
   "id": "98f0a329",
   "metadata": {},
   "outputs": [
    {
     "name": "stdout",
     "output_type": "stream",
     "text": [
      "Epoch 1/30\n",
      "100/100 - 2s - loss: 0.2404 - accuracy: 0.9309 - val_loss: 0.1931 - val_accuracy: 0.9437 - 2s/epoch - 17ms/step\n",
      "Epoch 2/30\n",
      "100/100 - 1s - loss: 0.1610 - accuracy: 0.9540 - val_loss: 0.1272 - val_accuracy: 0.9611 - 1s/epoch - 10ms/step\n",
      "Epoch 3/30\n",
      "100/100 - 1s - loss: 0.1074 - accuracy: 0.9682 - val_loss: 0.0987 - val_accuracy: 0.9703 - 1s/epoch - 10ms/step\n",
      "Epoch 4/30\n",
      "100/100 - 1s - loss: 0.0781 - accuracy: 0.9772 - val_loss: 0.0846 - val_accuracy: 0.9764 - 1s/epoch - 10ms/step\n",
      "Epoch 5/30\n",
      "100/100 - 1s - loss: 0.0592 - accuracy: 0.9825 - val_loss: 0.0769 - val_accuracy: 0.9765 - 1s/epoch - 10ms/step\n",
      "Epoch 6/30\n",
      "100/100 - 1s - loss: 0.0462 - accuracy: 0.9858 - val_loss: 0.0736 - val_accuracy: 0.9773 - 1s/epoch - 10ms/step\n",
      "Epoch 7/30\n",
      "100/100 - 1s - loss: 0.0362 - accuracy: 0.9894 - val_loss: 0.0691 - val_accuracy: 0.9787 - 1s/epoch - 11ms/step\n",
      "Epoch 8/30\n",
      "100/100 - 1s - loss: 0.0294 - accuracy: 0.9913 - val_loss: 0.0685 - val_accuracy: 0.9794 - 1s/epoch - 10ms/step\n",
      "Epoch 9/30\n",
      "100/100 - 1s - loss: 0.0230 - accuracy: 0.9932 - val_loss: 0.0698 - val_accuracy: 0.9796 - 1s/epoch - 10ms/step\n",
      "Epoch 10/30\n",
      "100/100 - 1s - loss: 0.0208 - accuracy: 0.9937 - val_loss: 0.0725 - val_accuracy: 0.9790 - 1s/epoch - 10ms/step\n",
      "Epoch 11/30\n",
      "100/100 - 1s - loss: 0.0169 - accuracy: 0.9953 - val_loss: 0.0699 - val_accuracy: 0.9801 - 1s/epoch - 10ms/step\n",
      "Epoch 12/30\n",
      "100/100 - 1s - loss: 0.0126 - accuracy: 0.9968 - val_loss: 0.0752 - val_accuracy: 0.9779 - 1s/epoch - 11ms/step\n",
      "Epoch 13/30\n",
      "100/100 - 1s - loss: 0.0108 - accuracy: 0.9973 - val_loss: 0.0753 - val_accuracy: 0.9805 - 1s/epoch - 11ms/step\n",
      "Epoch 14/30\n",
      "100/100 - 1s - loss: 0.0088 - accuracy: 0.9977 - val_loss: 0.0767 - val_accuracy: 0.9806 - 1s/epoch - 10ms/step\n",
      "Epoch 15/30\n",
      "100/100 - 1s - loss: 0.0073 - accuracy: 0.9981 - val_loss: 0.0823 - val_accuracy: 0.9798 - 1s/epoch - 10ms/step\n",
      "Epoch 16/30\n",
      "100/100 - 1s - loss: 0.0058 - accuracy: 0.9985 - val_loss: 0.0831 - val_accuracy: 0.9791 - 1s/epoch - 10ms/step\n",
      "Epoch 17/30\n",
      "100/100 - 1s - loss: 0.0041 - accuracy: 0.9992 - val_loss: 0.0787 - val_accuracy: 0.9818 - 1s/epoch - 10ms/step\n",
      "Epoch 18/30\n",
      "100/100 - 1s - loss: 0.0030 - accuracy: 0.9994 - val_loss: 0.0867 - val_accuracy: 0.9801 - 1s/epoch - 10ms/step\n",
      "Epoch 19/30\n",
      "100/100 - 1s - loss: 0.0022 - accuracy: 0.9997 - val_loss: 0.0838 - val_accuracy: 0.9802 - 1s/epoch - 10ms/step\n",
      "Epoch 20/30\n",
      "100/100 - 1s - loss: 0.0018 - accuracy: 0.9998 - val_loss: 0.0874 - val_accuracy: 0.9813 - 1s/epoch - 10ms/step\n",
      "Epoch 21/30\n",
      "100/100 - 1s - loss: 0.0012 - accuracy: 1.0000 - val_loss: 0.0842 - val_accuracy: 0.9814 - 1s/epoch - 10ms/step\n",
      "Epoch 22/30\n",
      "100/100 - 1s - loss: 0.0010 - accuracy: 0.9999 - val_loss: 0.0871 - val_accuracy: 0.9819 - 1s/epoch - 10ms/step\n",
      "Epoch 23/30\n",
      "100/100 - 1s - loss: 8.0873e-04 - accuracy: 1.0000 - val_loss: 0.0893 - val_accuracy: 0.9812 - 1s/epoch - 10ms/step\n",
      "Epoch 24/30\n",
      "100/100 - 1s - loss: 0.0033 - accuracy: 0.9990 - val_loss: 0.1069 - val_accuracy: 0.9788 - 1s/epoch - 11ms/step\n",
      "Epoch 25/30\n",
      "100/100 - 1s - loss: 0.0138 - accuracy: 0.9953 - val_loss: 0.1184 - val_accuracy: 0.9756 - 1s/epoch - 11ms/step\n",
      "Epoch 26/30\n",
      "100/100 - 1s - loss: 0.0084 - accuracy: 0.9971 - val_loss: 0.1020 - val_accuracy: 0.9799 - 1s/epoch - 10ms/step\n",
      "Epoch 27/30\n",
      "100/100 - 1s - loss: 0.0048 - accuracy: 0.9987 - val_loss: 0.0927 - val_accuracy: 0.9805 - 1s/epoch - 10ms/step\n",
      "Epoch 28/30\n",
      "100/100 - 1s - loss: 0.0029 - accuracy: 0.9993 - val_loss: 0.0928 - val_accuracy: 0.9813 - 1s/epoch - 11ms/step\n",
      "Epoch 29/30\n",
      "100/100 - 1s - loss: 0.0014 - accuracy: 0.9998 - val_loss: 0.0922 - val_accuracy: 0.9826 - 1s/epoch - 11ms/step\n",
      "Epoch 30/30\n",
      "100/100 - 1s - loss: 4.2423e-04 - accuracy: 1.0000 - val_loss: 0.0942 - val_accuracy: 0.9822 - 1s/epoch - 11ms/step\n"
     ]
    }
   ],
   "source": [
    "# training the model and saving metrics in history\n",
    "nu_history = nu_model.fit(X_train, Y_train, validation_data=(X_test, Y_test), verbose=2,\n",
    "          batch_size=600,\n",
    "          epochs=30\n",
    "          )"
   ]
  },
  {
   "cell_type": "markdown",
   "id": "35a1290e",
   "metadata": {},
   "source": [
    "## B2.5 Evaluating Extended Model Accuracy\n",
    "\n",
    "Lets make another set of plots to compare how our model accuracy improved with additional training epochs."
   ]
  },
  {
   "cell_type": "code",
   "execution_count": 31,
   "id": "487f3c26",
   "metadata": {
    "scrolled": true
   },
   "outputs": [
    {
     "data": {
      "text/plain": [
       "<matplotlib.legend.Legend at 0x2e5d5bad0>"
      ]
     },
     "execution_count": 31,
     "metadata": {},
     "output_type": "execute_result"
    },
    {
     "data": {
      "image/png": "[encoded data removed]",
      "text/plain": [
       "<Figure size 640x480 with 1 Axes>"
      ]
     },
     "metadata": {},
     "output_type": "display_data"
    }
   ],
   "source": [
    "accuracy_training = nu_history.history['accuracy']\n",
    "accuracy_test = nu_history.history['val_accuracy']\n",
    "\n",
    "# plotting the metrics\n",
    "fig = plt.figure()\n",
    "plt.plot(accuracy_training)\n",
    "plt.plot(accuracy_test)\n",
    "plt.title('model accuracy')\n",
    "plt.ylabel('accuracy')\n",
    "plt.xlabel('epoch')\n",
    "plt.legend(['train', 'validation'], loc='lower right')"
   ]
  },
  {
   "cell_type": "markdown",
   "id": "de963f38",
   "metadata": {},
   "source": [
    "## B2.6 Compare Extended loss functions\n",
    "\n",
    "As above lets generate some new plots for our loss function evolution"
   ]
  },
  {
   "cell_type": "code",
   "execution_count": 32,
   "id": "dac801c5",
   "metadata": {},
   "outputs": [
    {
     "data": {
      "text/plain": [
       "<matplotlib.legend.Legend at 0x2e6473c10>"
      ]
     },
     "execution_count": 32,
     "metadata": {},
     "output_type": "execute_result"
    },
    {
     "data": {
      "image/png": "[encoded data removed]",
      "text/plain": [
       "<Figure size 640x480 with 1 Axes>"
      ]
     },
     "metadata": {},
     "output_type": "display_data"
    }
   ],
   "source": [
    "training_loss = nu_history.history['loss']\n",
    "validation_loss = nu_history.history['val_loss']\n",
    "\n",
    "# plotting the metrics\n",
    "fig = plt.figure()\n",
    "plt.plot(training_loss)\n",
    "plt.plot(validation_loss)\n",
    "plt.title('model loss')\n",
    "plt.ylabel('loss')\n",
    "plt.xlabel('epoch')\n",
    "plt.legend(['train', 'validation'], loc='upper right')"
   ]
  },
  {
   "cell_type": "markdown",
   "id": "d4acf560",
   "metadata": {},
   "source": [
    "## B2.7 Have we over-trained?\n",
    "\n",
    "Using the above plots do you think we've now over-trained our model?"
   ]
  },
  {
   "cell_type": "markdown",
   "id": "dec6f3cd",
   "metadata": {},
   "source": [
    "### Answer:\n",
    "\n",
    "Yes, referring to both the accuracy and loss plot, we can clearly see signs of over-training of the model.\n",
    "\n",
    "As in both the training and validation datasets, we see a big difference in accuracy and the loss. Another note from the plots is that it appears that the training dataset has somewhat good performance comparing to the validation dataset.\n",
    "\n",
    "From the above, it can possibly be as the model is over-trained, it learned to fit the statistical noise presents in the training dataset, resulting in a better performance in fitting the training datset, but lost the generalization ability to fit data outside of that."
   ]
  }
 ],
 "metadata": {
  "kernelspec": {
   "display_name": "Python 3 (ipykernel)",
   "language": "python",
   "name": "python3"
  },
  "language_info": {
   "codemirror_mode": {
    "name": "ipython",
    "version": 3
   },
   "file_extension": ".py",
   "mimetype": "text/x-python",
   "name": "python",
   "nbconvert_exporter": "python",
   "pygments_lexer": "ipython3",
   "version": "3.11.6"
  }
 },
 "nbformat": 4,
 "nbformat_minor": 5
}
