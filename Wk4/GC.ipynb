{
 "cells": [
  {
   "cell_type": "markdown",
   "id": "6d6882db",
   "metadata": {},
   "source": [
    "## About This Session\n",
    "\n",
    "This lab is a guided walkthrough to build a _basic_ 'image classification' DNN model and train it on some data.\n",
    "\n",
    "As we build up our model we will build a familiarity with the various components and strategies for building such an ANN system.\n",
    "\n",
    "After we have been able to do this we will then save and load our now-trained model from disk and use it to make a prediction on a new image which isn't present in the original dataset.\n",
    "\n",
    "\n",
    "_Responsible: Robert Currie (<rob.currie@ed.ac.uk>)_\n",
    "\n",
    "### Notes on assessment\n",
    "* Try and calculate the answers to the exercises provided. If you are unable to complete the question, describe which approach you _would_ have taken to solve the problem\n",
    "* Code must be understandable and reproducible. Before grading the notebook kernel **may** be restarted and re-run, so make sure that your code can run from start to finish without any (unintentional) errors\n",
    "* If you are unsure on how to proceed please **ask one of the TAs** during the workshop\n",
    " - Notebooks should be submitted by **10am on Friday 13th October**\n",
    " - This notebook starts with problem 0. This is not assessed, but it is a helpful exercise to show some of the potential pitfalls of 'trusting algorithms' to do the work for us.\n",
    "\n",
    "* There are 10 sections involved in building a DNN using TensorFlow, trainig it on data and then using it to predict based on a new piece of data never seen by the model before.\n",
    "* There are 2 bonus sections covering 'additional training of a model' and 'the impact of training on the distribution of internal weights within a DNN'. These have bonus points if you manage to finish them, but the final mark is capped at 10.\n"
   ]
  },
  {
   "cell_type": "markdown",
   "id": "9d04643d-4607-4463-a842-91be11c11806",
   "metadata": {},
   "source": [
    "# Building an image classifier with a DNN using TensorFlow\n",
    "\n"
   ]
  },
  {
   "cell_type": "markdown",
   "id": "895060a6",
   "metadata": {},
   "source": [
    "##### Marking\n",
    "\n",
    "Marks for the different parts are shown below.\n",
    "\n",
    "* Questions are marked as starting with '**Q**' and can in principle be attempted at any time.\n",
    "* Problems are intended to be tackled in order, i.e. 1->9\n",
    "* If you jump in at problem 5 for instance you won't yet have a model to train without tackling the steps before.\n",
    "* There are bonus problems at the end to tackle but the maximum mark is 10/10\n",
    "\n",
    "| <p align='left'> Title                         | <p align='left'> Parts | <p align='left'> Number of marks |\n",
    "| ------------------------------------- | ----- | --- |\n",
    "| <p align='left'> 0. Dangers of Fitting                  | <p align='left'>  3  | <p align='left'> 0 |\n",
    "| <p align='left'> 1. Vizualizing the Data                | <p align='left'>  1  | <p align='left'> 1 |\n",
    "| <p align='left'> 2. Formatting Input Data               | <p align='left'>  3  | <p align='left'> 1 |\n",
    "| <p align='left'> 3. Building a DNN model                | <p align='left'>  2  | <p align='left'> 1 |\n",
    "| <p align='left'> 4. Understanding our model             | <p align='left'>  5  | <p align='left'> 2 |\n",
    "| <p align='left'> 5. Training our model                  | <p align='left'>  2  | <p align='left'> 1 |\n",
    "| <p align='left'> 6. Understanding the training history  | <p align='left'>  3  | <p align='left'> 1 |\n",
    "| <p align='left'> 7. Making a Prediction                 | <p align='left'>  2  | <p align='left'> 1 |\n",
    "| <p align='left'> 8. Testing the model                   | <p align='left'>  2  | <p align='left'> 1 |\n",
    "| <p align='left'> 9. Making Predictions with new data    | <p align='left'>  2  | <p align='left'> 1 |\n",
    "| <p align='left'> **Bonus 1:** Analyzing Weights         | <p align='left'>  5  | <p align='left'> 1 |\n",
    "| <p align='left'> **Bonus 2:** Loading a model and optimizing it further | <p align='left'>  7  | <p align='left'> 1 |\n",
    "| <p align='left'> **Total** | | <p align='left'> max **10** |\n"
   ]
  },
  {
   "cell_type": "code",
   "execution_count": 1,
   "id": "f685af8c",
   "metadata": {},
   "outputs": [
    {
     "name": "stdout",
     "output_type": "stream",
     "text": [
      "Num GPUs Available:  0\n"
     ]
    }
   ],
   "source": [
    "# let's keep our keras backend tensorflow quiet\n",
    "import os\n",
    "os.environ['TF_CPP_MIN_LOG_LEVEL']='2'\n",
    "# if you need to force tensorflow to use your CPU\n",
    "#os.environ['CUDA_VISIBLE_DEVICES'] = ''\n",
    "\n",
    "# imports for array-handling and plotting\n",
    "import numpy as np\n",
    "from numpy import argmax\n",
    "import matplotlib\n",
    "import matplotlib.pyplot as plt\n",
    "import matplotlib.image as mpimg\n",
    "\n",
    "# Importing tensorflow so we can access anything later\n",
    "import tensorflow as tf\n",
    "\n",
    "\n",
    "# See how many GPU's are available\n",
    "print(\"Num GPUs Available: \", len(tf.config.list_physical_devices('GPU')))\n",
    "\n",
    "# keras imports for importing our dataset\n",
    "from tensorflow.keras.datasets import mnist\n",
    "# keras imports for building our neural network\n",
    "from tensorflow.keras.models import Sequential\n",
    "from tensorflow.keras.initializers import RandomUniform\n",
    "from tensorflow.keras.layers import Dense, Activation\n",
    "# keras import for manipulating some of our data\n",
    "from tensorflow.keras.utils import to_categorical\n",
    "\n",
    "# keras tools for loading an image from disk\n",
    "from tensorflow.keras.preprocessing.image import load_img\n",
    "from tensorflow.keras.preprocessing.image import img_to_array\n",
    "\n",
    "# keras tools for loading an ANN model from disk\n",
    "from tensorflow.keras.models import load_model\n"
   ]
  },
  {
   "cell_type": "markdown",
   "id": "aec01e96",
   "metadata": {},
   "source": [
    "\n",
    "# Problem 0: Understanding Fitting\n",
    "\n",
    "### Problems when fitting (an interlude)\n",
    "\n",
    "When fitting to a dataset we trust that the algorithm that we're using will find the correct minima and that the fit hasn't become pronned to some problem such as vanishing gradients.\n",
    "\n",
    "Here we're going to demonstrate a quick example of problems that you can hit with a fit failing to converge.\n",
    "\n",
    "There are many tools/checks in place in most modern libraries to help fix common problems, but we will explicitly use the `SLSQP` method here which allows us to look at narrow ranges of a full function.\n",
    "\n",
    "`result = minimize(objective, pt, method='SLSQP', jac=derivative, bounds=[(...),])`\n",
    "\n",
    "The objective function of this fit has been provided it is the equation of the form `y=x^4-5x^2+0.1x` .\n",
    "\n",
    "This function has 3 points where the gradient is zero and has 2 minima, a global minima and a local minima.\n",
    "\n",
    "## 0.1 Provide the derivative function for this 1D method (this is the Jacobian)\n",
    "\n",
    "This is just a case of returning the correct value from the derivative method."
   ]
  },
  {
   "cell_type": "code",
   "execution_count": 2,
   "id": "631f8cdb",
   "metadata": {},
   "outputs": [],
   "source": [
    "from scipy.optimize import minimize\n",
    "\n",
    "def objective(x):\n",
    "  return x[0]**4 - 5*x[0]**2 + 0.1*x[0]\n",
    "\n",
    "# Part 1 complete the derivative function\n",
    "def derivative(x):\n",
    "  return 4*x[0]**3 - 10*x[0] + 0.1"
   ]
  },
  {
   "cell_type": "markdown",
   "id": "f7e42b37",
   "metadata": {},
   "source": [
    "## 0.2 Run the minimize method over given ranges and identify the 3 'stable' points of the function\n",
    "\n",
    "Run the minimize method over these 3 ranges:\n",
    "\n",
    "| <p align='left'> Ranges |\n",
    "| :--- |\n",
    "| ` (0.1, 5.0)` |\n",
    "| ` (0.0, 5.0)`  |\n",
    "| `(-5.0, 5.0)` |\n"
   ]
  },
  {
   "cell_type": "code",
   "execution_count": 3,
   "id": "ccf94f72",
   "metadata": {},
   "outputs": [],
   "source": [
    "pt = (5.,)\n",
    "ranges = [(0.1, 5.0),  (0.0, 5.0),  (-5.0, 5.0)]\n",
    "METHOD = \"SLSQP\"\n",
    "\n",
    "# Part 2 perform 3 minimizations\n",
    "result_1 = minimize( objective, pt, method=METHOD, jac=derivative, bounds=[ranges[0]] )\n",
    "result_2 = minimize( objective, pt, method=METHOD, jac=derivative, bounds=[ranges[1]] )\n",
    "result_3 = minimize( objective, pt, method=METHOD, jac=derivative, bounds=[ranges[2]] )"
   ]
  },
  {
   "cell_type": "markdown",
   "id": "0dd34b65",
   "metadata": {},
   "source": [
    "## 0.3 Identify the true minima of the function\n",
    "\n",
    "##### Hint:\n",
    "    \n",
    "Running `scipy.minimize` returns an object containing the fit result and a bunch of extra output.\n",
    "The value of `x` from a 'minimize' after it has finished running can be accessed via `result['x']` and the function value can be accessed via `result['fun']`."
   ]
  },
  {
   "cell_type": "code",
   "execution_count": 4,
   "id": "f302c108",
   "metadata": {},
   "outputs": [
    {
     "name": "stdout",
     "output_type": "stream",
     "text": [
      "Minimum 1: [1.57609448]\n",
      "Minimum 2: [0.]\n",
      "Minimum 3: [-1.5861131]\n",
      "Result 1: -6.092136908469087\n",
      "Result 2: 0.0\n",
      "Result 3: -6.4083630973486665\n",
      "Best Result is: Result 3\n"
     ]
    }
   ],
   "source": [
    "print('Minimum 1: {}'.format(result_1['x']))\n",
    "print('Minimum 2: {}'.format(result_2['x']))\n",
    "print('Minimum 3: {}'.format(result_3['x']))\n",
    "\n",
    "print('Result 1: {}'.format(result_1['fun']))\n",
    "print('Result 2: {}'.format(result_2['fun']))\n",
    "print('Result 3: {}'.format(result_3['fun']))\n",
    "\n",
    "# Part 3 identify the true minima\n",
    "results = {\n",
    "    \"Result 1\":result_1['fun'],\n",
    "    \"Result 2\":result_2['fun'],\n",
    "    \"Result 3\":result_3['fun'],\n",
    "}\n",
    "\n",
    "print(f'Best Result is: {min(results, key=results.get)}' ) "
   ]
  },
  {
   "cell_type": "markdown",
   "id": "fe5e051f",
   "metadata": {},
   "source": [
    "# Load & Visualize the dataset\n",
    "\n",
    "#### Loading the data\n",
    "\n",
    "The data we're using comes from the well use mnist dataset which has been around since the 80s and is something people new to AI/ML often try their hand at building models for.\n",
    "\n",
    "###### About the data\n",
    "https://www.tensorflow.org/api_docs/python/tf/keras/datasets/mnist/load_data\n",
    "\n",
    "This dataset consists of many pixelated digitized images of hand-written numbers.\n",
    "These images contain data in a single channel i.e. black and white images. White images on a Black background.\n",
    "\n",
    "\n",
    "We've loaded the mnist class and we just need to call `load_data` to get the dataset in order for us to use this data.\n",
    "\n",
    "This method returns 2 tuples. The training data and labels as well as the test data and labels."
   ]
  },
  {
   "cell_type": "code",
   "execution_count": 5,
   "id": "12460d14",
   "metadata": {},
   "outputs": [
    {
     "name": "stdout",
     "output_type": "stream",
     "text": [
      "Images are a <class 'numpy.ndarray'>\n"
     ]
    }
   ],
   "source": [
    "# Load the Training and Test data\n",
    "(X_train, Y_train), (X_test, Y_test) =  mnist.load_data()\n",
    "\n",
    "print(f\"Images are a {type(X_train)}\")"
   ]
  },
  {
   "cell_type": "markdown",
   "id": "f0718970",
   "metadata": {},
   "source": [
    "# Visualize the dataset\n",
    "\n",
    "It's important to understand the data that you're trying to train on. In most cases preparing the data in some way that it's suitable for training is the most time consuming part of building and training a model to be useful.\n",
    "\n",
    "# Problem 1: Understanding the input data\n",
    "\n",
    "Now that we've loaded the data we need to make sure that it's in a format that we can use.\n",
    "\n",
    "## 1.1 First, What is the shape of an individual image?\n",
    "Firstly, what is the shape of the each input image?, and what range of values do the individual pixels within the image take?"
   ]
  },
  {
   "cell_type": "code",
   "execution_count": 6,
   "id": "1165f5cc",
   "metadata": {},
   "outputs": [],
   "source": [
    "\"\"\"\n",
    "Function to normalise Images \n",
    "\"\"\"\n",
    "def normalise_dataset(dataset, mean=0, std=1, max_value=255.0):\n",
    "    dataset = ( (dataset/max_value) - mean )/std\n",
    "    return dataset"
   ]
  },
  {
   "cell_type": "code",
   "execution_count": 7,
   "id": "dc8b30c0",
   "metadata": {},
   "outputs": [
    {
     "name": "stdout",
     "output_type": "stream",
     "text": [
      "The shape of the MNIST dataset is 60000x28x28.\n",
      "Minimum pixel value is 0 and maximum is 255.\n",
      "Minimum lable value is 0 and maximum is 9.\n",
      "These is the typical pixel range for the PNG format.\n",
      "Tensor dtype: uint8\n"
     ]
    }
   ],
   "source": [
    "train_sample_number, hight, width = X_train.shape\n",
    "pixel_value_min = X_train.min()\n",
    "pixel_value_max = X_train.max()\n",
    "lable_value_max = Y_train.max()\n",
    "lable_value_min = Y_train.min()\n",
    "\n",
    "print(f\"The shape of the MNIST dataset is {train_sample_number}x{hight}x{width}.\")\n",
    "print(f\"Minimum pixel value is {pixel_value_min} and maximum is {pixel_value_max}.\")\n",
    "print(f\"Minimum lable value is {lable_value_min} and maximum is {lable_value_max}.\")\n",
    "print(f\"These is the typical pixel range for the PNG format.\")\n",
    "print(f\"Tensor dtype: {X_train.dtype}\")"
   ]
  },
  {
   "cell_type": "markdown",
   "id": "20b222e4",
   "metadata": {},
   "source": [
    "## 1.2 Plotting some of the input data\n",
    "\n",
    "Secondly, we should attempt to plot some of the input data to our fit to understand what the data looks like.\n",
    "It is possible to use the pyplot method to plot the images which we have just loaded into tensors.\n",
    "\n",
    "##### Hint:\n",
    "The options of `cmap='gray', interpolation='none'` with `pyplot.imshow` show the images as we would expect to see them.\n",
    "\n",
    "https://matplotlib.org/stable/api/_as_gen/matplotlib.pyplot.imshow.html\n",
    "\n",
    "\n",
    "#### Plot the Data\n",
    "\n",
    "###### Plot the first 2 values from the training portion of the dataset using the values to the first 2 training labels as labels."
   ]
  },
  {
   "cell_type": "code",
   "execution_count": 8,
   "id": "477f41df",
   "metadata": {},
   "outputs": [
    {
     "data": {
      "image/png": "[encoded data removed]",
      "text/plain": [
       "<Figure size 640x480 with 2 Axes>"
      ]
     },
     "metadata": {},
     "output_type": "display_data"
    }
   ],
   "source": [
    "fig, (ax1, ax2) = plt.subplots(1, 2)\n",
    "axes = (ax1, ax2)\n",
    "for idx in range(len(axes)):\n",
    "    axes[idx].imshow(X_train[idx], cmap=\"gray\", interpolation=\"none\")\n",
    "    axes[idx].set_title(f\"MNIST lable: {Y_train[idx]}\")"
   ]
  },
  {
   "cell_type": "markdown",
   "id": "8dcb09b4",
   "metadata": {},
   "source": [
    "# Normalizing and Formatting the dataset\n",
    "\n",
    "Before we begin fitting the dataset it is useful to make sure that the data is in a format that we can use for fitting.\n",
    "\n",
    "\n",
    "\n",
    "## Problem 2: Formatting Input Data\n",
    "\n",
    "\n",
    "### 2.1 Normalize and reformat our Input Data.\n",
    "\n",
    "For our model we're going to use a flat array of 768 pixel values as our input and we want to make sure that our data has been correctly normalized so that the values are all in the unitary range [0,1].\n",
    "\n",
    "The data should be converted to the `'float32'` using the `astype` method and then normalized to have values between 0 and 1."
   ]
  },
  {
   "cell_type": "code",
   "execution_count": 9,
   "id": "7b5c39a5",
   "metadata": {},
   "outputs": [],
   "source": [
    "# convert data into a float from an integer array\n",
    "X_train = tf.cast(X_train, tf.float32)\n",
    "X_test = tf.cast(X_test, tf.float32)\n",
    "Y_train = tf.cast(Y_train, tf.float32)\n",
    "Y_test = tf.cast(Y_test, tf.float32)\n",
    "\n",
    "\n",
    "# normalizing the data to help with the training\n",
    "X_train = normalise_dataset(X_train, max_value=pixel_value_max)\n",
    "X_test = normalise_dataset(X_test, max_value=pixel_value_max)"
   ]
  },
  {
   "cell_type": "markdown",
   "id": "3d5dbcae",
   "metadata": {},
   "source": [
    "## 2.2 Resize the input data\n",
    "The input data should be re-formatted such that we have 1 flat array of inputs for each image.\n",
    "\n",
    "i.e. we have 60,000 images for training, we want each of these images to contain data in a flat array which means we are going from a 3D tensor to a 2D tensor. e.g. `(60000, 10, 10) ==> (60000, 100)` \n",
    "\n",
    "##### Hint: Tensor.Reshape can be used to simplify the re-shaping/re-sizing of the input data"
   ]
  },
  {
   "cell_type": "code",
   "execution_count": 10,
   "id": "ed89e151",
   "metadata": {},
   "outputs": [],
   "source": [
    "## building the input 1D vector from the 28x28 pixels\n",
    "\n",
    "X_train = tf.reshape(X_train, shape=[X_train.shape[0], -1])\n",
    "X_test = tf.reshape(X_test, shape=[X_test.shape[0], -1])"
   ]
  },
  {
   "cell_type": "markdown",
   "id": "69060a15",
   "metadata": {},
   "source": [
    "## 2.3 Change our input labels for fitting\n",
    "\n",
    "Now we need to make sure that the dataset labels are in a format which we can use alongside the training and testing dataset.\n",
    "\n",
    "Typically DNN expect category labels to be in a one-hot encoding. This means that labels are vectors with a single entry of 1 and all other entries being 0. \n",
    "\n",
    "##### Hint: This can be achieved using the `to_categorical` utility function in Keras.\n",
    "\n",
    "Using this change the Y_test and Y_train labels to be cateory labels.\n",
    "\n",
    "If you want to be explicit we know we're working with `n_classes = 10` due to looking at the numerical characters `0...9`."
   ]
  },
  {
   "cell_type": "code",
   "execution_count": 11,
   "id": "da07bda1",
   "metadata": {},
   "outputs": [
    {
     "name": "stdout",
     "output_type": "stream",
     "text": [
      "tf.Tensor(5.0, shape=(), dtype=float32)\n",
      "tf.Tensor(7.0, shape=(), dtype=float32)\n",
      "(60000,)\n"
     ]
    }
   ],
   "source": [
    "# Print value of label prior to one hot encoding\n",
    "print(Y_train[0])\n",
    "print(Y_test[0])\n",
    "print(Y_train.shape)"
   ]
  },
  {
   "cell_type": "code",
   "execution_count": 12,
   "id": "7c5854c5",
   "metadata": {},
   "outputs": [
    {
     "name": "stdout",
     "output_type": "stream",
     "text": [
      "Shape before one-hot encoding:  (60000,)\n"
     ]
    }
   ],
   "source": [
    "n_classes = 10\n",
    "print(\"Shape before one-hot encoding: \", Y_train.shape)\n",
    "\n",
    "Y_train = to_categorical(Y_train, num_classes=10, dtype=\"float32\")\n",
    "Y_test = to_categorical(Y_test, num_classes=10, dtype=\"float32\")"
   ]
  },
  {
   "cell_type": "code",
   "execution_count": 13,
   "id": "053bfba2",
   "metadata": {},
   "outputs": [
    {
     "name": "stdout",
     "output_type": "stream",
     "text": [
      "[0. 0. 0. 0. 0. 1. 0. 0. 0. 0.]\n",
      "[0. 0. 0. 0. 0. 0. 0. 1. 0. 0.]\n",
      "(60000, 10)\n"
     ]
    }
   ],
   "source": [
    "# Print lable values after one hot encoding\n",
    "print(Y_train[0])\n",
    "print(Y_test[0])\n",
    "print(Y_train.shape)"
   ]
  },
  {
   "cell_type": "markdown",
   "id": "ae28bb7a",
   "metadata": {},
   "source": [
    "# Problem 3: Building the DNN\n",
    "\n",
    "\n",
    "In Tensorflow a 'standard' DNN model is defined using the Sequential model.\n",
    "https://www.tensorflow.org/api_docs/python/tf/keras/Sequential\n",
    "\n",
    "Then additional layers are added to the model one at a time until the model is complete using `model.add`.\n",
    "\n",
    "\n",
    "## Build a DNN with 2 \"hidden layers\"\n",
    "\n",
    "You should build a DNN such that it has 2 hidden and 1 output layer. When building a model we have neurons and activation functions. These are 'layers' in TensorFlow but we want 3 layers with neurons and activators such as: \n",
    "\n",
    "| <p align='left'> Layer |\n",
    "| :--- |\n",
    "| Dense |\n",
    "| Activation |\n",
    "| Dense |\n",
    "| Activation |\n",
    "| Dense |\n",
    "| Activation |\n",
    "\n",
    "A flat layer of neurons is defined using the `Dense` layer in Tensorflow.\n",
    "For our example we want to keep our Activators and our layers of neurons separate.\n",
    "    \n",
    "We want to use a random flat distribution of weights when initializing the parameters in this fit,\n",
    "    \n",
    "### !!Use the parameters `use_bias=True, kernel_initializer='RandomUniform'` when constructing a layer of neurons!!\n",
    "\n",
    "###### NB: By default each Dense layer also applies a bias to each node to improve the fit performance.\n",
    "    \n",
    "For our hidden nodes we want to use the `'GELU'` Activator for this example and `'softmax'` to build our a numerical classifier."
   ]
  },
  {
   "cell_type": "code",
   "execution_count": 14,
   "id": "ba268e86",
   "metadata": {},
   "outputs": [],
   "source": [
    "\"\"\"\n",
    "Hyper Parameters (ish)\n",
    "\"\"\"\n",
    "n_categories = 10\n",
    "n_hidden_nodes_1 = 256\n",
    "n_hidden_nodes_2 = 512\n",
    "hidden_activation_type = 'gelu'\n",
    "output_activation_type = \"softmax\"\n",
    "weight_start_values = 'RandomUniform'\n",
    "\n",
    "\n",
    "# building a linear stack of layers with the sequential model\n",
    "model = Sequential()\n",
    "\n",
    "# First hidden layer\n",
    "model.add(Dense(\n",
    "     units = n_hidden_nodes_1,\n",
    "     use_bias = True,\n",
    "     kernel_initializer = weight_start_values   \n",
    "))\n",
    "model.add(Activation(hidden_activation_type))\n",
    "\n",
    "# Second hidden layer\n",
    "model.add(Dense(\n",
    "     units = n_hidden_nodes_1,\n",
    "     use_bias = True,\n",
    "     kernel_initializer = weight_start_values   \n",
    "))\n",
    "model.add(Activation(hidden_activation_type))\n",
    "\n",
    "# Output layer\n",
    "model.add(Dense(\n",
    "     units = n_categories,\n",
    "     use_bias = True,\n",
    "     kernel_initializer = weight_start_values   \n",
    "))\n",
    "model.add(Activation(output_activation_type))"
   ]
  },
  {
   "cell_type": "markdown",
   "id": "8e825c92",
   "metadata": {},
   "source": [
    "## Compiling our model\n",
    "\n",
    "At this point we have a description of our model. Now we want to compile it.\n",
    "\n",
    "Strictly speaking some of the steps here are optional, but we want to be explicit with how we're building our model to be sure that we've understood everything that is going on.\n",
    "\n",
    "We will be using `categorical_crossentropy` as discussed in our lecture as our loss model.\n",
    "\n",
    "We will also be using the `Stochastic Gradient Descent` or `SGD` optimizer for our training. This is different to the default.\n",
    "\n",
    "`metrics=['accuracy']` is also passed to our model to ensure that it collects training data that we're interested in later on.\n",
    "\n",
    "\n",
    "## Now compile and build the model"
   ]
  },
  {
   "cell_type": "code",
   "execution_count": 15,
   "id": "3c3deac8-536b-4262-93a6-0479dc1bb53e",
   "metadata": {
    "scrolled": true
   },
   "outputs": [
    {
     "name": "stdout",
     "output_type": "stream",
     "text": [
      "Model: \"sequential\"\n",
      "_________________________________________________________________\n",
      " Layer (type)                Output Shape              Param #   \n",
      "=================================================================\n",
      " dense (Dense)               (1, 256)                  200960    \n",
      "                                                                 \n",
      " activation (Activation)     (1, 256)                  0         \n",
      "                                                                 \n",
      " dense_1 (Dense)             (1, 256)                  65792     \n",
      "                                                                 \n",
      " activation_1 (Activation)   (1, 256)                  0         \n",
      "                                                                 \n",
      " dense_2 (Dense)             (1, 10)                   2570      \n",
      "                                                                 \n",
      " activation_2 (Activation)   (1, 10)                   0         \n",
      "                                                                 \n",
      "=================================================================\n",
      "Total params: 269,322\n",
      "Trainable params: 269,322\n",
      "Non-trainable params: 0\n",
      "_________________________________________________________________\n"
     ]
    }
   ],
   "source": [
    "# compiling the sequential model\n",
    "model.compile(loss='categorical_crossentropy', metrics=['accuracy'], optimizer='SGD')\n",
    "# Now we want to 'build' the model, so tell it about our input data format\n",
    "model.build(input_shape=(1,784))\n",
    "\n",
    "# Print a helpful summary of our model\n",
    "model.summary()\n",
    "\n",
    "# Now we're going to take a copy of the weights in our first hidden layer of the fit\n",
    "weights_before_training = model.layers[0].get_weights()[0].copy()\n",
    "weights_before_training.resize(200704)"
   ]
  },
  {
   "cell_type": "markdown",
   "id": "29f3ef3d",
   "metadata": {},
   "source": [
    "# Problem 4: Understanding our model\n",
    "\n",
    "## Q: 4.1\n",
    "\n",
    "##### Using an Input Shape of `784` and a hidden layer of `256` nodes you should see `200960` free parameters in the first layer of your model.\n",
    "\n",
    "##### Explain where this number of free parameters comes from.\n",
    "\n"
   ]
  },
  {
   "cell_type": "markdown",
   "id": "f5ee2c65",
   "metadata": {},
   "source": [
    "### Answer:\n",
    "\n",
    "The number of free parameters per layer is given by ther number of weights in a layer + the number of biases in a layer. \n",
    "\n",
    "For a linear feed-forward network, the number of weights in a layer in given by the product of input nodes and output nodes and the number of biases is given by the number of nodes in the output, hence the total number of free parameters is given by $N_{param} = (N_{in}*N_{out}) + N_{out}$ "
   ]
  },
  {
   "cell_type": "markdown",
   "id": "aad93994",
   "metadata": {},
   "source": [
    "## Q: 4.2\n",
    "\n",
    "##### Using `256` nodes per hidden layer there will also be `65792` weights between the 2 hidden layers in the model.\n",
    "\n",
    "##### Explain where these weights come from."
   ]
  },
  {
   "cell_type": "markdown",
   "id": "01cd4150",
   "metadata": {},
   "source": [
    "### Answer:\n",
    "\n",
    "See answer from question 4.1. Same answer"
   ]
  },
  {
   "cell_type": "markdown",
   "id": "4e47c4f2",
   "metadata": {},
   "source": [
    "## Q: 4.3\n",
    "\n",
    "##### Explain why a `'softmax'` activation function is used at the end of our classification model."
   ]
  },
  {
   "cell_type": "markdown",
   "id": "735055f0",
   "metadata": {},
   "source": [
    "### Answer:\n",
    "\n",
    "Our outputs must be the degree of belief of the model that an image to be a specific lable, hence we wish our outputs  to be probabilities bounded to the range $\\in [0, 1]$. Hence as softmax activation function is also limited to this range, we use this for our output layers."
   ]
  },
  {
   "cell_type": "markdown",
   "id": "47a3c156",
   "metadata": {},
   "source": [
    "## Q: 4.4\n",
    "\n",
    "##### How many weights would we expect in the whole model when using 128 neurons per hidden layer?"
   ]
  },
  {
   "cell_type": "markdown",
   "id": "8486e255",
   "metadata": {},
   "source": [
    "### Answer:\n",
    "\n",
    "Using equation from above: $(128*128) + 128 = 16512$ weights"
   ]
  },
  {
   "cell_type": "markdown",
   "id": "6d623e92",
   "metadata": {},
   "source": [
    "## Q: 4.5\n",
    "\n",
    "##### Why are activation functions needed in a DNN which is trained on data?"
   ]
  },
  {
   "cell_type": "markdown",
   "id": "846da7a7",
   "metadata": {},
   "source": [
    "### Answer:\n",
    "\n",
    "Dense layers are simply linear layers with linear functions being applied at each node. In order for the outputs of our layers to be non-linear, we require non-linear activtion functions"
   ]
  },
  {
   "cell_type": "markdown",
   "id": "063d1791",
   "metadata": {},
   "source": [
    "\n",
    "# Problem 5: Train the model\n",
    "\n",
    "### Model Training\n",
    "\n",
    "Now that we have a model we want to fit we now want to train it on our training dataset making sure to use our validation data to check on our training.\n",
    "\n",
    "The result of this training will be stored in our history and will allow us to go back and asses how well our training worked.\n",
    "\n",
    "\n",
    "## 5.1 Perform the training\n",
    "Complete and run the command below to train the model on data using a `batch_size` of 600 for 100 `epochs`.\n"
   ]
  },
  {
   "cell_type": "code",
   "execution_count": 16,
   "id": "b02c7124",
   "metadata": {
    "scrolled": true
   },
   "outputs": [
    {
     "name": "stdout",
     "output_type": "stream",
     "text": [
      "Epoch 1/100\n",
      "100/100 - 4s - loss: 2.2978 - accuracy: 0.2093 - val_loss: 2.2925 - val_accuracy: 0.3186 - 4s/epoch - 40ms/step\n",
      "Epoch 2/100\n",
      "100/100 - 2s - loss: 2.2873 - accuracy: 0.3744 - val_loss: 2.2813 - val_accuracy: 0.4168 - 2s/epoch - 20ms/step\n",
      "Epoch 3/100\n",
      "100/100 - 2s - loss: 2.2755 - accuracy: 0.4441 - val_loss: 2.2683 - val_accuracy: 0.4704 - 2s/epoch - 18ms/step\n",
      "Epoch 4/100\n",
      "100/100 - 2s - loss: 2.2614 - accuracy: 0.4841 - val_loss: 2.2520 - val_accuracy: 0.5075 - 2s/epoch - 18ms/step\n",
      "Epoch 5/100\n",
      "100/100 - 2s - loss: 2.2429 - accuracy: 0.5033 - val_loss: 2.2298 - val_accuracy: 0.5236 - 2s/epoch - 19ms/step\n",
      "Epoch 6/100\n",
      "100/100 - 3s - loss: 2.2166 - accuracy: 0.5090 - val_loss: 2.1971 - val_accuracy: 0.5131 - 3s/epoch - 35ms/step\n",
      "Epoch 7/100\n",
      "100/100 - 3s - loss: 2.1763 - accuracy: 0.4901 - val_loss: 2.1456 - val_accuracy: 0.4959 - 3s/epoch - 32ms/step\n",
      "Epoch 8/100\n",
      "100/100 - 3s - loss: 2.1123 - accuracy: 0.4859 - val_loss: 2.0648 - val_accuracy: 0.5109 - 3s/epoch - 27ms/step\n",
      "Epoch 9/100\n",
      "100/100 - 2s - loss: 2.0153 - accuracy: 0.5337 - val_loss: 1.9453 - val_accuracy: 0.5957 - 2s/epoch - 18ms/step\n",
      "Epoch 10/100\n",
      "100/100 - 2s - loss: 1.8714 - accuracy: 0.6242 - val_loss: 1.7625 - val_accuracy: 0.6674 - 2s/epoch - 17ms/step\n",
      "Epoch 11/100\n",
      "100/100 - 2s - loss: 1.6512 - accuracy: 0.6776 - val_loss: 1.4904 - val_accuracy: 0.7002 - 2s/epoch - 17ms/step\n",
      "Epoch 12/100\n",
      "100/100 - 2s - loss: 1.3603 - accuracy: 0.7044 - val_loss: 1.1881 - val_accuracy: 0.7278 - 2s/epoch - 18ms/step\n",
      "Epoch 13/100\n",
      "100/100 - 2s - loss: 1.0926 - accuracy: 0.7387 - val_loss: 0.9621 - val_accuracy: 0.7620 - 2s/epoch - 23ms/step\n",
      "Epoch 14/100\n",
      "100/100 - 2s - loss: 0.9078 - accuracy: 0.7681 - val_loss: 0.8153 - val_accuracy: 0.7887 - 2s/epoch - 20ms/step\n",
      "Epoch 15/100\n",
      "100/100 - 2s - loss: 0.7861 - accuracy: 0.7911 - val_loss: 0.7178 - val_accuracy: 0.8087 - 2s/epoch - 19ms/step\n",
      "Epoch 16/100\n",
      "100/100 - 2s - loss: 0.7023 - accuracy: 0.8101 - val_loss: 0.6480 - val_accuracy: 0.8235 - 2s/epoch - 19ms/step\n",
      "Epoch 17/100\n",
      "100/100 - 2s - loss: 0.6410 - accuracy: 0.8245 - val_loss: 0.5950 - val_accuracy: 0.8338 - 2s/epoch - 18ms/step\n",
      "Epoch 18/100\n",
      "100/100 - 2s - loss: 0.5941 - accuracy: 0.8360 - val_loss: 0.5556 - val_accuracy: 0.8462 - 2s/epoch - 19ms/step\n",
      "Epoch 19/100\n",
      "100/100 - 2s - loss: 0.5570 - accuracy: 0.8464 - val_loss: 0.5221 - val_accuracy: 0.8550 - 2s/epoch - 17ms/step\n",
      "Epoch 20/100\n",
      "100/100 - 2s - loss: 0.5273 - accuracy: 0.8544 - val_loss: 0.4970 - val_accuracy: 0.8629 - 2s/epoch - 18ms/step\n",
      "Epoch 21/100\n",
      "100/100 - 2s - loss: 0.5028 - accuracy: 0.8607 - val_loss: 0.4737 - val_accuracy: 0.8689 - 2s/epoch - 19ms/step\n",
      "Epoch 22/100\n",
      "100/100 - 2s - loss: 0.4825 - accuracy: 0.8665 - val_loss: 0.4552 - val_accuracy: 0.8734 - 2s/epoch - 17ms/step\n",
      "Epoch 23/100\n",
      "100/100 - 2s - loss: 0.4651 - accuracy: 0.8708 - val_loss: 0.4407 - val_accuracy: 0.8756 - 2s/epoch - 17ms/step\n",
      "Epoch 24/100\n",
      "100/100 - 2s - loss: 0.4504 - accuracy: 0.8744 - val_loss: 0.4264 - val_accuracy: 0.8816 - 2s/epoch - 17ms/step\n",
      "Epoch 25/100\n",
      "100/100 - 2s - loss: 0.4376 - accuracy: 0.8773 - val_loss: 0.4151 - val_accuracy: 0.8835 - 2s/epoch - 16ms/step\n",
      "Epoch 26/100\n",
      "100/100 - 2s - loss: 0.4267 - accuracy: 0.8803 - val_loss: 0.4059 - val_accuracy: 0.8862 - 2s/epoch - 16ms/step\n",
      "Epoch 27/100\n",
      "100/100 - 2s - loss: 0.4168 - accuracy: 0.8826 - val_loss: 0.3971 - val_accuracy: 0.8881 - 2s/epoch - 17ms/step\n",
      "Epoch 28/100\n",
      "100/100 - 2s - loss: 0.4083 - accuracy: 0.8855 - val_loss: 0.3885 - val_accuracy: 0.8904 - 2s/epoch - 16ms/step\n",
      "Epoch 29/100\n",
      "100/100 - 2s - loss: 0.4005 - accuracy: 0.8879 - val_loss: 0.3808 - val_accuracy: 0.8930 - 2s/epoch - 17ms/step\n",
      "Epoch 30/100\n",
      "100/100 - 2s - loss: 0.3937 - accuracy: 0.8899 - val_loss: 0.3748 - val_accuracy: 0.8950 - 2s/epoch - 17ms/step\n",
      "Epoch 31/100\n",
      "100/100 - 2s - loss: 0.3873 - accuracy: 0.8910 - val_loss: 0.3704 - val_accuracy: 0.8956 - 2s/epoch - 15ms/step\n",
      "Epoch 32/100\n",
      "100/100 - 1s - loss: 0.3814 - accuracy: 0.8935 - val_loss: 0.3633 - val_accuracy: 0.8968 - 1s/epoch - 15ms/step\n",
      "Epoch 33/100\n",
      "100/100 - 1s - loss: 0.3761 - accuracy: 0.8942 - val_loss: 0.3597 - val_accuracy: 0.8982 - 1s/epoch - 15ms/step\n",
      "Epoch 34/100\n",
      "100/100 - 2s - loss: 0.3711 - accuracy: 0.8957 - val_loss: 0.3557 - val_accuracy: 0.8991 - 2s/epoch - 15ms/step\n",
      "Epoch 35/100\n",
      "100/100 - 2s - loss: 0.3665 - accuracy: 0.8965 - val_loss: 0.3513 - val_accuracy: 0.9009 - 2s/epoch - 17ms/step\n",
      "Epoch 36/100\n",
      "100/100 - 2s - loss: 0.3623 - accuracy: 0.8975 - val_loss: 0.3465 - val_accuracy: 0.9009 - 2s/epoch - 16ms/step\n",
      "Epoch 37/100\n",
      "100/100 - 2s - loss: 0.3582 - accuracy: 0.8990 - val_loss: 0.3435 - val_accuracy: 0.9023 - 2s/epoch - 19ms/step\n",
      "Epoch 38/100\n",
      "100/100 - 2s - loss: 0.3545 - accuracy: 0.8998 - val_loss: 0.3404 - val_accuracy: 0.9037 - 2s/epoch - 18ms/step\n",
      "Epoch 39/100\n",
      "100/100 - 2s - loss: 0.3508 - accuracy: 0.9010 - val_loss: 0.3365 - val_accuracy: 0.9039 - 2s/epoch - 16ms/step\n",
      "Epoch 40/100\n",
      "100/100 - 2s - loss: 0.3475 - accuracy: 0.9015 - val_loss: 0.3327 - val_accuracy: 0.9052 - 2s/epoch - 17ms/step\n",
      "Epoch 41/100\n",
      "100/100 - 2s - loss: 0.3442 - accuracy: 0.9027 - val_loss: 0.3309 - val_accuracy: 0.9051 - 2s/epoch - 15ms/step\n",
      "Epoch 42/100\n",
      "100/100 - 2s - loss: 0.3411 - accuracy: 0.9036 - val_loss: 0.3274 - val_accuracy: 0.9060 - 2s/epoch - 16ms/step\n",
      "Epoch 43/100\n",
      "100/100 - 2s - loss: 0.3382 - accuracy: 0.9043 - val_loss: 0.3249 - val_accuracy: 0.9074 - 2s/epoch - 16ms/step\n",
      "Epoch 44/100\n",
      "100/100 - 2s - loss: 0.3353 - accuracy: 0.9051 - val_loss: 0.3219 - val_accuracy: 0.9078 - 2s/epoch - 19ms/step\n",
      "Epoch 45/100\n",
      "100/100 - 2s - loss: 0.3327 - accuracy: 0.9058 - val_loss: 0.3196 - val_accuracy: 0.9092 - 2s/epoch - 17ms/step\n",
      "Epoch 46/100\n",
      "100/100 - 2s - loss: 0.3300 - accuracy: 0.9067 - val_loss: 0.3175 - val_accuracy: 0.9100 - 2s/epoch - 16ms/step\n",
      "Epoch 47/100\n",
      "100/100 - 2s - loss: 0.3275 - accuracy: 0.9067 - val_loss: 0.3145 - val_accuracy: 0.9098 - 2s/epoch - 19ms/step\n",
      "Epoch 48/100\n",
      "100/100 - 2s - loss: 0.3251 - accuracy: 0.9077 - val_loss: 0.3122 - val_accuracy: 0.9113 - 2s/epoch - 22ms/step\n",
      "Epoch 49/100\n",
      "100/100 - 2s - loss: 0.3228 - accuracy: 0.9082 - val_loss: 0.3112 - val_accuracy: 0.9114 - 2s/epoch - 25ms/step\n",
      "Epoch 50/100\n",
      "100/100 - 2s - loss: 0.3205 - accuracy: 0.9086 - val_loss: 0.3092 - val_accuracy: 0.9115 - 2s/epoch - 19ms/step\n",
      "Epoch 51/100\n",
      "100/100 - 1s - loss: 0.3184 - accuracy: 0.9097 - val_loss: 0.3072 - val_accuracy: 0.9128 - 1s/epoch - 15ms/step\n",
      "Epoch 52/100\n",
      "100/100 - 1s - loss: 0.3163 - accuracy: 0.9099 - val_loss: 0.3055 - val_accuracy: 0.9128 - 1s/epoch - 15ms/step\n",
      "Epoch 53/100\n",
      "100/100 - 2s - loss: 0.3143 - accuracy: 0.9106 - val_loss: 0.3037 - val_accuracy: 0.9140 - 2s/epoch - 16ms/step\n",
      "Epoch 54/100\n",
      "100/100 - 2s - loss: 0.3123 - accuracy: 0.9114 - val_loss: 0.3013 - val_accuracy: 0.9147 - 2s/epoch - 16ms/step\n",
      "Epoch 55/100\n",
      "100/100 - 1s - loss: 0.3104 - accuracy: 0.9119 - val_loss: 0.2997 - val_accuracy: 0.9155 - 1s/epoch - 15ms/step\n",
      "Epoch 56/100\n",
      "100/100 - 1s - loss: 0.3085 - accuracy: 0.9126 - val_loss: 0.2980 - val_accuracy: 0.9143 - 1s/epoch - 15ms/step\n",
      "Epoch 57/100\n",
      "100/100 - 2s - loss: 0.3069 - accuracy: 0.9129 - val_loss: 0.2971 - val_accuracy: 0.9148 - 2s/epoch - 18ms/step\n",
      "Epoch 58/100\n",
      "100/100 - 1s - loss: 0.3050 - accuracy: 0.9136 - val_loss: 0.2970 - val_accuracy: 0.9171 - 1s/epoch - 15ms/step\n",
      "Epoch 59/100\n",
      "100/100 - 1s - loss: 0.3035 - accuracy: 0.9139 - val_loss: 0.2931 - val_accuracy: 0.9155 - 1s/epoch - 15ms/step\n",
      "Epoch 60/100\n",
      "100/100 - 1s - loss: 0.3018 - accuracy: 0.9144 - val_loss: 0.2922 - val_accuracy: 0.9165 - 1s/epoch - 14ms/step\n",
      "Epoch 61/100\n",
      "100/100 - 1s - loss: 0.3000 - accuracy: 0.9152 - val_loss: 0.2910 - val_accuracy: 0.9175 - 1s/epoch - 14ms/step\n",
      "Epoch 62/100\n",
      "100/100 - 1s - loss: 0.2986 - accuracy: 0.9150 - val_loss: 0.2895 - val_accuracy: 0.9188 - 1s/epoch - 14ms/step\n",
      "Epoch 63/100\n",
      "100/100 - 1s - loss: 0.2970 - accuracy: 0.9154 - val_loss: 0.2882 - val_accuracy: 0.9189 - 1s/epoch - 15ms/step\n",
      "Epoch 64/100\n",
      "100/100 - 1s - loss: 0.2957 - accuracy: 0.9158 - val_loss: 0.2871 - val_accuracy: 0.9185 - 1s/epoch - 15ms/step\n",
      "Epoch 65/100\n",
      "100/100 - 1s - loss: 0.2941 - accuracy: 0.9164 - val_loss: 0.2850 - val_accuracy: 0.9199 - 1s/epoch - 14ms/step\n",
      "Epoch 66/100\n",
      "100/100 - 1s - loss: 0.2927 - accuracy: 0.9168 - val_loss: 0.2847 - val_accuracy: 0.9198 - 1s/epoch - 14ms/step\n",
      "Epoch 67/100\n",
      "100/100 - 1s - loss: 0.2914 - accuracy: 0.9175 - val_loss: 0.2834 - val_accuracy: 0.9209 - 1s/epoch - 14ms/step\n",
      "Epoch 68/100\n",
      "100/100 - 1s - loss: 0.2898 - accuracy: 0.9169 - val_loss: 0.2828 - val_accuracy: 0.9211 - 1s/epoch - 14ms/step\n",
      "Epoch 69/100\n",
      "100/100 - 2s - loss: 0.2885 - accuracy: 0.9180 - val_loss: 0.2806 - val_accuracy: 0.9208 - 2s/epoch - 20ms/step\n",
      "Epoch 70/100\n",
      "100/100 - 1s - loss: 0.2872 - accuracy: 0.9182 - val_loss: 0.2792 - val_accuracy: 0.9213 - 1s/epoch - 15ms/step\n",
      "Epoch 71/100\n",
      "100/100 - 1s - loss: 0.2859 - accuracy: 0.9188 - val_loss: 0.2792 - val_accuracy: 0.9213 - 1s/epoch - 14ms/step\n",
      "Epoch 72/100\n",
      "100/100 - 1s - loss: 0.2847 - accuracy: 0.9188 - val_loss: 0.2773 - val_accuracy: 0.9222 - 1s/epoch - 14ms/step\n",
      "Epoch 73/100\n",
      "100/100 - 1s - loss: 0.2834 - accuracy: 0.9196 - val_loss: 0.2766 - val_accuracy: 0.9227 - 1s/epoch - 14ms/step\n",
      "Epoch 74/100\n",
      "100/100 - 1s - loss: 0.2821 - accuracy: 0.9200 - val_loss: 0.2751 - val_accuracy: 0.9231 - 1s/epoch - 14ms/step\n",
      "Epoch 75/100\n",
      "100/100 - 1s - loss: 0.2807 - accuracy: 0.9205 - val_loss: 0.2740 - val_accuracy: 0.9224 - 1s/epoch - 14ms/step\n",
      "Epoch 76/100\n",
      "100/100 - 1s - loss: 0.2795 - accuracy: 0.9203 - val_loss: 0.2741 - val_accuracy: 0.9226 - 1s/epoch - 14ms/step\n",
      "Epoch 77/100\n",
      "100/100 - 1s - loss: 0.2784 - accuracy: 0.9209 - val_loss: 0.2732 - val_accuracy: 0.9226 - 1s/epoch - 15ms/step\n",
      "Epoch 78/100\n",
      "100/100 - 1s - loss: 0.2772 - accuracy: 0.9214 - val_loss: 0.2715 - val_accuracy: 0.9235 - 1s/epoch - 14ms/step\n",
      "Epoch 79/100\n",
      "100/100 - 1s - loss: 0.2759 - accuracy: 0.9215 - val_loss: 0.2703 - val_accuracy: 0.9231 - 1s/epoch - 14ms/step\n",
      "Epoch 80/100\n",
      "100/100 - 1s - loss: 0.2746 - accuracy: 0.9216 - val_loss: 0.2697 - val_accuracy: 0.9242 - 1s/epoch - 13ms/step\n",
      "Epoch 81/100\n",
      "100/100 - 1s - loss: 0.2735 - accuracy: 0.9224 - val_loss: 0.2689 - val_accuracy: 0.9256 - 1s/epoch - 14ms/step\n",
      "Epoch 82/100\n",
      "100/100 - 1s - loss: 0.2723 - accuracy: 0.9226 - val_loss: 0.2676 - val_accuracy: 0.9251 - 1s/epoch - 15ms/step\n",
      "Epoch 83/100\n",
      "100/100 - 2s - loss: 0.2713 - accuracy: 0.9231 - val_loss: 0.2653 - val_accuracy: 0.9257 - 2s/epoch - 15ms/step\n",
      "Epoch 84/100\n",
      "100/100 - 2s - loss: 0.2701 - accuracy: 0.9231 - val_loss: 0.2650 - val_accuracy: 0.9250 - 2s/epoch - 16ms/step\n",
      "Epoch 85/100\n",
      "100/100 - 1s - loss: 0.2689 - accuracy: 0.9236 - val_loss: 0.2634 - val_accuracy: 0.9262 - 1s/epoch - 13ms/step\n",
      "Epoch 86/100\n",
      "100/100 - 1s - loss: 0.2678 - accuracy: 0.9245 - val_loss: 0.2632 - val_accuracy: 0.9256 - 1s/epoch - 14ms/step\n",
      "Epoch 87/100\n",
      "100/100 - 1s - loss: 0.2666 - accuracy: 0.9243 - val_loss: 0.2627 - val_accuracy: 0.9253 - 1s/epoch - 14ms/step\n",
      "Epoch 88/100\n",
      "100/100 - 1s - loss: 0.2656 - accuracy: 0.9244 - val_loss: 0.2610 - val_accuracy: 0.9262 - 1s/epoch - 14ms/step\n",
      "Epoch 89/100\n",
      "100/100 - 1s - loss: 0.2642 - accuracy: 0.9251 - val_loss: 0.2597 - val_accuracy: 0.9265 - 1s/epoch - 14ms/step\n",
      "Epoch 90/100\n",
      "100/100 - 1s - loss: 0.2632 - accuracy: 0.9254 - val_loss: 0.2580 - val_accuracy: 0.9271 - 1s/epoch - 14ms/step\n",
      "Epoch 91/100\n",
      "100/100 - 1s - loss: 0.2619 - accuracy: 0.9256 - val_loss: 0.2589 - val_accuracy: 0.9269 - 1s/epoch - 14ms/step\n",
      "Epoch 92/100\n",
      "100/100 - 1s - loss: 0.2608 - accuracy: 0.9261 - val_loss: 0.2574 - val_accuracy: 0.9276 - 1s/epoch - 14ms/step\n",
      "Epoch 93/100\n",
      "100/100 - 1s - loss: 0.2599 - accuracy: 0.9268 - val_loss: 0.2557 - val_accuracy: 0.9274 - 1s/epoch - 14ms/step\n",
      "Epoch 94/100\n",
      "100/100 - 1s - loss: 0.2585 - accuracy: 0.9267 - val_loss: 0.2550 - val_accuracy: 0.9277 - 1s/epoch - 14ms/step\n",
      "Epoch 95/100\n",
      "100/100 - 1s - loss: 0.2574 - accuracy: 0.9275 - val_loss: 0.2544 - val_accuracy: 0.9280 - 1s/epoch - 14ms/step\n",
      "Epoch 96/100\n",
      "100/100 - 1s - loss: 0.2563 - accuracy: 0.9273 - val_loss: 0.2527 - val_accuracy: 0.9274 - 1s/epoch - 15ms/step\n",
      "Epoch 97/100\n",
      "100/100 - 1s - loss: 0.2551 - accuracy: 0.9277 - val_loss: 0.2514 - val_accuracy: 0.9290 - 1s/epoch - 15ms/step\n",
      "Epoch 98/100\n",
      "100/100 - 1s - loss: 0.2539 - accuracy: 0.9281 - val_loss: 0.2499 - val_accuracy: 0.9284 - 1s/epoch - 14ms/step\n",
      "Epoch 99/100\n",
      "100/100 - 1s - loss: 0.2527 - accuracy: 0.9287 - val_loss: 0.2505 - val_accuracy: 0.9285 - 1s/epoch - 14ms/step\n",
      "Epoch 100/100\n",
      "100/100 - 1s - loss: 0.2516 - accuracy: 0.9293 - val_loss: 0.2484 - val_accuracy: 0.9304 - 1s/epoch - 14ms/step\n"
     ]
    }
   ],
   "source": [
    "log_dir = \"logs/fit/\" \n",
    "tensorboard_callback = tf.keras.callbacks.TensorBoard(log_dir=log_dir, histogram_freq=1)\n",
    "\n",
    "# training the model and saving metrics in history\n",
    "history = model.fit(X_train, Y_train, validation_data=(X_test, Y_test), verbose=2,\n",
    "          batch_size=600,\n",
    "          epochs=100,\n",
    "          callbacks=[tensorboard_callback]\n",
    "        )\n",
    "\n",
    "## Now take a copy of the weights in the first hidden layer _after_ training on data\n",
    "weights_after_training = model.layers[0].get_weights()[0].copy()\n",
    "weights_after_training.resize(200704)"
   ]
  },
  {
   "cell_type": "markdown",
   "id": "9f49b609",
   "metadata": {},
   "source": [
    "## Q: 5.2\n",
    "\n",
    "##### Why are there 100 steps per epoc in this training? (0.5 marks)"
   ]
  },
  {
   "cell_type": "markdown",
   "id": "849846dd",
   "metadata": {},
   "source": [
    "### Answer:\n",
    "\n",
    "Because since we have decided to use batch training with a batch size of 600, we end up with 60000/600 = 100 mini batches. We iterate over each mini-batch during every epoch in the training phase, hence there will be 100 iterations of training per epoch."
   ]
  },
  {
   "cell_type": "markdown",
   "id": "98ab5c0a",
   "metadata": {},
   "source": [
    "\n",
    "# Problem6: Understanding the training history\n",
    "\n",
    "### Cross-Checking our Model fit\n",
    "\n",
    "The returned history from our fit contains both the accuracy and the loss function over the epocs of training.\n",
    "\n",
    "This information can be accessed via: `history.history[]`\n",
    "\n",
    "We now want to make 2 plots:\n",
    "\n",
    "\n",
    "## 6.1 Plotting Evolution of model Accuracy\n",
    "\n",
    "This plot will show how the accuracy of the model has increased vs epocs of training.\n",
    "\n",
    "This should show for a good model that accuracy increases with the number of epocs.\n",
    "\n",
    "###### Hint:\n",
    "`history.history[accuracy]` vs `history.history[val_accuracy]` give the model accuracy during the training epocs."
   ]
  },
  {
   "cell_type": "code",
   "execution_count": 17,
   "id": "4ee2befc",
   "metadata": {},
   "outputs": [
    {
     "name": "stdout",
     "output_type": "stream",
     "text": [
      "The accuracy of the model using the training dataset is 0.9292833209037781\n",
      "The accuracy of the model using the test dataset is 0.930400013923645\n"
     ]
    },
    {
     "data": {
      "text/plain": [
       "[]"
      ]
     },
     "execution_count": 17,
     "metadata": {},
     "output_type": "execute_result"
    },
    {
     "data": {
      "image/png": "[encoded data removed]",
      "text/plain": [
       "<Figure size 640x480 with 1 Axes>"
      ]
     },
     "metadata": {},
     "output_type": "display_data"
    }
   ],
   "source": [
    "accuracy_training = history.history['accuracy']\n",
    "accuracy_test = history.history['val_accuracy']\n",
    "\n",
    "print(f\"The accuracy of the model using the training dataset is {accuracy_training[-1]}\")\n",
    "print(f\"The accuracy of the model using the test dataset is {accuracy_test[-1]}\")\n",
    "\n",
    "plt.plot(accuracy_test, label=\"test\", c=\"r\")\n",
    "plt.plot(accuracy_training, label=\"train\", c=\"b\")\n",
    "plt.legend()\n",
    "plt.xlabel(\"Epochs\")\n",
    "plt.ylabel(\"Accuracy\")\n",
    "plt.title(\"Accuracy of feed-forward linear network\")\n",
    "plt.plot()"
   ]
  },
  {
   "cell_type": "markdown",
   "id": "4be3e7ac",
   "metadata": {},
   "source": [
    "## 6.2 Plotting Evolution of model losses\n",
    "\n",
    "As above, but now we want to see how the loss function evolves using the `loss` vs `val_loss` parameters vs epoc."
   ]
  },
  {
   "cell_type": "code",
   "execution_count": 18,
   "id": "3e9a49dc-73b9-4c5e-9a81-4e0e0dd73975",
   "metadata": {
    "scrolled": true
   },
   "outputs": [
    {
     "name": "stdout",
     "output_type": "stream",
     "text": [
      "The accuracy of the model using the training dataset is 0.2515643835067749\n",
      "The accuracy of the model using the test dataset is 0.2483908236026764\n"
     ]
    },
    {
     "data": {
      "text/plain": [
       "[]"
      ]
     },
     "execution_count": 18,
     "metadata": {},
     "output_type": "execute_result"
    },
    {
     "data": {
      "image/png": "[encoded data removed]",
      "text/plain": [
       "<Figure size 640x480 with 1 Axes>"
      ]
     },
     "metadata": {},
     "output_type": "display_data"
    }
   ],
   "source": [
    "training_loss = history.history['loss']\n",
    "test_loss = history.history['val_loss']\n",
    "\n",
    "print(f\"The accuracy of the model using the training dataset is {training_loss[-1]}\")\n",
    "print(f\"The accuracy of the model using the test dataset is {test_loss[-1]}\")\n",
    "\n",
    "plt.plot(test_loss, label=\"test\", c=\"r\")\n",
    "plt.plot(training_loss, label=\"train\", c=\"b\")\n",
    "plt.legend()\n",
    "plt.xlabel(\"Epochs\")\n",
    "plt.ylabel(\"Loss function\")\n",
    "plt.title(\"Loss of feed-forward linear network\")\n",
    "plt.plot()"
   ]
  },
  {
   "cell_type": "markdown",
   "id": "0bbf627c",
   "metadata": {},
   "source": [
    "## Q 6.3: Is this model over-trained?"
   ]
  },
  {
   "cell_type": "markdown",
   "id": "76966f52",
   "metadata": {},
   "source": [
    "### Answer:\n",
    "\n",
    "The difference in the accuracy of the model on the training dataset (which it has knowledge of) and the test dataset (which it does not) is in the order of $O(10^{-3})$, hence its performance is almost identical on both datasets.\n",
    "\n",
    "This is indication that the model is sufficiently generalised and therefore is not over trained. \n",
    "\n",
    "The same conclusion is supported when looking at the loss of the model at the end of training, with no significant difference in loss between both datasets.\n",
    "\n",
    "Additionally, while the slope of the of the loss curve is small, it has not plataued for a significantly, indicating that perhapse we may still be able to improve the preformance of the model slightly with some additional epochs of training"
   ]
  },
  {
   "cell_type": "markdown",
   "id": "9894d0cc",
   "metadata": {},
   "source": [
    "\n",
    "# Problem 7: Making predictions\n",
    "\n",
    "### Testing how well our model classifies different numbers\n",
    "\n",
    "In order to test how well our model actually classifies different numbers we need to be able to make predictions using it.\n",
    "\n",
    "Our model is designed to output the probability of each label being true (according to the model).\n",
    "\n",
    "With that in mind we want to get the best value from a single image.\n",
    "\n",
    "\n",
    "Our model has been defined to take an input of shape `(1, 784)`. This allows us to pass many images at a time to the model to either train or to have predictions made on.\n",
    "\n",
    "\n",
    "## 7.1 Predicting with our model\n",
    "\n",
    "### Want to make a prediction using the 10th element of the testing dataset\n",
    "\n",
    "Lets first make a single prediction using our dataset and model.\n",
    "\n",
    "To do this we need to:\n",
    "\n",
    "1. Take the 10th element from our test dataset\n",
    "2. Resize this to match the expected input dimensions from our model\n",
    "3. Make a prediction using this input using `model.predict`\n",
    "4. Make a bar chart showing the predictions from the model.\n",
    "\n",
    "###### Hint: `plt.bar` is useful for plotting the output"
   ]
  },
  {
   "cell_type": "code",
   "execution_count": 19,
   "id": "d8ca3e4a",
   "metadata": {
    "scrolled": true
   },
   "outputs": [
    {
     "name": "stdout",
     "output_type": "stream",
     "text": [
      "1/1 [==============================] - 0s 97ms/step\n"
     ]
    },
    {
     "data": {
      "text/plain": [
       "Text(0, 0.5, 'Probability of prediction')"
      ]
     },
     "execution_count": 19,
     "metadata": {},
     "output_type": "execute_result"
    },
    {
     "data": {
      "image/png": "[encoded data removed]",
      "text/plain": [
       "<Figure size 640x480 with 1 Axes>"
      ]
     },
     "metadata": {},
     "output_type": "display_data"
    }
   ],
   "source": [
    "single_prediction_input = X_test[9]\n",
    "# Expand 0th dimention to get shape (1, 784)\n",
    "single_prediction_input = tf.expand_dims(single_prediction_input, axis=0)\n",
    "prediction = model.predict(single_prediction_input)\n",
    "\n",
    "labels = np.arange(0, 10)\n",
    "plt.bar(labels, prediction[0])\n",
    "plt.title(\"Neural network prediction on input\")\n",
    "plt.xticks(labels)\n",
    "plt.xlabel(\"labels\")\n",
    "plt.ylabel(\"Probability of prediction\")"
   ]
  },
  {
   "cell_type": "markdown",
   "id": "10c132c2",
   "metadata": {},
   "source": [
    "## 7.2 Making a Numerical Prediction\n",
    "\n",
    "The method `argmax` from numpy can help us change this prediction distribution from a vector to a single value.\n",
    "\n",
    "### Predict the number in this image ###"
   ]
  },
  {
   "cell_type": "code",
   "execution_count": 20,
   "id": "858db180",
   "metadata": {},
   "outputs": [
    {
     "name": "stdout",
     "output_type": "stream",
     "text": [
      "The ground truth label is 9\n",
      "The model predicts the input to be 9 with a probability of 0.9470\n"
     ]
    }
   ],
   "source": [
    "print(f\"The ground truth label is {np.argmax(Y_test[9])}\")\n",
    "print(f\"The model predicts the input to be {np.argmax(prediction[0])} with a probability of {np.max(prediction[0]):.4f}\")"
   ]
  },
  {
   "cell_type": "markdown",
   "id": "265939e0",
   "metadata": {},
   "source": [
    "# Problem 8 Testing the model\n",
    "\n",
    "One of the ways we can evaluate how well our model is spearating our input data we can build a confusion matrix.\n",
    "\n",
    "This allows us to see how many numbers are incorrectly identified using a labelled dataset.\n",
    "\n",
    "## Constructing a Confusion Matrix\n",
    "\n",
    "In order to construct a confusion matrix we need to make predictions over a large number of inputs and be able to compare them to labels which are known to be correct.\n",
    "\n",
    "Taking the 'training' dataset can collect numerical predictions using `argmax` for each of the 60,000 entries in the dataset.\n",
    "\n",
    "## 8.1 Make many predictions\n",
    "\n",
    "To collect enough data to produce our confusion matrix we can make predictions over the whole training (or test) dataset."
   ]
  },
  {
   "cell_type": "code",
   "execution_count": 21,
   "id": "396d4c5f",
   "metadata": {},
   "outputs": [
    {
     "name": "stdout",
     "output_type": "stream",
     "text": [
      "313/313 [==============================] - 1s 2ms/step\n"
     ]
    }
   ],
   "source": [
    "# Using test dataset to not bias the results\n",
    "test_predictions = model.predict(X_test)\n",
    "\n",
    "# Find labels for each datapoint\n",
    "test_truth_labels = Y_test.argmax(axis=1)\n",
    "test_truth_predictions = test_predictions.argmax(axis=1)"
   ]
  },
  {
   "cell_type": "markdown",
   "id": "f4cff0da",
   "metadata": {},
   "source": [
    "## 8.2 Plot Confusion Matrix\n",
    "\n",
    "We can now construct a confusion matrix using `tf.math.confusion_matrix` and plot it with `sns.heatmap`."
   ]
  },
  {
   "cell_type": "code",
   "execution_count": 22,
   "id": "7d4c9f83",
   "metadata": {
    "scrolled": true
   },
   "outputs": [
    {
     "data": {
      "image/png": "[encoded data removed]",
      "text/plain": [
       "<Figure size 640x480 with 2 Axes>"
      ]
     },
     "metadata": {},
     "output_type": "display_data"
    }
   ],
   "source": [
    "# Create the confusion matrix\n",
    "confusion_matrix = tf.math.confusion_matrix(\n",
    "    labels=test_truth_labels,\n",
    "    predictions=test_truth_predictions,\n",
    "    num_classes=10\n",
    ")\n",
    "\n",
    "# Import the useful tools for plotting a confusion matrix\n",
    "import seaborn as sns\n",
    "from matplotlib.colors import LogNorm\n",
    "\n",
    "# Plot the confusion matrix using a heatmap\n",
    "sns.heatmap(confusion_matrix, annot=False, cmap='Blues', norm=LogNorm())\n",
    "plt.xlabel('Predicted Labels')\n",
    "plt.ylabel('True Labels')\n",
    "plt.show()\n"
   ]
  },
  {
   "cell_type": "markdown",
   "id": "a7dfdbd9",
   "metadata": {},
   "source": [
    "# 9: Making Predictions with new data\n",
    "\n",
    "Make aure that you download the sample image \n",
    "\n",
    "## 9.1 Load data from `sample_image.png`\n",
    "\n",
    "Complete the load_image method below to load a new numerical image file from disk, resize and normalize the data into a format which we can use with our model."
   ]
  },
  {
   "cell_type": "code",
   "execution_count": 23,
   "id": "2bfdd702",
   "metadata": {},
   "outputs": [],
   "source": [
    "# load and prepare the image\n",
    "def load_image(filename):\n",
    "    # load the image\n",
    "    #img = load_img(filename, target_size=(28, 28), color_mode='grayscale')\n",
    "    img = load_img(filename, target_size=(28, 28), color_mode='grayscale')\n",
    "    # convert to array\n",
    "    img = img_to_array(img)\n",
    " \n",
    "    # Cast to tensor \n",
    "    img = tf.cast(img, tf.float32)\n",
    "    # Normalise\n",
    "    img = normalise_dataset(img, max_value=pixel_value_max)\n",
    "    # Resize\n",
    "    img = tf.reshape(img, shape=[1, -1]) \n",
    "    return img\n",
    "\n",
    "# load the image\n",
    "img = load_image('./sample_image.png')"
   ]
  },
  {
   "cell_type": "markdown",
   "id": "b18bf6ba",
   "metadata": {},
   "source": [
    "## 9.2 Make a prediction on the new data\n",
    "\n",
    "Now that we've loaded the sample file, use our model to make a prediction on this data."
   ]
  },
  {
   "cell_type": "code",
   "execution_count": 24,
   "id": "e74b2097",
   "metadata": {},
   "outputs": [
    {
     "name": "stdout",
     "output_type": "stream",
     "text": [
      "1/1 [==============================] - 0s 20ms/step\n",
      "[[0. 0. 0. 1. 0. 0. 0. 0. 0. 0.]]\n",
      "Prediction: 3\n"
     ]
    },
    {
     "data": {
      "text/plain": [
       "Text(0.5, 0, 'labels')"
      ]
     },
     "execution_count": 24,
     "metadata": {},
     "output_type": "execute_result"
    },
    {
     "data": {
      "image/png": "[encoded data removed]",
      "text/plain": [
       "<Figure size 640x480 with 2 Axes>"
      ]
     },
     "metadata": {},
     "output_type": "display_data"
    }
   ],
   "source": [
    "# predict the class\n",
    "image_prediction = model.predict(img)\n",
    "print(image_prediction)\n",
    "digit = argmax(image_prediction)\n",
    "print('Prediction: {}'.format(digit))\n",
    "\n",
    "fig = plt.figure()\n",
    "plt.subplot(2,1,1)\n",
    "plt.imshow(mpimg.imread('./sample_image.png'), cmap='gray', interpolation='none')\n",
    "plt.title(\"Sample File\")\n",
    "plt.xticks([])\n",
    "plt.yticks([])\n",
    "plt.subplot(2,1,2)\n",
    "\n",
    "\n",
    "plt.bar(labels, image_prediction[0])\n",
    "plt.yscale('log')\n",
    "plt.xticks(np.arange(0,10))\n",
    "\n",
    "plt.title(\"Predicted Value Distribution\")\n",
    "plt.xlabel(\"labels\")"
   ]
  },
  {
   "cell_type": "markdown",
   "id": "9619684a",
   "metadata": {},
   "source": [
    "# Bonus 1: Analyzing Weights\n",
    "\n",
    "Before and after fitting our model we took copies of the weights used in training our dataset.\n",
    "\n",
    "If you construct a histogram of the weights from before fitting what distribution does it follow?\n",
    "\n",
    "## B1.1 Plot weights from before training"
   ]
  },
  {
   "cell_type": "code",
   "execution_count": 25,
   "id": "3319e643",
   "metadata": {
    "scrolled": true
   },
   "outputs": [
    {
     "name": "stdout",
     "output_type": "stream",
     "text": [
      "Uniform distribution. Randomly initialised weights\n"
     ]
    },
    {
     "data": {
      "image/png": "[encoded data removed]",
      "text/plain": [
       "<Figure size 640x480 with 1 Axes>"
      ]
     },
     "metadata": {},
     "output_type": "display_data"
    }
   ],
   "source": [
    "fig = plt.figure()\n",
    "_, _, _ = plt.hist(weights_before_training, bins=500)\n",
    "print(f\"Uniform distribution. Randomly initialised weights\")"
   ]
  },
  {
   "cell_type": "markdown",
   "id": "c7e19657",
   "metadata": {},
   "source": [
    "## B1.2 Plot the weights After training"
   ]
  },
  {
   "cell_type": "code",
   "execution_count": 26,
   "id": "a5ccd256",
   "metadata": {
    "scrolled": true
   },
   "outputs": [
    {
     "name": "stdout",
     "output_type": "stream",
     "text": [
      "Uniform distribution convoluted with a flat/rounded gaussian. GELU as activation.\n"
     ]
    },
    {
     "data": {
      "image/png": "[encoded data removed]",
      "text/plain": [
       "<Figure size 640x480 with 1 Axes>"
      ]
     },
     "metadata": {},
     "output_type": "display_data"
    }
   ],
   "source": [
    "fig = plt.figure()\n",
    "_, _, _ = plt.hist(weights_after_training, bins=500)\n",
    "print(f\"Uniform distribution convoluted with a flat/rounded gaussian. GELU as activation.\")"
   ]
  },
  {
   "cell_type": "markdown",
   "id": "c3c5ec28",
   "metadata": {},
   "source": [
    "## B1.3 Compare the weights\n",
    "\n",
    "Construct a plot comparing the weights before fitting to the values after fitting.\n",
    "\n",
    "##### Hint: You may need to use a log plot in y to see the full distribution(s)"
   ]
  },
  {
   "cell_type": "code",
   "execution_count": 27,
   "id": "59ba82be",
   "metadata": {
    "scrolled": true
   },
   "outputs": [
    {
     "data": {
      "image/png": "[encoded data removed]",
      "text/plain": [
       "<Figure size 640x480 with 1 Axes>"
      ]
     },
     "metadata": {},
     "output_type": "display_data"
    }
   ],
   "source": [
    "fig = plt.figure()\n",
    "plt.hist(weights_after_training, bins=100)\n",
    "plt.hist(weights_before_training, bins=100)\n",
    "plt.yscale('log')"
   ]
  },
  {
   "cell_type": "markdown",
   "id": "8e02b2d4",
   "metadata": {},
   "source": [
    "## B1.4 Q: How might the weights vary if you train the model for an additional 80 steps?"
   ]
  },
  {
   "cell_type": "markdown",
   "id": "62b75f3b",
   "metadata": {},
   "source": [
    "### Answer:\n",
    "\n",
    "We would expect the the weights to be changes even more, the distribution of the weights will start to resemble more the underlying activation function used,hence for GELU, we shoud expect to see a higher proportion of the weights to fall within $1\\sigma$ of the distribution and fewer weights at the tail of the distribution"
   ]
  },
  {
   "cell_type": "markdown",
   "id": "30cab702",
   "metadata": {},
   "source": [
    "## B1.5 Q: How would including a regularizer impact the distribution of weights after training?"
   ]
  },
  {
   "cell_type": "markdown",
   "id": "d87d45f7",
   "metadata": {},
   "source": [
    "### Answer:\n",
    "\n",
    "The goal of regularisation is to combat the weights growing larger as the model trains by adding a penalty term which will reduce the loss function as the weights grow smaller.\n",
    "\n",
    "If the use L1 regularisation, the distribution of our weights will be sparce (populated mostly with 0), hence we expect a gaussian centered on 0 with  smaller variance.\n",
    "\n",
    "If we use L2 regularisation, we expect the overall values of our weights to be smaller but not necesarilly cenetered on 0, hence we expect a gaussian with a higher peak near 0"
   ]
  },
  {
   "cell_type": "markdown",
   "id": "59248c16",
   "metadata": {},
   "source": [
    "# Bonus 2: Loading a model and optimizing it further"
   ]
  },
  {
   "cell_type": "markdown",
   "id": "e9e8c458",
   "metadata": {},
   "source": [
    "## B2.1 Saving our model\n",
    "\n",
    "Lets save our model to disk so we can take it home and use it to identify numbers"
   ]
  },
  {
   "cell_type": "code",
   "execution_count": 28,
   "id": "b92a8476",
   "metadata": {},
   "outputs": [
    {
     "name": "stdout",
     "output_type": "stream",
     "text": [
      "Saved trained model at ./keras_mnist.keras \n"
     ]
    }
   ],
   "source": [
    "# saving the model\n",
    "model_path = './keras_mnist.keras'\n",
    "model.save(model_path)\n",
    "print('Saved trained model at %s ' % model_path)"
   ]
  },
  {
   "cell_type": "markdown",
   "id": "c424cc24",
   "metadata": {},
   "source": [
    "## B2.2 Lets load our model and do some further training\n",
    "\n",
    "We can load a keras model from disk using the `'load_model'` utility."
   ]
  },
  {
   "cell_type": "code",
   "execution_count": 29,
   "id": "07d1c9f7-6ad6-44e8-9ce2-593995954bc6",
   "metadata": {
    "scrolled": true
   },
   "outputs": [
    {
     "name": "stdout",
     "output_type": "stream",
     "text": [
      "Model: \"sequential\"\n",
      "_________________________________________________________________\n",
      " Layer (type)                Output Shape              Param #   \n",
      "=================================================================\n",
      " dense (Dense)               (None, 256)               200960    \n",
      "                                                                 \n",
      " activation (Activation)     (None, 256)               0         \n",
      "                                                                 \n",
      " dense_1 (Dense)             (None, 256)               65792     \n",
      "                                                                 \n",
      " activation_1 (Activation)   (None, 256)               0         \n",
      "                                                                 \n",
      " dense_2 (Dense)             (None, 10)                2570      \n",
      "                                                                 \n",
      " activation_2 (Activation)   (None, 10)                0         \n",
      "                                                                 \n",
      "=================================================================\n",
      "Total params: 269,322\n",
      "Trainable params: 269,322\n",
      "Non-trainable params: 0\n",
      "_________________________________________________________________\n"
     ]
    }
   ],
   "source": [
    "# load model\n",
    "nu_model = load_model('./keras_mnist.keras')\n",
    "nu_model.summary()"
   ]
  },
  {
   "cell_type": "markdown",
   "id": "227e1c59",
   "metadata": {},
   "source": [
    "## B2.3 Make some small changes this time\n",
    "\n",
    "Now we want to try training using the `'Adam'` optimizer so re-compile the model.\n",
    "\n",
    "(If you re-run model.summary you will find it doesn't need to be re-built)\n"
   ]
  },
  {
   "cell_type": "code",
   "execution_count": 30,
   "id": "5b85009f",
   "metadata": {},
   "outputs": [
    {
     "name": "stdout",
     "output_type": "stream",
     "text": [
      "Model: \"sequential\"\n",
      "_________________________________________________________________\n",
      " Layer (type)                Output Shape              Param #   \n",
      "=================================================================\n",
      " dense (Dense)               (None, 256)               200960    \n",
      "                                                                 \n",
      " activation (Activation)     (None, 256)               0         \n",
      "                                                                 \n",
      " dense_1 (Dense)             (None, 256)               65792     \n",
      "                                                                 \n",
      " activation_1 (Activation)   (None, 256)               0         \n",
      "                                                                 \n",
      " dense_2 (Dense)             (None, 10)                2570      \n",
      "                                                                 \n",
      " activation_2 (Activation)   (None, 10)                0         \n",
      "                                                                 \n",
      "=================================================================\n",
      "Total params: 269,322\n",
      "Trainable params: 269,322\n",
      "Non-trainable params: 0\n",
      "_________________________________________________________________\n"
     ]
    }
   ],
   "source": [
    "# compiling the sequential model\n",
    "nu_model.compile(loss='categorical_crossentropy', metrics=['accuracy'], optimizer='Adam')\n",
    "\n",
    "# Print a helpful summary of our model\n",
    "nu_model.summary()"
   ]
  },
  {
   "cell_type": "markdown",
   "id": "9a88cd17",
   "metadata": {},
   "source": [
    "## B2.4 Re-Train\n",
    "\n",
    "We don't have new data to train our model on, but what happens if we continue training with our existing dataset?\n",
    "\n",
    "Re-train as before with the same data and batch/epoch sizes."
   ]
  },
  {
   "cell_type": "code",
   "execution_count": 31,
   "id": "98f0a329",
   "metadata": {},
   "outputs": [
    {
     "name": "stdout",
     "output_type": "stream",
     "text": [
      "Epoch 1/30\n",
      "100/100 - 3s - loss: 0.2367 - accuracy: 0.9333 - val_loss: 0.1727 - val_accuracy: 0.9484 - 3s/epoch - 25ms/step\n",
      "Epoch 2/30\n",
      "100/100 - 2s - loss: 0.1472 - accuracy: 0.9571 - val_loss: 0.1193 - val_accuracy: 0.9647 - 2s/epoch - 17ms/step\n",
      "Epoch 3/30\n",
      "100/100 - 2s - loss: 0.0999 - accuracy: 0.9708 - val_loss: 0.0921 - val_accuracy: 0.9709 - 2s/epoch - 16ms/step\n",
      "Epoch 4/30\n",
      "100/100 - 2s - loss: 0.0736 - accuracy: 0.9781 - val_loss: 0.0781 - val_accuracy: 0.9766 - 2s/epoch - 15ms/step\n",
      "Epoch 5/30\n",
      "100/100 - 1s - loss: 0.0572 - accuracy: 0.9829 - val_loss: 0.0706 - val_accuracy: 0.9780 - 1s/epoch - 15ms/step\n",
      "Epoch 6/30\n",
      "100/100 - 1s - loss: 0.0469 - accuracy: 0.9860 - val_loss: 0.0706 - val_accuracy: 0.9793 - 1s/epoch - 14ms/step\n",
      "Epoch 7/30\n",
      "100/100 - 2s - loss: 0.0371 - accuracy: 0.9884 - val_loss: 0.0630 - val_accuracy: 0.9798 - 2s/epoch - 15ms/step\n",
      "Epoch 8/30\n",
      "100/100 - 1s - loss: 0.0281 - accuracy: 0.9916 - val_loss: 0.0655 - val_accuracy: 0.9794 - 1s/epoch - 15ms/step\n",
      "Epoch 9/30\n",
      "100/100 - 1s - loss: 0.0228 - accuracy: 0.9933 - val_loss: 0.0605 - val_accuracy: 0.9821 - 1s/epoch - 14ms/step\n",
      "Epoch 10/30\n",
      "100/100 - 1s - loss: 0.0186 - accuracy: 0.9947 - val_loss: 0.0611 - val_accuracy: 0.9812 - 1s/epoch - 15ms/step\n",
      "Epoch 11/30\n",
      "100/100 - 2s - loss: 0.0142 - accuracy: 0.9961 - val_loss: 0.0651 - val_accuracy: 0.9805 - 2s/epoch - 15ms/step\n",
      "Epoch 12/30\n",
      "100/100 - 1s - loss: 0.0114 - accuracy: 0.9970 - val_loss: 0.0669 - val_accuracy: 0.9810 - 1s/epoch - 14ms/step\n",
      "Epoch 13/30\n",
      "100/100 - 1s - loss: 0.0100 - accuracy: 0.9974 - val_loss: 0.0653 - val_accuracy: 0.9824 - 1s/epoch - 15ms/step\n",
      "Epoch 14/30\n",
      "100/100 - 2s - loss: 0.0079 - accuracy: 0.9982 - val_loss: 0.0707 - val_accuracy: 0.9805 - 2s/epoch - 15ms/step\n",
      "Epoch 15/30\n",
      "100/100 - 1s - loss: 0.0058 - accuracy: 0.9987 - val_loss: 0.0727 - val_accuracy: 0.9803 - 1s/epoch - 15ms/step\n",
      "Epoch 16/30\n",
      "100/100 - 1s - loss: 0.0052 - accuracy: 0.9989 - val_loss: 0.0733 - val_accuracy: 0.9813 - 1s/epoch - 14ms/step\n",
      "Epoch 17/30\n",
      "100/100 - 2s - loss: 0.0045 - accuracy: 0.9990 - val_loss: 0.0779 - val_accuracy: 0.9805 - 2s/epoch - 16ms/step\n",
      "Epoch 18/30\n",
      "100/100 - 2s - loss: 0.0047 - accuracy: 0.9989 - val_loss: 0.0773 - val_accuracy: 0.9806 - 2s/epoch - 15ms/step\n",
      "Epoch 19/30\n",
      "100/100 - 2s - loss: 0.0040 - accuracy: 0.9991 - val_loss: 0.0825 - val_accuracy: 0.9796 - 2s/epoch - 15ms/step\n",
      "Epoch 20/30\n",
      "100/100 - 2s - loss: 0.0041 - accuracy: 0.9990 - val_loss: 0.0798 - val_accuracy: 0.9814 - 2s/epoch - 15ms/step\n",
      "Epoch 21/30\n",
      "100/100 - 2s - loss: 0.0022 - accuracy: 0.9996 - val_loss: 0.0834 - val_accuracy: 0.9806 - 2s/epoch - 15ms/step\n",
      "Epoch 22/30\n",
      "100/100 - 2s - loss: 0.0013 - accuracy: 0.9999 - val_loss: 0.0763 - val_accuracy: 0.9823 - 2s/epoch - 15ms/step\n",
      "Epoch 23/30\n",
      "100/100 - 1s - loss: 7.5901e-04 - accuracy: 1.0000 - val_loss: 0.0787 - val_accuracy: 0.9818 - 1s/epoch - 15ms/step\n",
      "Epoch 24/30\n",
      "100/100 - 1s - loss: 5.9045e-04 - accuracy: 1.0000 - val_loss: 0.0781 - val_accuracy: 0.9827 - 1s/epoch - 15ms/step\n",
      "Epoch 25/30\n",
      "100/100 - 2s - loss: 4.9238e-04 - accuracy: 1.0000 - val_loss: 0.0791 - val_accuracy: 0.9830 - 2s/epoch - 15ms/step\n",
      "Epoch 26/30\n",
      "100/100 - 1s - loss: 4.3822e-04 - accuracy: 1.0000 - val_loss: 0.0808 - val_accuracy: 0.9828 - 1s/epoch - 15ms/step\n",
      "Epoch 27/30\n",
      "100/100 - 1s - loss: 3.7604e-04 - accuracy: 1.0000 - val_loss: 0.0805 - val_accuracy: 0.9829 - 1s/epoch - 15ms/step\n",
      "Epoch 28/30\n",
      "100/100 - 2s - loss: 3.7715e-04 - accuracy: 1.0000 - val_loss: 0.0830 - val_accuracy: 0.9825 - 2s/epoch - 16ms/step\n",
      "Epoch 29/30\n",
      "100/100 - 1s - loss: 3.2868e-04 - accuracy: 1.0000 - val_loss: 0.0818 - val_accuracy: 0.9832 - 1s/epoch - 15ms/step\n",
      "Epoch 30/30\n",
      "100/100 - 2s - loss: 2.8838e-04 - accuracy: 1.0000 - val_loss: 0.0844 - val_accuracy: 0.9823 - 2s/epoch - 16ms/step\n"
     ]
    }
   ],
   "source": [
    "# training the model and saving metrics in history\n",
    "nu_history = nu_model.fit(X_train, Y_train, validation_data=(X_test, Y_test), verbose=2,\n",
    "          batch_size=600,\n",
    "          epochs=30\n",
    "          )"
   ]
  },
  {
   "cell_type": "markdown",
   "id": "35a1290e",
   "metadata": {},
   "source": [
    "## B2.5 Evaluating Extended Model Accuracy\n",
    "\n",
    "Lets make another set of plots to compare how our model accuracy improved with additional training epochs."
   ]
  },
  {
   "cell_type": "code",
   "execution_count": 32,
   "id": "487f3c26",
   "metadata": {
    "scrolled": true
   },
   "outputs": [
    {
     "data": {
      "text/plain": [
       "<matplotlib.legend.Legend at 0x14ab8e2d0>"
      ]
     },
     "execution_count": 32,
     "metadata": {},
     "output_type": "execute_result"
    },
    {
     "data": {
      "image/png": "[encoded data removed]",
      "text/plain": [
       "<Figure size 640x480 with 1 Axes>"
      ]
     },
     "metadata": {},
     "output_type": "display_data"
    }
   ],
   "source": [
    "accuracy_training = nu_history.history['accuracy']\n",
    "accuracy_test = nu_history.history['val_accuracy']\n",
    "\n",
    "# plotting the metrics\n",
    "fig = plt.figure()\n",
    "plt.plot(accuracy_training)\n",
    "plt.plot(accuracy_test)\n",
    "plt.title('model accuracy')\n",
    "plt.ylabel('accuracy')\n",
    "plt.xlabel('epoch')\n",
    "plt.legend(['train', 'validation'], loc='lower right')"
   ]
  },
  {
   "cell_type": "markdown",
   "id": "de963f38",
   "metadata": {},
   "source": [
    "## B2.6 Compare Extended loss functions\n",
    "\n",
    "As above lets generate some new plots for our loss function evolution"
   ]
  },
  {
   "cell_type": "code",
   "execution_count": 33,
   "id": "dac801c5",
   "metadata": {},
   "outputs": [
    {
     "data": {
      "text/plain": [
       "<matplotlib.legend.Legend at 0x14ce13d50>"
      ]
     },
     "execution_count": 33,
     "metadata": {},
     "output_type": "execute_result"
    },
    {
     "data": {
      "image/png": "[encoded data removed]",
      "text/plain": [
       "<Figure size 640x480 with 1 Axes>"
      ]
     },
     "metadata": {},
     "output_type": "display_data"
    }
   ],
   "source": [
    "training_loss = nu_history.history['loss']\n",
    "validation_loss = nu_history.history['val_loss']\n",
    "\n",
    "# plotting the metrics\n",
    "fig = plt.figure()\n",
    "plt.plot(training_loss)\n",
    "plt.plot(validation_loss)\n",
    "plt.title('model loss')\n",
    "plt.ylabel('loss')\n",
    "plt.xlabel('epoch')\n",
    "plt.legend(['train', 'validation'], loc='upper right')"
   ]
  },
  {
   "cell_type": "markdown",
   "id": "d4acf560",
   "metadata": {},
   "source": [
    "## B2.7 Have we over-trained?\n",
    "\n",
    "Using the above plots do you think we've now over-trained our model?"
   ]
  },
  {
   "cell_type": "markdown",
   "id": "dec6f3cd",
   "metadata": {},
   "source": [
    "### Answer:\n",
    "\n",
    "We see both in the loss plot and accuracy plot a large difference between the preformance of the network on the training dataset compared to the validation dataset (good preformance in train, worse preformance in val).\n",
    "\n",
    "This is a likely indication that the model has learned to fit the statistical noise present in the distribution of the training dataset, reducing the generalisability of the model with data outside of the training dataset. This is a clear sign of over-training/over-fitting.\n",
    "\n",
    "Conclusion we can draw from this: When it comes to classifying MNIST with a linear feed-forward network, SGD optimiser preformes better than Adam."
   ]
  }
 ],
 "metadata": {
  "kernelspec": {
   "display_name": "Python 3 (ipykernel)",
   "language": "python",
   "name": "python3"
  },
  "language_info": {
   "codemirror_mode": {
    "name": "ipython",
    "version": 3
   },
   "file_extension": ".py",
   "mimetype": "text/x-python",
   "name": "python",
   "nbconvert_exporter": "python",
   "pygments_lexer": "ipython3",
   "version": "3.11.5"
  }
 },
 "nbformat": 4,
 "nbformat_minor": 5
}
