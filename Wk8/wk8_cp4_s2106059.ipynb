{
 "cells": [
  {
   "cell_type": "markdown",
   "metadata": {},
   "source": [
    "### DAML WEEK 8 CHECKPOINT 4\n",
    "Week of Nov 6, 2023"
   ]
  },
  {
   "cell_type": "code",
   "execution_count": 1,
   "metadata": {},
   "outputs": [],
   "source": [
    "#==========================#\n",
    "# Import relevant packages #\n",
    "#==========================#\n",
    "\n",
    "\n",
    "import math \n",
    "import numpy as np\n",
    "import random\n",
    "import matplotlib.pyplot as plt\n",
    "from scipy.integrate import quad\n",
    "from scipy.special import erfinv"
   ]
  },
  {
   "cell_type": "markdown",
   "metadata": {},
   "source": [
    "### Classes used to generate events"
   ]
  },
  {
   "cell_type": "code",
   "execution_count": 2,
   "metadata": {},
   "outputs": [],
   "source": [
    "#===========================================================================#\n",
    "# First create the Linear class (used to model the background distribution) #\n",
    "#===========================================================================#\n",
    "\n",
    "\n",
    "class Linear(object):\n",
    "    \n",
    "    #————————————————————————————————————————————————————————#\n",
    "    # Class constructor | initialize an attribute mass array #\n",
    "    #————————————————————————————————————————————————————————#\n",
    "\n",
    "    def __init__(self, intercept, slope, loBound, highBound):\n",
    "\n",
    "        # background para    \n",
    "        self.loBound = loBound\n",
    "        self.highBound = highBound\n",
    "        self.intercept = intercept\n",
    "        self.slope = slope\n",
    "\n",
    "        #initialize an mass list used to store mass values\n",
    "        self.mass = []\n",
    "        \n",
    "\n",
    "    #——————————————————————————————————————————————————————#\n",
    "    # Find maximum value of the distribution within limits #\n",
    "    #——————————————————————————————————————————————————————#\n",
    "\n",
    "    def find_max(self, func, low_limit, high_limit, grid=10000):\n",
    "        x = np.linspace(low_limit, high_limit, num=grid, endpoint=True)\n",
    "        y = func(x)\n",
    "        return y.max()\n",
    "    \n",
    "\n",
    "    #——————————————————————————————————#\n",
    "    # Evaluation method (un-normalize) #\n",
    "    #——————————————————————————————————#\n",
    "\n",
    "    def evaluate (self, t):\n",
    "        return self.intercept + self.slope * t\n",
    "    \n",
    "\n",
    "    #————————————————————————————————————————————————#\n",
    "    # Evaluate the integral of the pdf within limits #\n",
    "    #————————————————————————————————————————————————#\n",
    "\n",
    "    def integrate(self, loBound, highBound):\n",
    "        integral_result, integral_err = quad(self.evaluate, loBound, highBound)\n",
    "        return integral_result\n",
    "\n",
    "\n",
    "    #———————————————————————————————————————————————————————————————#\n",
    "    # Function that generate a single random vars using box method, #\n",
    "    # generated var is returned and appended to the mass list       #\n",
    "    #———————————————————————————————————————————————————————————————#\n",
    "    \n",
    "\n",
    "    def next(self):\n",
    "\n",
    "        doLoop = True\n",
    "        while doLoop==True:\n",
    "            # start with uniform random number in [bounds]\n",
    "            x = np.random.uniform(self.loBound, self.highBound)\n",
    "            y1 = self.evaluate(x)\n",
    "            y2 = np.random.uniform(0, self.find_max(self.evaluate, self.loBound, self.highBound))\n",
    "            if (y2<y1):\n",
    "                filtered_x = x\n",
    "                self.mass.append(filtered_x)\n",
    "                return filtered_x"
   ]
  },
  {
   "cell_type": "code",
   "execution_count": 3,
   "metadata": {},
   "outputs": [],
   "source": [
    "#===================================================================#\n",
    "# Create the Gaussian class (used to model the signal distribution) #\n",
    "#===================================================================#\n",
    "\n",
    "\n",
    "class Gaussian(object):\n",
    "\n",
    "    #————————————————————————————————————————————————————————#\n",
    "    # Class constructor | initialize an attribute mass array #\n",
    "    #————————————————————————————————————————————————————————#\n",
    "\n",
    "    def __init__(self, mean, sigma, loBound, highBound):\n",
    "   \n",
    "        self.loBound = loBound\n",
    "        self.highBound = highBound\n",
    "        self.mean = mean\n",
    "        self.sigma = sigma\n",
    "\n",
    "        #initialize an mass list used to store mass values\n",
    "        self.mass = []\n",
    "    \n",
    "    \n",
    "    #——————————————————————————————————#\n",
    "    # Evaluation method (un-normalize) #\n",
    "    #——————————————————————————————————#\n",
    "\n",
    "    def evaluate(self, x):\n",
    "        return (1/(self.sigma*np.sqrt(2.*np.pi))) * np.exp( -(x-self.mean)**2/(2.*self.sigma**2) )\n",
    "    \n",
    "\n",
    "    #————————————————————————————————————————————————#\n",
    "    # Evaluate the integral of the pdf within limits #\n",
    "    #————————————————————————————————————————————————#\n",
    "\n",
    "    def integrate(self, loBound, highBound):\n",
    "        integral_result, integral_err = quad(self.evaluate, loBound, highBound)\n",
    "        return integral_result\n",
    "    \n",
    "    \n",
    "    #————————————————————————————————————————————————————————————————————#\n",
    "    # Function that generate a single random vars using np.random.normal #\n",
    "    # method generated var is returned and appended to the mass list     #\n",
    "    #————————————————————————————————————————————————————————————————————#\n",
    "\n",
    "    def next(self):\n",
    "        x = np.random.normal(self.mean, self.sigma, size=1).item()\n",
    "        self.mass.append(x)\n",
    "        return x"
   ]
  },
  {
   "cell_type": "code",
   "execution_count": 4,
   "metadata": {},
   "outputs": [],
   "source": [
    "#=========================================================================#\n",
    "# Create a class which will return the sum of the signal and background   #\n",
    "# distributions weighted by the fractions of signal and background events #\n",
    "#=========================================================================#\n",
    "\n",
    "class SignalWithBackground(object):\n",
    "\n",
    "    #————————————————————————————————————————————————————————#\n",
    "    # Class constructor | initialize an attribute mass array #\n",
    "    #————————————————————————————————————————————————————————#\n",
    "\n",
    "    def __init__(self, intercept, slope, sigma, mean, loBound, highBound, signalFraction):\n",
    "        \n",
    "        self.loBound = loBound\n",
    "        self.highBound = highBound\n",
    "        self.signalFraction = signalFraction\n",
    "\n",
    "        # initialize lists for holding randomly generated vals\n",
    "        self.mass_bkg = []\n",
    "        self.mass_sig = []\n",
    "        self.mass = []\n",
    "\n",
    "        # initialize pdf objects\n",
    "        self.signal = Gaussian(mean, sigma, loBound, highBound)\n",
    "        self.bkg = Linear(intercept, slope, loBound, highBound)\n",
    "\n",
    "\n",
    "    #——————————————————————————————————#\n",
    "    # Evaluation method (un-normalize) #\n",
    "    #——————————————————————————————————#\n",
    "\n",
    "    def evaluate(self, x):\n",
    "        return self.signalFraction*self.signal.evaluate(x) + (1-self.signalFraction)* \\\n",
    "            self.bkg.evaluate(x)\n",
    "    \n",
    "\n",
    "    #————————————————————————————————————————————————#\n",
    "    # Evaluate the integral of the pdf within limits #\n",
    "    #————————————————————————————————————————————————#\n",
    "\n",
    "    def integrate(self, loBound, highBound):\n",
    "        integral_result, integral_err = quad(self.evaluate, loBound, highBound)\n",
    "        return integral_result\n",
    "\n",
    "\n",
    "    #————————————————————————————————————————————————————————————————————#\n",
    "    # Function that generate a single random vars using np.random.normal #\n",
    "    # method generated var is returned and appended to the mass list     #\n",
    "    #————————————————————————————————————————————————————————————————————#\n",
    "\n",
    "    def next(self):\n",
    "        \n",
    "        q = np.random.uniform()\n",
    "        if (q<self.signalFraction):\n",
    "            # if here, we will draw x from signal distribution\n",
    "            filtered_x = self.signal.next()\n",
    "            self.mass_sig.append(filtered_x)\n",
    "        else:\n",
    "            # if here, we will draw x from background distribution\n",
    "            filtered_x = self.bkg.next()\n",
    "            self.mass_bkg.append(filtered_x)\n",
    "\n",
    "        self.mass.append(filtered_x)\n",
    "        return filtered_x    "
   ]
  },
  {
   "cell_type": "markdown",
   "metadata": {},
   "source": [
    "### Functions"
   ]
  },
  {
   "cell_type": "code",
   "execution_count": 5,
   "metadata": {},
   "outputs": [],
   "source": [
    "#=========================================================================#\n",
    "# Create a function which puts together the distribution classes and then #\n",
    "# creating a toy dataset.                                                 #\n",
    "#=========================================================================#\n",
    "\n",
    "def single_toy(intercept, slope, sigma, mean, loBound, hiBound, n_evts_sig=300, n_evts_bkg=10000, nbins=100):\n",
    "\n",
    "    sig_frac = n_evts_sig/(n_evts_sig + n_evts_bkg)\n",
    "\n",
    "    # create the pdf\n",
    "    pdf = SignalWithBackground(intercept, slope, sigma, mean, loBound, hiBound, sig_frac)\n",
    "\n",
    "    for i in range(n_evts_sig + n_evts_bkg): pdf.next()\n",
    "\n",
    "    # retrieve the mass values for signal, bkg and their sum\n",
    "    data = pdf.mass\n",
    "    sig_data = pdf.mass_sig\n",
    "    bkg_data = pdf.mass_bkg\n",
    "\n",
    "    # plot things on the same page\n",
    "    myRange = (loBound, hiBound)\n",
    "    fig, axs = plt.subplots(3, 1, sharex='col')\n",
    "\n",
    "    axs[0].set_title('Signal Distribution (%s entries)' % len(sig_data))\n",
    "    axs[1].set_title('Background Distribution (%s entries)' % len(bkg_data))\n",
    "    axs[2].set_title('Total Distribution (%s entries)' % len(data))\n",
    "    axs[2].set_xlabel('x')\n",
    "\n",
    "    axs[0].hist(sig_data, bins=nbins, range=myRange)\n",
    "    axs[1].hist(bkg_data, bins=nbins)\n",
    "    axs[2].hist(data, bins=nbins)\n",
    "    fig.tight_layout()\n",
    "    plt.savefig('plots/Example1.png', dpi=600)\n",
    "    plt.show()\n",
    "    \n",
    "    return pdf"
   ]
  },
  {
   "cell_type": "code",
   "execution_count": 28,
   "metadata": {},
   "outputs": [],
   "source": [
    "#=========================================================================#\n",
    "# Create a function which calculates the p_val and significance val of an #\n",
    "# interval                                                                #\n",
    "#=========================================================================#\n",
    "\n",
    "def find_sig(pdf, interval_lim):\n",
    "\n",
    "    # compute the integral\n",
    "    integral = pdf.integrate(pdf.loBound, pdf.highBound)\n",
    "    interval_integral = pdf.integrate(interval_lim[0], interval_lim[1])\n",
    "\n",
    "    # calculate the p val of prob\n",
    "    p_val = interval_integral/integral\n",
    "\n",
    "    #calculate Z score\n",
    "    n_sigma = np.sqrt(2) * erfinv(1-p_val)\n",
    "    return(p_val, n_sigma)"
   ]
  },
  {
   "cell_type": "markdown",
   "metadata": {},
   "source": [
    "### Code Execution\n",
    "\n",
    "**Question 1**"
   ]
  },
  {
   "cell_type": "code",
   "execution_count": 29,
   "metadata": {},
   "outputs": [],
   "source": [
    "# Define distribution parameters\n",
    "def run_q1():\n",
    "    lolimit = 0.\n",
    "    hilimit = 20.\n",
    "    intercept = 20.\n",
    "    slope = -1.\n",
    "    mean = 10.\n",
    "    sigma = 0.5\n",
    "\n",
    "    # Generate single toy dataset\n",
    "    _ = single_toy(intercept, slope, sigma, mean, lolimit, hilimit)"
   ]
  },
  {
   "cell_type": "code",
   "execution_count": 30,
   "metadata": {},
   "outputs": [
    {
     "data": {
      "image/png": "[encoded data removed]",
      "text/plain": [
       "<Figure size 640x480 with 3 Axes>"
      ]
     },
     "metadata": {},
     "output_type": "display_data"
    }
   ],
   "source": [
    "run_q1()"
   ]
  },
  {
   "cell_type": "markdown",
   "metadata": {},
   "source": [
    "**Question 2**"
   ]
  },
  {
   "cell_type": "code",
   "execution_count": 42,
   "metadata": {},
   "outputs": [],
   "source": [
    "def run_q2():\n",
    "    # Define parameters for gaussian\n",
    "    mean = 10000.\n",
    "    measurement = 10000.+300.\n",
    "    sigma = np.sqrt(mean)\n",
    "    low_limit = mean - 1000.\n",
    "    high_limit = mean + 1000.\n",
    "    interval_limits = (measurement, high_limit)\n",
    "\n",
    "    # Define the gaussian pdf\n",
    "    pdf = Gaussian(mean, sigma, low_limit, high_limit)\n",
    "\n",
    "    p_val, n_sigma = find_sig(pdf, interval_limits)\n",
    "\n",
    "    print('A flutuation of %s events from a mean of %s has a significance of %.3f\\u03C3.' % (int(measurement), int(mean), n_sigma) )"
   ]
  },
  {
   "cell_type": "code",
   "execution_count": 43,
   "metadata": {},
   "outputs": [
    {
     "name": "stdout",
     "output_type": "stream",
     "text": [
      "A flutuation of 10300 events from a mean of 10000 has a significance of 3.205σ.\n"
     ]
    }
   ],
   "source": [
    "run_q2()"
   ]
  },
  {
   "cell_type": "markdown",
   "metadata": {},
   "source": [
    "**Question 3**"
   ]
  },
  {
   "cell_type": "code",
   "execution_count": 52,
   "metadata": {},
   "outputs": [],
   "source": [
    "def run_q3():\n",
    "    # Define parameters for the bkg pdf\n",
    "    slope = -1.\n",
    "    intercept = 20.\n",
    "    low_limit_lin = 0.\n",
    "    high_limit_lin = 20.\n",
    "    low_limit_possible_sig = 5.\n",
    "    high_limit_possible_sig = 15.\n",
    "\n",
    "    # Define parameters for the gaussian here\n",
    "    mean = 0.5*10000. \n",
    "    sigma = np.sqrt(mean)           # This is using Poisson to Gaus distribution approximation\n",
    "    low_lim_gaus = mean - 500.\n",
    "    high_lim_gaus = mean + 500.\n",
    "    measurement = 0.5*10000. + 300.\n",
    "    interval_lim = (measurement, high_lim_gaus)         # The integral limits for k>=10300\n",
    "\n",
    "    # Now, define a linear and a Gaussian pdf\n",
    "    pdf_bkg = Linear(slope, intercept, low_limit_lin, high_limit_lin)\n",
    "    pdf_gaus = Gaussian(mean, sigma, low_lim_gaus, high_lim_gaus)\n",
    "\n",
    "    # Compute the bkg integrals\n",
    "    tot_bkg_integral = pdf_bkg.integrate(low_limit_lin, high_limit_lin)\n",
    "    possible_sig_integral = pdf_bkg.integrate(low_limit_possible_sig, high_limit_possible_sig)\n",
    "\n",
    "    bkg_evt_ratio = possible_sig_integral/tot_bkg_integral\n",
    "\n",
    "    print('The ratio between expected background events between the ranges (%s, %s) and (%s, %s) was found by using integration, with a value of %.2f%%' % \\\n",
    "          (low_limit_lin, high_limit_lin,low_limit_possible_sig, high_limit_possible_sig, bkg_evt_ratio*100))\n",
    "\n",
    "    # Compute significance of having 300 additional events for a background with a 50% in expected background events.\n",
    "    p_val, n_sigma = find_sig(pdf_gaus, interval_lim)\n",
    "\n",
    "    print('A flutuation of %s events from a mean of %s has a significance of %.3f\\u03C3.' % (int(measurement), int(mean), n_sigma) )"
   ]
  },
  {
   "cell_type": "code",
   "execution_count": 53,
   "metadata": {},
   "outputs": [
    {
     "name": "stdout",
     "output_type": "stream",
     "text": [
      "The ratio between expected background events between the ranges (0.0, 20.0) and (5.0, 15.0) was found by using integration, with a value of 50.00%\n",
      "A flutuation of 5300 events from a mean of 5000 has a significance of 4.396σ.\n"
     ]
    }
   ],
   "source": [
    "run_q3()"
   ]
  },
  {
   "cell_type": "markdown",
   "metadata": {},
   "source": [
    "The reasoning behind the increase in the significance between question 2 and 3 arose from the fact that by applying the limits of (5,15), the selection only toss out events generated by the background distribution, while all the events generated from the signal distribution are kept. This results in events generated by the background distribution making up a smaller proportion from the overall total number of events in the distribution. \n",
    "\n",
    "Proportionality of background events in intervals are: \n",
    "\n",
    "(0,20): $\\frac{10000}{10300} = 97.1$%\n",
    "\n",
    "(5,15): $\\frac{5000}{5300} = 94.3$%\n",
    "\n",
    "From the above, with a gaussian distribution of events for a linear background, the distance between the point and mean is \"further\" for the point at 5300 and for the mean at 5000, comparing to the distance between the point and the mean with the point at 10300 and the mean at 10000."
   ]
  },
  {
   "cell_type": "markdown",
   "metadata": {},
   "source": [
    "**Question 4**"
   ]
  },
  {
   "cell_type": "code",
   "execution_count": null,
   "metadata": {},
   "outputs": [],
   "source": [
    "def run_q4():\n",
    "    # Define parameters for the toy dataset generation\n",
    "    slope = -1.\n",
    "    intercept = 20.\n",
    "    sigma = 0.5\n",
    "    mean = 10.\n",
    "    low_lim = 0.\n",
    "    high_lim = 20.\n",
    "    n_event_sig = 150\n",
    "    n_event_bkg = 10000\n",
    "    n_bins = 100\n",
    "    tot_expected_evts = n_event_sig + n_event_bkg\n",
    "    signalFraction = n_event_sig/tot_expected_evts\n",
    "\n",
    "    # generate signalWithBackground obj\n",
    "    pdf = single_toy(intercept, slope, sigma, mean, low_lim, high_lim, n_event_sig)\n",
    "    obs_data = pdf.mass()\n",
    "\n",
    "    # Construct hypothesis obj\n",
    "    \n",
    "\n",
    "    "
   ]
  }
 ],
 "metadata": {
  "kernelspec": {
   "display_name": "daml-environment",
   "language": "python",
   "name": "python3"
  },
  "language_info": {
   "codemirror_mode": {
    "name": "ipython",
    "version": 3
   },
   "file_extension": ".py",
   "mimetype": "text/x-python",
   "name": "python",
   "nbconvert_exporter": "python",
   "pygments_lexer": "ipython3",
   "version": "3.11.6"
  }
 },
 "nbformat": 4,
 "nbformat_minor": 2
}
