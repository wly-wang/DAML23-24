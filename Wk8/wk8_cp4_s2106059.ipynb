{
 "cells": [
  {
   "cell_type": "markdown",
   "metadata": {},
   "source": [
    "### DAML WEEK 8 CHECKPOINT 4\n",
    "Week of Nov 5, 2023"
   ]
  },
  {
   "cell_type": "code",
   "execution_count": null,
   "metadata": {},
   "outputs": [],
   "source": [
    "#==========================#\n",
    "# Import relevant packages #\n",
    "#==========================#\n",
    "\n",
    "\n",
    "import math \n",
    "import numpy as np\n",
    "import matplotlib.pyplot as plt"
   ]
  },
  {
   "cell_type": "markdown",
   "metadata": {},
   "source": [
    "### Problem 1"
   ]
  },
  {
   "cell_type": "code",
   "execution_count": null,
   "metadata": {},
   "outputs": [],
   "source": [
    "#===========================================================================#\n",
    "# First create the Linear class (used to model the background distribution) #\n",
    "#===========================================================================#\n",
    "\n",
    "\n",
    "class Linear(object):\n",
    "    #————————————————————————————————————————————————————————#\n",
    "    # Class constructor | initialize an attribute mass array #\n",
    "    #————————————————————————————————————————————————————————#\n",
    "\n",
    "    def __init__(self):\n",
    "\n",
    "        # background para    \n",
    "        self.xmin = 0.\n",
    "        self.xmax = 20.\n",
    "        self.intercept = 20.\n",
    "        self.slope = -1.\n",
    "\n",
    "        # signal para\n",
    "        self.mean = 10.\n",
    "        self.sigma = 0.5\n",
    "\n",
    "        # chose number of bins that is appropriate for the size of the statistics sample\n",
    "        self.nbins = 100\n",
    "\n",
    "        #initialize an mass list used to store mass values\n",
    "        self.mass = []\n",
    "\n",
    "\n",
    "    #——————————————————————————————————#\n",
    "    # Evaluation method (un-normalize) #\n",
    "    #——————————————————————————————————#\n",
    "\n",
    "    def evaluate (self, t):\n",
    "        return self.intercept + self.slope * t\n",
    "    \n",
    "\n",
    "    \n",
    "        "
   ]
  }
 ],
 "metadata": {
  "language_info": {
   "name": "python"
  }
 },
 "nbformat": 4,
 "nbformat_minor": 2
}
